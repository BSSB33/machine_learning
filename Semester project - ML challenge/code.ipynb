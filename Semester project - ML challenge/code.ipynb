{
 "metadata": {
  "language_info": {
   "codemirror_mode": {
    "name": "ipython",
    "version": 3
   },
   "file_extension": ".py",
   "mimetype": "text/x-python",
   "name": "python",
   "nbconvert_exporter": "python",
   "pygments_lexer": "ipython3",
   "version": "3.8.8"
  },
  "orig_nbformat": 2,
  "kernelspec": {
   "name": "python388jvsc74a57bd02c829f9b014f45ac51ac6981ee268f80d78860744c6a50c09e5b990310b7d8d4",
   "display_name": "Python 3.8.8 64-bit"
  },
  "metadata": {
   "interpreter": {
    "hash": "2c829f9b014f45ac51ac6981ee268f80d78860744c6a50c09e5b990310b7d8d4"
   }
  }
 },
 "nbformat": 4,
 "nbformat_minor": 2,
 "cells": [
  {
   "cell_type": "code",
   "execution_count": 1,
   "metadata": {},
   "outputs": [],
   "source": [
    "import numpy as np\n",
    "import matplotlib.pyplot as plt\n",
    "import pandas as pd\n",
    "from collections import Counter\n",
    "from numpy import mean\n",
    "from numpy import std\n",
    "from pandas import read_csv\n",
    "from sklearn.preprocessing import LabelEncoder\n",
    "from sklearn.model_selection import cross_val_score\n",
    "from sklearn.model_selection import RepeatedStratifiedKFold\n",
    "from sklearn.svm import SVC\n",
    "from sklearn.neighbors import KNeighborsClassifier\n",
    "from sklearn.ensemble import RandomForestClassifier\n",
    "from sklearn.ensemble import ExtraTreesClassifier\n",
    "from sklearn.ensemble import BaggingClassifier\n",
    "from sklearn.preprocessing import StandardScaler\n",
    "from sklearn.preprocessing import MinMaxScaler\n",
    "from sklearn.feature_selection import SelectKBest,chi2,RFE\n",
    "from sklearn.ensemble import RandomForestClassifier\n",
    "from sklearn.model_selection import train_test_split\n",
    "from sklearn.pipeline import Pipeline\n",
    "from sklearn.preprocessing import StandardScaler, LabelEncoder\n",
    "from sklearn.compose import ColumnTransformer\n",
    "from sklearn.preprocessing import OneHotEncoder\n",
    "from sklearn.impute import SimpleImputer\n",
    "from sklearn.preprocessing import OrdinalEncoder"
   ]
  },
  {
   "cell_type": "code",
   "execution_count": 2,
   "metadata": {},
   "outputs": [
    {
     "output_type": "execute_result",
     "data": {
      "text/plain": [
       "   C1  C2  C3  C4  C5  C6  C7  C8  C9 C10  ...    X11    X12    X13    X14  \\\n",
       "0  V1  V1  V1  V1  V1  V1  V2  V1  V3  V5  ...  0.352  0.073 -0.092  1.098   \n",
       "1  V1  V1  V1  V1  V1  V1  V1  V1  V2  V2  ... -1.933 -0.536 -0.092  1.098   \n",
       "2  V1  V1  V1  V1  V1  V1  V1  V1  V2  V2  ... -0.762 -0.536 -0.092  1.098   \n",
       "3  V1  V1  V1  V1  V1  V1  V1  V1  V1  V1  ... -0.505 -0.536 -0.092  0.182   \n",
       "4  V1  V1  V1  V1  V1  V1  V1  V1  V1  V1  ...  0.409 -0.536 -0.092  0.731   \n",
       "\n",
       "     X15    X16    X17    X18    X19  Y  \n",
       "0  0.034  1.160  0.401  0.037  0.216  1  \n",
       "1  0.034  0.716  0.401  0.724  0.216 -1  \n",
       "2  0.034  0.716  0.401  0.712  0.216 -1  \n",
       "3  0.034  0.716  0.401  0.393  0.216  1  \n",
       "4  0.034  0.716  0.401  0.724  0.216  1  \n",
       "\n",
       "[5 rows x 34 columns]"
      ],
      "text/html": "<div>\n<style scoped>\n    .dataframe tbody tr th:only-of-type {\n        vertical-align: middle;\n    }\n\n    .dataframe tbody tr th {\n        vertical-align: top;\n    }\n\n    .dataframe thead th {\n        text-align: right;\n    }\n</style>\n<table border=\"1\" class=\"dataframe\">\n  <thead>\n    <tr style=\"text-align: right;\">\n      <th></th>\n      <th>C1</th>\n      <th>C2</th>\n      <th>C3</th>\n      <th>C4</th>\n      <th>C5</th>\n      <th>C6</th>\n      <th>C7</th>\n      <th>C8</th>\n      <th>C9</th>\n      <th>C10</th>\n      <th>...</th>\n      <th>X11</th>\n      <th>X12</th>\n      <th>X13</th>\n      <th>X14</th>\n      <th>X15</th>\n      <th>X16</th>\n      <th>X17</th>\n      <th>X18</th>\n      <th>X19</th>\n      <th>Y</th>\n    </tr>\n  </thead>\n  <tbody>\n    <tr>\n      <th>0</th>\n      <td>V1</td>\n      <td>V1</td>\n      <td>V1</td>\n      <td>V1</td>\n      <td>V1</td>\n      <td>V1</td>\n      <td>V2</td>\n      <td>V1</td>\n      <td>V3</td>\n      <td>V5</td>\n      <td>...</td>\n      <td>0.352</td>\n      <td>0.073</td>\n      <td>-0.092</td>\n      <td>1.098</td>\n      <td>0.034</td>\n      <td>1.160</td>\n      <td>0.401</td>\n      <td>0.037</td>\n      <td>0.216</td>\n      <td>1</td>\n    </tr>\n    <tr>\n      <th>1</th>\n      <td>V1</td>\n      <td>V1</td>\n      <td>V1</td>\n      <td>V1</td>\n      <td>V1</td>\n      <td>V1</td>\n      <td>V1</td>\n      <td>V1</td>\n      <td>V2</td>\n      <td>V2</td>\n      <td>...</td>\n      <td>-1.933</td>\n      <td>-0.536</td>\n      <td>-0.092</td>\n      <td>1.098</td>\n      <td>0.034</td>\n      <td>0.716</td>\n      <td>0.401</td>\n      <td>0.724</td>\n      <td>0.216</td>\n      <td>-1</td>\n    </tr>\n    <tr>\n      <th>2</th>\n      <td>V1</td>\n      <td>V1</td>\n      <td>V1</td>\n      <td>V1</td>\n      <td>V1</td>\n      <td>V1</td>\n      <td>V1</td>\n      <td>V1</td>\n      <td>V2</td>\n      <td>V2</td>\n      <td>...</td>\n      <td>-0.762</td>\n      <td>-0.536</td>\n      <td>-0.092</td>\n      <td>1.098</td>\n      <td>0.034</td>\n      <td>0.716</td>\n      <td>0.401</td>\n      <td>0.712</td>\n      <td>0.216</td>\n      <td>-1</td>\n    </tr>\n    <tr>\n      <th>3</th>\n      <td>V1</td>\n      <td>V1</td>\n      <td>V1</td>\n      <td>V1</td>\n      <td>V1</td>\n      <td>V1</td>\n      <td>V1</td>\n      <td>V1</td>\n      <td>V1</td>\n      <td>V1</td>\n      <td>...</td>\n      <td>-0.505</td>\n      <td>-0.536</td>\n      <td>-0.092</td>\n      <td>0.182</td>\n      <td>0.034</td>\n      <td>0.716</td>\n      <td>0.401</td>\n      <td>0.393</td>\n      <td>0.216</td>\n      <td>1</td>\n    </tr>\n    <tr>\n      <th>4</th>\n      <td>V1</td>\n      <td>V1</td>\n      <td>V1</td>\n      <td>V1</td>\n      <td>V1</td>\n      <td>V1</td>\n      <td>V1</td>\n      <td>V1</td>\n      <td>V1</td>\n      <td>V1</td>\n      <td>...</td>\n      <td>0.409</td>\n      <td>-0.536</td>\n      <td>-0.092</td>\n      <td>0.731</td>\n      <td>0.034</td>\n      <td>0.716</td>\n      <td>0.401</td>\n      <td>0.724</td>\n      <td>0.216</td>\n      <td>1</td>\n    </tr>\n  </tbody>\n</table>\n<p>5 rows × 34 columns</p>\n</div>"
     },
     "metadata": {},
     "execution_count": 2
    }
   ],
   "source": [
    "df = pd.read_csv(\"train.csv\")\n",
    "new_cols = ['C' + str(i) for i in range(1, 14 + 1)] + ['X' + str(i) for i in range(1, 19 + 2)]\n",
    "new_cols[-1] = 'Y'\n",
    "df.columns = new_cols\n",
    "# -1 = not happening (negative), 1 = happening (positive)\n",
    "#df['Y'].replace({-1 : 0}, inplace=True, regex=True)\n",
    "\n",
    "df.head(5)"
   ]
  },
  {
   "cell_type": "code",
   "execution_count": 3,
   "metadata": {},
   "outputs": [],
   "source": [
    "features = df.loc[:, df.columns != 'Y']\n",
    "numerical_features = df.select_dtypes(include=['float64']).columns\n",
    "categorical_features = df.select_dtypes(include=['object']).columns\n",
    "target = df['Y']"
   ]
  },
  {
   "cell_type": "code",
   "execution_count": 4,
   "metadata": {},
   "outputs": [],
   "source": [
    "from sklearn.impute import SimpleImputer\n",
    "numerical_imputer = SimpleImputer(missing_values=np.nan, strategy='mean')\n",
    "numerical_imputer.fit(df[numerical_features])\n",
    "df[numerical_features] = numerical_imputer.transform(df[numerical_features])\n",
    "\n",
    "categorical_imputer = SimpleImputer(missing_values=np.nan, strategy='most_frequent')\n",
    "categorical_imputer.fit(df[categorical_features])\n",
    "df[categorical_features] = categorical_imputer.transform(df[categorical_features])\n",
    "\n",
    "encoded_df = pd.get_dummies(df)\n",
    "encoded_features = encoded_df.loc[:, encoded_df.columns != 'Y']"
   ]
  },
  {
   "cell_type": "code",
   "execution_count": 5,
   "metadata": {},
   "outputs": [],
   "source": [
    "encoded_df.to_csv(\"export.csv\", index=False)"
   ]
  },
  {
   "cell_type": "code",
   "execution_count": 21,
   "metadata": {},
   "outputs": [
    {
     "output_type": "execute_result",
     "data": {
      "text/plain": [
       "          X1     X2        X3     X4     X5     X6     X7     X8     X9  \\\n",
       "84  -0.00400 -0.862  0.348000  0.110 -0.458  2.717 -1.196  1.215 -1.592   \n",
       "186  1.37800  0.751  1.312000 -0.047  0.706  1.425 -0.099  1.931  1.754   \n",
       "225 -0.28000  0.130  0.823000  1.127  0.189 -0.513  0.997 -0.844 -0.375   \n",
       "308 -0.55700  0.379 -0.127000  5.352 -0.199 -0.513  0.120  0.069 -2.505   \n",
       "238 -1.66300  0.379  0.823000  0.736  0.189  0.456 -0.099 -0.844  0.842   \n",
       "..       ...    ...       ...    ...    ...    ...    ...    ...    ...   \n",
       "310 -0.83300 -0.118  0.007324  0.110  2.128 -0.513 -0.538 -0.844  1.602   \n",
       "277 -0.00400 -1.235 -1.092000 -0.282 -0.070  0.133 -1.196  1.288 -0.071   \n",
       "293 -1.44100 -1.111 -0.617000  0.501 -1.104 -0.513  1.873 -0.844 -1.440   \n",
       "79  -0.55700 -0.242 -0.617000 -0.047 -0.587  1.425  0.339 -0.844  0.537   \n",
       "335  0.03583  1.123 -1.092000 -0.282  0.189 -0.513  2.093  0.120 -1.288   \n",
       "\n",
       "       X10  ...  C12_V1  C12_V2  C12_V3  C13_V1  C13_V2  C13_V3  C13_V4  \\\n",
       "84  -0.924  ...       1       0       0       1       0       0       0   \n",
       "186 -1.445  ...       1       0       0       0       1       0       0   \n",
       "225 -0.241  ...       0       1       0       1       0       0       0   \n",
       "308  0.110  ...       0       1       0       1       0       0       0   \n",
       "238  0.784  ...       1       0       0       0       1       0       0   \n",
       "..     ...  ...     ...     ...     ...     ...     ...     ...     ...   \n",
       "310  1.234  ...       0       0       1       0       1       0       0   \n",
       "277 -1.284  ...       1       0       0       1       0       0       0   \n",
       "293  1.485  ...       0       1       0       1       0       0       0   \n",
       "79   1.234  ...       1       0       0       1       0       0       0   \n",
       "335 -0.133  ...       0       1       0       1       0       0       0   \n",
       "\n",
       "     C13_V5  C14_V1  C14_V2  \n",
       "84        0       0       1  \n",
       "186       0       0       1  \n",
       "225       0       1       0  \n",
       "308       0       0       1  \n",
       "238       0       1       0  \n",
       "..      ...     ...     ...  \n",
       "310       0       0       1  \n",
       "277       0       1       0  \n",
       "293       0       0       1  \n",
       "79        0       1       0  \n",
       "335       0       0       1  \n",
       "\n",
       "[319 rows x 68 columns]"
      ],
      "text/html": "<div>\n<style scoped>\n    .dataframe tbody tr th:only-of-type {\n        vertical-align: middle;\n    }\n\n    .dataframe tbody tr th {\n        vertical-align: top;\n    }\n\n    .dataframe thead th {\n        text-align: right;\n    }\n</style>\n<table border=\"1\" class=\"dataframe\">\n  <thead>\n    <tr style=\"text-align: right;\">\n      <th></th>\n      <th>X1</th>\n      <th>X2</th>\n      <th>X3</th>\n      <th>X4</th>\n      <th>X5</th>\n      <th>X6</th>\n      <th>X7</th>\n      <th>X8</th>\n      <th>X9</th>\n      <th>X10</th>\n      <th>...</th>\n      <th>C12_V1</th>\n      <th>C12_V2</th>\n      <th>C12_V3</th>\n      <th>C13_V1</th>\n      <th>C13_V2</th>\n      <th>C13_V3</th>\n      <th>C13_V4</th>\n      <th>C13_V5</th>\n      <th>C14_V1</th>\n      <th>C14_V2</th>\n    </tr>\n  </thead>\n  <tbody>\n    <tr>\n      <th>84</th>\n      <td>-0.00400</td>\n      <td>-0.862</td>\n      <td>0.348000</td>\n      <td>0.110</td>\n      <td>-0.458</td>\n      <td>2.717</td>\n      <td>-1.196</td>\n      <td>1.215</td>\n      <td>-1.592</td>\n      <td>-0.924</td>\n      <td>...</td>\n      <td>1</td>\n      <td>0</td>\n      <td>0</td>\n      <td>1</td>\n      <td>0</td>\n      <td>0</td>\n      <td>0</td>\n      <td>0</td>\n      <td>0</td>\n      <td>1</td>\n    </tr>\n    <tr>\n      <th>186</th>\n      <td>1.37800</td>\n      <td>0.751</td>\n      <td>1.312000</td>\n      <td>-0.047</td>\n      <td>0.706</td>\n      <td>1.425</td>\n      <td>-0.099</td>\n      <td>1.931</td>\n      <td>1.754</td>\n      <td>-1.445</td>\n      <td>...</td>\n      <td>1</td>\n      <td>0</td>\n      <td>0</td>\n      <td>0</td>\n      <td>1</td>\n      <td>0</td>\n      <td>0</td>\n      <td>0</td>\n      <td>0</td>\n      <td>1</td>\n    </tr>\n    <tr>\n      <th>225</th>\n      <td>-0.28000</td>\n      <td>0.130</td>\n      <td>0.823000</td>\n      <td>1.127</td>\n      <td>0.189</td>\n      <td>-0.513</td>\n      <td>0.997</td>\n      <td>-0.844</td>\n      <td>-0.375</td>\n      <td>-0.241</td>\n      <td>...</td>\n      <td>0</td>\n      <td>1</td>\n      <td>0</td>\n      <td>1</td>\n      <td>0</td>\n      <td>0</td>\n      <td>0</td>\n      <td>0</td>\n      <td>1</td>\n      <td>0</td>\n    </tr>\n    <tr>\n      <th>308</th>\n      <td>-0.55700</td>\n      <td>0.379</td>\n      <td>-0.127000</td>\n      <td>5.352</td>\n      <td>-0.199</td>\n      <td>-0.513</td>\n      <td>0.120</td>\n      <td>0.069</td>\n      <td>-2.505</td>\n      <td>0.110</td>\n      <td>...</td>\n      <td>0</td>\n      <td>1</td>\n      <td>0</td>\n      <td>1</td>\n      <td>0</td>\n      <td>0</td>\n      <td>0</td>\n      <td>0</td>\n      <td>0</td>\n      <td>1</td>\n    </tr>\n    <tr>\n      <th>238</th>\n      <td>-1.66300</td>\n      <td>0.379</td>\n      <td>0.823000</td>\n      <td>0.736</td>\n      <td>0.189</td>\n      <td>0.456</td>\n      <td>-0.099</td>\n      <td>-0.844</td>\n      <td>0.842</td>\n      <td>0.784</td>\n      <td>...</td>\n      <td>1</td>\n      <td>0</td>\n      <td>0</td>\n      <td>0</td>\n      <td>1</td>\n      <td>0</td>\n      <td>0</td>\n      <td>0</td>\n      <td>1</td>\n      <td>0</td>\n    </tr>\n    <tr>\n      <th>...</th>\n      <td>...</td>\n      <td>...</td>\n      <td>...</td>\n      <td>...</td>\n      <td>...</td>\n      <td>...</td>\n      <td>...</td>\n      <td>...</td>\n      <td>...</td>\n      <td>...</td>\n      <td>...</td>\n      <td>...</td>\n      <td>...</td>\n      <td>...</td>\n      <td>...</td>\n      <td>...</td>\n      <td>...</td>\n      <td>...</td>\n      <td>...</td>\n      <td>...</td>\n      <td>...</td>\n    </tr>\n    <tr>\n      <th>310</th>\n      <td>-0.83300</td>\n      <td>-0.118</td>\n      <td>0.007324</td>\n      <td>0.110</td>\n      <td>2.128</td>\n      <td>-0.513</td>\n      <td>-0.538</td>\n      <td>-0.844</td>\n      <td>1.602</td>\n      <td>1.234</td>\n      <td>...</td>\n      <td>0</td>\n      <td>0</td>\n      <td>1</td>\n      <td>0</td>\n      <td>1</td>\n      <td>0</td>\n      <td>0</td>\n      <td>0</td>\n      <td>0</td>\n      <td>1</td>\n    </tr>\n    <tr>\n      <th>277</th>\n      <td>-0.00400</td>\n      <td>-1.235</td>\n      <td>-1.092000</td>\n      <td>-0.282</td>\n      <td>-0.070</td>\n      <td>0.133</td>\n      <td>-1.196</td>\n      <td>1.288</td>\n      <td>-0.071</td>\n      <td>-1.284</td>\n      <td>...</td>\n      <td>1</td>\n      <td>0</td>\n      <td>0</td>\n      <td>1</td>\n      <td>0</td>\n      <td>0</td>\n      <td>0</td>\n      <td>0</td>\n      <td>1</td>\n      <td>0</td>\n    </tr>\n    <tr>\n      <th>293</th>\n      <td>-1.44100</td>\n      <td>-1.111</td>\n      <td>-0.617000</td>\n      <td>0.501</td>\n      <td>-1.104</td>\n      <td>-0.513</td>\n      <td>1.873</td>\n      <td>-0.844</td>\n      <td>-1.440</td>\n      <td>1.485</td>\n      <td>...</td>\n      <td>0</td>\n      <td>1</td>\n      <td>0</td>\n      <td>1</td>\n      <td>0</td>\n      <td>0</td>\n      <td>0</td>\n      <td>0</td>\n      <td>0</td>\n      <td>1</td>\n    </tr>\n    <tr>\n      <th>79</th>\n      <td>-0.55700</td>\n      <td>-0.242</td>\n      <td>-0.617000</td>\n      <td>-0.047</td>\n      <td>-0.587</td>\n      <td>1.425</td>\n      <td>0.339</td>\n      <td>-0.844</td>\n      <td>0.537</td>\n      <td>1.234</td>\n      <td>...</td>\n      <td>1</td>\n      <td>0</td>\n      <td>0</td>\n      <td>1</td>\n      <td>0</td>\n      <td>0</td>\n      <td>0</td>\n      <td>0</td>\n      <td>1</td>\n      <td>0</td>\n    </tr>\n    <tr>\n      <th>335</th>\n      <td>0.03583</td>\n      <td>1.123</td>\n      <td>-1.092000</td>\n      <td>-0.282</td>\n      <td>0.189</td>\n      <td>-0.513</td>\n      <td>2.093</td>\n      <td>0.120</td>\n      <td>-1.288</td>\n      <td>-0.133</td>\n      <td>...</td>\n      <td>0</td>\n      <td>1</td>\n      <td>0</td>\n      <td>1</td>\n      <td>0</td>\n      <td>0</td>\n      <td>0</td>\n      <td>0</td>\n      <td>0</td>\n      <td>1</td>\n    </tr>\n  </tbody>\n</table>\n<p>319 rows × 68 columns</p>\n</div>"
     },
     "metadata": {},
     "execution_count": 21
    }
   ],
   "source": [
    "X_train, X_test, y_train, y_test = train_test_split(encoded_df, target, test_size=0.2)\n",
    "X_train"
   ]
  },
  {
   "cell_type": "code",
   "execution_count": 22,
   "metadata": {},
   "outputs": [],
   "source": [
    "scaler = StandardScaler()\n",
    "X_train = scaler.fit_transform(X_train)\n",
    "X_test = scaler.transform(X_test)"
   ]
  },
  {
   "cell_type": "code",
   "execution_count": 29,
   "metadata": {},
   "outputs": [
    {
     "output_type": "stream",
     "name": "stdout",
     "text": [
      "[[52  0]\n [ 0 28]]\n              precision    recall  f1-score   support\n\n          -1       1.00      1.00      1.00        52\n           1       1.00      1.00      1.00        28\n\n    accuracy                           1.00        80\n   macro avg       1.00      1.00      1.00        80\nweighted avg       1.00      1.00      1.00        80\n\n"
     ]
    }
   ],
   "source": [
    "from sklearn.metrics import classification_report\n",
    "from sklearn.metrics import confusion_matrix\n",
    "\n",
    "#classifier = SVC(gamma='auto')\n",
    "#classifier = BaggingClassifier(n_estimators=1000, base_estimator=SVC(gamma='auto'))\n",
    "classifier = RandomForestClassifier(n_estimators=1000)\n",
    "classifier.fit(X_train, y_train)\n",
    "y_pred = classifier.predict(X_test)\n",
    "\n",
    "\n",
    "cm = confusion_matrix(y_test, y_pred)\n",
    "print(cm)\n",
    "print(classification_report(y_test, y_pred))"
   ]
  },
  {
   "cell_type": "code",
   "execution_count": 24,
   "metadata": {},
   "outputs": [
    {
     "output_type": "stream",
     "name": "stdout",
     "text": [
      ">SVM 0.829 (0.066)\n",
      ">KNN 0.729 (0.075)\n",
      ">BAG 1.000 (0.000)\n",
      "> RF 0.988 (0.034)\n",
      "> ET 0.992 (0.021)\n"
     ]
    }
   ],
   "source": [
    "def evaluate_model(X_train, y_train, X_test, y_test, model):\n",
    "\tcv = RepeatedStratifiedKFold(n_splits=5, n_repeats=3, random_state=1)\n",
    "\tmodel.fit(X_train, y_train)\n",
    "\treturn cross_val_score(model, X_test, y_test, scoring='accuracy', cv=cv, n_jobs=-1)\n",
    "\n",
    "models, names = list(), list()\n",
    "# SVM\n",
    "models.append(SVC(gamma='auto'))\n",
    "names.append('SVM')\n",
    "# KNN\n",
    "models.append(KNeighborsClassifier())\n",
    "names.append('KNN')\n",
    "# Bagging\n",
    "models.append(BaggingClassifier(n_estimators=1000))\n",
    "names.append('BAG')\n",
    "# RF\n",
    "models.append(RandomForestClassifier(n_estimators=1000))\n",
    "names.append(' RF')\n",
    "# ET\n",
    "models.append(ExtraTreesClassifier(n_estimators=1000))\n",
    "names.append(' ET')\n",
    "\n",
    "results = list()\n",
    "for i in range(len(models)):\n",
    "\tscores = evaluate_model(X_train, y_train, X_test, y_test, models[i])\n",
    "\tresults.append(scores)\n",
    "\tprint('>%s %.3f (%.3f)' % (names[i], scores.mean(), scores.std()))"
   ]
  },
  {
   "cell_type": "code",
   "execution_count": 11,
   "metadata": {},
   "outputs": [
    {
     "output_type": "execute_result",
     "data": {
      "text/plain": [
       "'\\nclf = RandomForestClassifier()\\nclf.fit(encoded_features, target)\\n\\nplt.figure(figsize=(20,8))\\nplt.bar(encoded_features.columns, clf.feature_importances_)\\nplt.xticks(rotation=45)\\n'"
      ]
     },
     "metadata": {},
     "execution_count": 11
    }
   ],
   "source": [
    "\"\"\"\n",
    "clf = RandomForestClassifier()\n",
    "clf.fit(encoded_features, target)\n",
    "\n",
    "plt.figure(figsize=(20,8))\n",
    "plt.bar(encoded_features.columns, clf.feature_importances_)\n",
    "plt.xticks(rotation=45)\n",
    "\"\"\""
   ]
  }
 ]
}