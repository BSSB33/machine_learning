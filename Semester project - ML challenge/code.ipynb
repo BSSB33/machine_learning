{
 "metadata": {
  "language_info": {
   "codemirror_mode": {
    "name": "ipython",
    "version": 3
   },
   "file_extension": ".py",
   "mimetype": "text/x-python",
   "name": "python",
   "nbconvert_exporter": "python",
   "pygments_lexer": "ipython3",
   "version": "3.8.8"
  },
  "orig_nbformat": 2,
  "kernelspec": {
   "name": "python388jvsc74a57bd02c829f9b014f45ac51ac6981ee268f80d78860744c6a50c09e5b990310b7d8d4",
   "display_name": "Python 3.8.8 64-bit"
  },
  "metadata": {
   "interpreter": {
    "hash": "2c829f9b014f45ac51ac6981ee268f80d78860744c6a50c09e5b990310b7d8d4"
   }
  }
 },
 "nbformat": 4,
 "nbformat_minor": 2,
 "cells": [
  {
   "cell_type": "code",
   "execution_count": 155,
   "metadata": {},
   "outputs": [],
   "source": [
    "import numpy as np\n",
    "import matplotlib.pyplot as plt\n",
    "import pandas as pd\n",
    "from collections import Counter\n",
    "from numpy import mean\n",
    "from numpy import std\n",
    "from pandas import read_csv\n",
    "from sklearn.preprocessing import LabelEncoder\n",
    "from sklearn.model_selection import cross_val_score\n",
    "from sklearn.model_selection import RepeatedStratifiedKFold\n",
    "from sklearn.svm import SVC\n",
    "from sklearn.neighbors import KNeighborsClassifier\n",
    "from sklearn.ensemble import RandomForestClassifier\n",
    "from sklearn.ensemble import RandomForestRegressor\n",
    "from sklearn.ensemble import ExtraTreesClassifier\n",
    "from sklearn.ensemble import BaggingClassifier\n",
    "from sklearn.preprocessing import StandardScaler\n",
    "from sklearn.preprocessing import MinMaxScaler\n",
    "from sklearn.feature_selection import SelectKBest,chi2,RFE\n",
    "from sklearn.ensemble import RandomForestClassifier\n",
    "from sklearn.model_selection import train_test_split\n",
    "from sklearn.pipeline import Pipeline\n",
    "from sklearn.preprocessing import StandardScaler, LabelEncoder\n",
    "from sklearn.compose import ColumnTransformer\n",
    "from sklearn.preprocessing import OneHotEncoder\n",
    "from sklearn.impute import SimpleImputer\n",
    "from sklearn.preprocessing import OrdinalEncoder"
   ]
  },
  {
   "cell_type": "code",
   "execution_count": 156,
   "metadata": {},
   "outputs": [
    {
     "output_type": "execute_result",
     "data": {
      "text/plain": [
       "      C1  C4  C5   C8  C9 C10 C11 C12  C13 C14  ...     X9    X10    X11  \\\n",
       "0     V1  V1  V1   V1  V1  V1  V1  V1   V1  V1  ... -0.375 -0.924 -0.619   \n",
       "1     V1  V1  V1   V1  V3  V5  V3  V2   V1  V2  ... -0.527  0.820  0.352   \n",
       "2     V1  V1  V1   V1  V2  V2  V1  V2   V1  V1  ... -0.223 -1.823 -1.933   \n",
       "3     V1  V1  V1   V1  V2  V2  V2  V2   V1  V2  ... -0.223 -1.284 -0.762   \n",
       "4     V1  V1  V1   V1  V1  V1  V1  V1   V1  V1  ... -0.375 -0.546 -0.505   \n",
       "..   ...  ..  ..  ...  ..  ..  ..  ..  ...  ..  ...    ...    ...    ...   \n",
       "395  NaN  V3  V1  NaN  V1  V4  V2  V1  NaN  V2  ...  0.172    NaN    NaN   \n",
       "396  NaN  V3  V2   V1  V3  V2  V5  V1  NaN  V2  ...  0.842    NaN    NaN   \n",
       "397  NaN  V3  V2  NaN  V1  V4  V1  V1  NaN  V2  ...  0.242    NaN    NaN   \n",
       "398  NaN  V3  V1  NaN  V1  V8  V1  V1  NaN  V2  ...  0.242    NaN    NaN   \n",
       "399  NaN  V3  V1   V1  V3  V2  V5  V1  NaN  V2  ...  0.689    NaN    NaN   \n",
       "\n",
       "       X12    X13    X14    X15    X16    X17    X18  \n",
       "0   -0.536 -0.092  0.182  0.034 -0.172  0.401  0.393  \n",
       "1    0.073 -0.092  1.098  0.034  1.160  0.401  0.037  \n",
       "2   -0.536 -0.092  1.098  0.034  0.716  0.401  0.724  \n",
       "3   -0.536 -0.092  1.098  0.034  0.716  0.401  0.712  \n",
       "4   -0.536 -0.092  0.182  0.034  0.716  0.401  0.393  \n",
       "..     ...    ...    ...    ...    ...    ...    ...  \n",
       "395    NaN    NaN -2.568  0.034    NaN  0.401  1.890  \n",
       "396    NaN    NaN -4.401 -2.684    NaN  0.401  1.391  \n",
       "397    NaN    NaN  0.548  4.926    NaN  0.401  0.992  \n",
       "398    NaN    NaN -1.651  3.567    NaN  0.401  0.992  \n",
       "399    NaN    NaN  0.182  0.034    NaN  0.401  1.012  \n",
       "\n",
       "[400 rows x 28 columns]"
      ],
      "text/html": "<div>\n<style scoped>\n    .dataframe tbody tr th:only-of-type {\n        vertical-align: middle;\n    }\n\n    .dataframe tbody tr th {\n        vertical-align: top;\n    }\n\n    .dataframe thead th {\n        text-align: right;\n    }\n</style>\n<table border=\"1\" class=\"dataframe\">\n  <thead>\n    <tr style=\"text-align: right;\">\n      <th></th>\n      <th>C1</th>\n      <th>C4</th>\n      <th>C5</th>\n      <th>C8</th>\n      <th>C9</th>\n      <th>C10</th>\n      <th>C11</th>\n      <th>C12</th>\n      <th>C13</th>\n      <th>C14</th>\n      <th>...</th>\n      <th>X9</th>\n      <th>X10</th>\n      <th>X11</th>\n      <th>X12</th>\n      <th>X13</th>\n      <th>X14</th>\n      <th>X15</th>\n      <th>X16</th>\n      <th>X17</th>\n      <th>X18</th>\n    </tr>\n  </thead>\n  <tbody>\n    <tr>\n      <th>0</th>\n      <td>V1</td>\n      <td>V1</td>\n      <td>V1</td>\n      <td>V1</td>\n      <td>V1</td>\n      <td>V1</td>\n      <td>V1</td>\n      <td>V1</td>\n      <td>V1</td>\n      <td>V1</td>\n      <td>...</td>\n      <td>-0.375</td>\n      <td>-0.924</td>\n      <td>-0.619</td>\n      <td>-0.536</td>\n      <td>-0.092</td>\n      <td>0.182</td>\n      <td>0.034</td>\n      <td>-0.172</td>\n      <td>0.401</td>\n      <td>0.393</td>\n    </tr>\n    <tr>\n      <th>1</th>\n      <td>V1</td>\n      <td>V1</td>\n      <td>V1</td>\n      <td>V1</td>\n      <td>V3</td>\n      <td>V5</td>\n      <td>V3</td>\n      <td>V2</td>\n      <td>V1</td>\n      <td>V2</td>\n      <td>...</td>\n      <td>-0.527</td>\n      <td>0.820</td>\n      <td>0.352</td>\n      <td>0.073</td>\n      <td>-0.092</td>\n      <td>1.098</td>\n      <td>0.034</td>\n      <td>1.160</td>\n      <td>0.401</td>\n      <td>0.037</td>\n    </tr>\n    <tr>\n      <th>2</th>\n      <td>V1</td>\n      <td>V1</td>\n      <td>V1</td>\n      <td>V1</td>\n      <td>V2</td>\n      <td>V2</td>\n      <td>V1</td>\n      <td>V2</td>\n      <td>V1</td>\n      <td>V1</td>\n      <td>...</td>\n      <td>-0.223</td>\n      <td>-1.823</td>\n      <td>-1.933</td>\n      <td>-0.536</td>\n      <td>-0.092</td>\n      <td>1.098</td>\n      <td>0.034</td>\n      <td>0.716</td>\n      <td>0.401</td>\n      <td>0.724</td>\n    </tr>\n    <tr>\n      <th>3</th>\n      <td>V1</td>\n      <td>V1</td>\n      <td>V1</td>\n      <td>V1</td>\n      <td>V2</td>\n      <td>V2</td>\n      <td>V2</td>\n      <td>V2</td>\n      <td>V1</td>\n      <td>V2</td>\n      <td>...</td>\n      <td>-0.223</td>\n      <td>-1.284</td>\n      <td>-0.762</td>\n      <td>-0.536</td>\n      <td>-0.092</td>\n      <td>1.098</td>\n      <td>0.034</td>\n      <td>0.716</td>\n      <td>0.401</td>\n      <td>0.712</td>\n    </tr>\n    <tr>\n      <th>4</th>\n      <td>V1</td>\n      <td>V1</td>\n      <td>V1</td>\n      <td>V1</td>\n      <td>V1</td>\n      <td>V1</td>\n      <td>V1</td>\n      <td>V1</td>\n      <td>V1</td>\n      <td>V1</td>\n      <td>...</td>\n      <td>-0.375</td>\n      <td>-0.546</td>\n      <td>-0.505</td>\n      <td>-0.536</td>\n      <td>-0.092</td>\n      <td>0.182</td>\n      <td>0.034</td>\n      <td>0.716</td>\n      <td>0.401</td>\n      <td>0.393</td>\n    </tr>\n    <tr>\n      <th>...</th>\n      <td>...</td>\n      <td>...</td>\n      <td>...</td>\n      <td>...</td>\n      <td>...</td>\n      <td>...</td>\n      <td>...</td>\n      <td>...</td>\n      <td>...</td>\n      <td>...</td>\n      <td>...</td>\n      <td>...</td>\n      <td>...</td>\n      <td>...</td>\n      <td>...</td>\n      <td>...</td>\n      <td>...</td>\n      <td>...</td>\n      <td>...</td>\n      <td>...</td>\n      <td>...</td>\n    </tr>\n    <tr>\n      <th>395</th>\n      <td>NaN</td>\n      <td>V3</td>\n      <td>V1</td>\n      <td>NaN</td>\n      <td>V1</td>\n      <td>V4</td>\n      <td>V2</td>\n      <td>V1</td>\n      <td>NaN</td>\n      <td>V2</td>\n      <td>...</td>\n      <td>0.172</td>\n      <td>NaN</td>\n      <td>NaN</td>\n      <td>NaN</td>\n      <td>NaN</td>\n      <td>-2.568</td>\n      <td>0.034</td>\n      <td>NaN</td>\n      <td>0.401</td>\n      <td>1.890</td>\n    </tr>\n    <tr>\n      <th>396</th>\n      <td>NaN</td>\n      <td>V3</td>\n      <td>V2</td>\n      <td>V1</td>\n      <td>V3</td>\n      <td>V2</td>\n      <td>V5</td>\n      <td>V1</td>\n      <td>NaN</td>\n      <td>V2</td>\n      <td>...</td>\n      <td>0.842</td>\n      <td>NaN</td>\n      <td>NaN</td>\n      <td>NaN</td>\n      <td>NaN</td>\n      <td>-4.401</td>\n      <td>-2.684</td>\n      <td>NaN</td>\n      <td>0.401</td>\n      <td>1.391</td>\n    </tr>\n    <tr>\n      <th>397</th>\n      <td>NaN</td>\n      <td>V3</td>\n      <td>V2</td>\n      <td>NaN</td>\n      <td>V1</td>\n      <td>V4</td>\n      <td>V1</td>\n      <td>V1</td>\n      <td>NaN</td>\n      <td>V2</td>\n      <td>...</td>\n      <td>0.242</td>\n      <td>NaN</td>\n      <td>NaN</td>\n      <td>NaN</td>\n      <td>NaN</td>\n      <td>0.548</td>\n      <td>4.926</td>\n      <td>NaN</td>\n      <td>0.401</td>\n      <td>0.992</td>\n    </tr>\n    <tr>\n      <th>398</th>\n      <td>NaN</td>\n      <td>V3</td>\n      <td>V1</td>\n      <td>NaN</td>\n      <td>V1</td>\n      <td>V8</td>\n      <td>V1</td>\n      <td>V1</td>\n      <td>NaN</td>\n      <td>V2</td>\n      <td>...</td>\n      <td>0.242</td>\n      <td>NaN</td>\n      <td>NaN</td>\n      <td>NaN</td>\n      <td>NaN</td>\n      <td>-1.651</td>\n      <td>3.567</td>\n      <td>NaN</td>\n      <td>0.401</td>\n      <td>0.992</td>\n    </tr>\n    <tr>\n      <th>399</th>\n      <td>NaN</td>\n      <td>V3</td>\n      <td>V1</td>\n      <td>V1</td>\n      <td>V3</td>\n      <td>V2</td>\n      <td>V5</td>\n      <td>V1</td>\n      <td>NaN</td>\n      <td>V2</td>\n      <td>...</td>\n      <td>0.689</td>\n      <td>NaN</td>\n      <td>NaN</td>\n      <td>NaN</td>\n      <td>NaN</td>\n      <td>0.182</td>\n      <td>0.034</td>\n      <td>NaN</td>\n      <td>0.401</td>\n      <td>1.012</td>\n    </tr>\n  </tbody>\n</table>\n<p>400 rows × 28 columns</p>\n</div>"
     },
     "metadata": {},
     "execution_count": 156
    }
   ],
   "source": [
    "df = pd.read_csv(\"train.csv\", header=None)\n",
    "new_cols = ['C' + str(i) for i in range(1, 14 + 1)] + ['X' + str(i) for i in range(1, 19 + 2)]\n",
    "new_cols[-1] = 'Y'\n",
    "df.columns = new_cols\n",
    "\n",
    "features = df.loc[:, df.columns != 'Y']\n",
    "\n",
    "features = features.drop(['C2', 'C3', 'C6', 'C7', 'X19'], axis=1)\n",
    "\n",
    "numerical_features = features.select_dtypes(include=['float64']).columns\n",
    "categorical_features = features.select_dtypes(include=['object']).columns\n",
    "target = df['Y']\n",
    "\n",
    "features"
   ]
  },
  {
   "cell_type": "code",
   "execution_count": 200,
   "metadata": {},
   "outputs": [
    {
     "output_type": "stream",
     "name": "stdout",
     "text": [
      "68.77637130801688\n"
     ]
    }
   ],
   "source": [
    "print((np.count_nonzero(target == 1)/np.count_nonzero(target == -1)) * 100)"
   ]
  },
  {
   "cell_type": "code",
   "execution_count": 158,
   "metadata": {},
   "outputs": [],
   "source": [
    "X_train, X_test, y_train, y_test = train_test_split(features, target, random_state=31, test_size=0.2) #32 is good"
   ]
  },
  {
   "cell_type": "code",
   "execution_count": 159,
   "metadata": {},
   "outputs": [
    {
     "output_type": "stream",
     "name": "stderr",
     "text": [
      "C:\\Users\\Gábor\\AppData\\Local\\Programs\\Python\\Python38\\lib\\site-packages\\sklearn\\impute\\_iterative.py:685: ConvergenceWarning: [IterativeImputer] Early stopping criterion not reached.\n  warnings.warn(\"[IterativeImputer] Early stopping criterion not\"\nC:\\Users\\Gábor\\AppData\\Local\\Programs\\Python\\Python38\\lib\\site-packages\\pandas\\core\\indexing.py:1738: SettingWithCopyWarning: \nA value is trying to be set on a copy of a slice from a DataFrame.\nTry using .loc[row_indexer,col_indexer] = value instead\n\nSee the caveats in the documentation: https://pandas.pydata.org/pandas-docs/stable/user_guide/indexing.html#returning-a-view-versus-a-copy\n  self._setitem_single_column(loc, value[:, i].tolist(), pi)\nC:\\Users\\Gábor\\AppData\\Local\\Programs\\Python\\Python38\\lib\\site-packages\\pandas\\core\\indexing.py:1738: SettingWithCopyWarning: \nA value is trying to be set on a copy of a slice from a DataFrame.\nTry using .loc[row_indexer,col_indexer] = value instead\n\nSee the caveats in the documentation: https://pandas.pydata.org/pandas-docs/stable/user_guide/indexing.html#returning-a-view-versus-a-copy\n  self._setitem_single_column(loc, value[:, i].tolist(), pi)\nC:\\Users\\Gábor\\AppData\\Local\\Programs\\Python\\Python38\\lib\\site-packages\\pandas\\core\\indexing.py:1738: SettingWithCopyWarning: \nA value is trying to be set on a copy of a slice from a DataFrame.\nTry using .loc[row_indexer,col_indexer] = value instead\n\nSee the caveats in the documentation: https://pandas.pydata.org/pandas-docs/stable/user_guide/indexing.html#returning-a-view-versus-a-copy\n  self._setitem_single_column(loc, value[:, i].tolist(), pi)\nC:\\Users\\Gábor\\AppData\\Local\\Programs\\Python\\Python38\\lib\\site-packages\\pandas\\core\\indexing.py:1738: SettingWithCopyWarning: \nA value is trying to be set on a copy of a slice from a DataFrame.\nTry using .loc[row_indexer,col_indexer] = value instead\n\nSee the caveats in the documentation: https://pandas.pydata.org/pandas-docs/stable/user_guide/indexing.html#returning-a-view-versus-a-copy\n  self._setitem_single_column(loc, value[:, i].tolist(), pi)\n"
     ]
    },
    {
     "output_type": "execute_result",
     "data": {
      "text/plain": [
       "     C1  C4  C5  C8  C9 C10 C11 C12 C13 C14  ...     X9       X10       X11  \\\n",
       "233  V1  V1  V1  V1  V3  V5  V3  V2  V5  V1  ... -1.315 -0.744000 -0.705000   \n",
       "8    V2  V2  V2  V2  V4  V6  V2  V2  V1  V1  ... -1.288  1.234000 -0.305000   \n",
       "300  V1  V1  V1  V2  V2  V2  V2  V2  V1  V2  ... -2.505  0.568000  0.752000   \n",
       "136  V1  V1  V1  V1  V4  V6  V5  V2  V1  V1  ... -1.288 -0.528000  1.237000   \n",
       "38   V2  V2  V2  V1  V1  V1  V3  V1  V2  V1  ... -0.680  0.568000  0.752000   \n",
       "..   ..  ..  ..  ..  ..  ..  ..  ..  ..  ..  ...    ...       ...       ...   \n",
       "98   V1  V1  V3  V2  V3  V5  V1  V2  V1  V2  ... -0.527 -0.025000  0.095000   \n",
       "382  V2  V2  V2  V1  V3  V3  V1  V2  V1  V1  ... -0.984 -0.304494  0.101797   \n",
       "16   V2  V1  V2  V1  V1  V4  V2  V1  V3  V1  ...  0.994  0.335000 -1.162000   \n",
       "87   V2  V2  V2  V1  V1  V7  V2  V1  V2  V2  ...  1.754 -0.924000  0.523000   \n",
       "210  V1  V1  V1  V1  V2  V3  V2  V2  V1  V2  ...  0.233 -1.104000 -1.133000   \n",
       "\n",
       "          X12       X13    X14    X15       X16       X17       X18  \n",
       "233  0.276000 -0.092000  0.548  0.034  0.827000  0.401000  2.247000  \n",
       "8   -0.536000 -0.092000  0.182  0.034  1.160000  0.401000  0.037000  \n",
       "300 -0.536000 -0.092000  0.915  0.034  1.160000  0.401000  0.682000  \n",
       "136 -0.536000 -0.092000 -0.735 -1.325  1.160000  0.401000 -1.244000  \n",
       "38   1.495000 -0.092000 -1.285 -0.238 -1.060000  0.401000  0.017000  \n",
       "..        ...       ...    ...    ...       ...       ...       ...  \n",
       "98  -0.536000 -0.092000  1.098 -1.053  2.269000 -0.340983 -0.349686  \n",
       "382 -0.207761 -0.024935  0.182 -1.053  0.094492  0.401000  1.211000  \n",
       "16  -0.536000 -0.092000  0.182  0.034  0.050000  0.401000  0.872000  \n",
       "87  -0.536000 -0.092000  0.182  0.305 -1.060000  0.401000  0.018000  \n",
       "210 -0.536000 -0.092000  0.915 -0.782  1.160000  0.401000  0.053000  \n",
       "\n",
       "[320 rows x 28 columns]"
      ],
      "text/html": "<div>\n<style scoped>\n    .dataframe tbody tr th:only-of-type {\n        vertical-align: middle;\n    }\n\n    .dataframe tbody tr th {\n        vertical-align: top;\n    }\n\n    .dataframe thead th {\n        text-align: right;\n    }\n</style>\n<table border=\"1\" class=\"dataframe\">\n  <thead>\n    <tr style=\"text-align: right;\">\n      <th></th>\n      <th>C1</th>\n      <th>C4</th>\n      <th>C5</th>\n      <th>C8</th>\n      <th>C9</th>\n      <th>C10</th>\n      <th>C11</th>\n      <th>C12</th>\n      <th>C13</th>\n      <th>C14</th>\n      <th>...</th>\n      <th>X9</th>\n      <th>X10</th>\n      <th>X11</th>\n      <th>X12</th>\n      <th>X13</th>\n      <th>X14</th>\n      <th>X15</th>\n      <th>X16</th>\n      <th>X17</th>\n      <th>X18</th>\n    </tr>\n  </thead>\n  <tbody>\n    <tr>\n      <th>233</th>\n      <td>V1</td>\n      <td>V1</td>\n      <td>V1</td>\n      <td>V1</td>\n      <td>V3</td>\n      <td>V5</td>\n      <td>V3</td>\n      <td>V2</td>\n      <td>V5</td>\n      <td>V1</td>\n      <td>...</td>\n      <td>-1.315</td>\n      <td>-0.744000</td>\n      <td>-0.705000</td>\n      <td>0.276000</td>\n      <td>-0.092000</td>\n      <td>0.548</td>\n      <td>0.034</td>\n      <td>0.827000</td>\n      <td>0.401000</td>\n      <td>2.247000</td>\n    </tr>\n    <tr>\n      <th>8</th>\n      <td>V2</td>\n      <td>V2</td>\n      <td>V2</td>\n      <td>V2</td>\n      <td>V4</td>\n      <td>V6</td>\n      <td>V2</td>\n      <td>V2</td>\n      <td>V1</td>\n      <td>V1</td>\n      <td>...</td>\n      <td>-1.288</td>\n      <td>1.234000</td>\n      <td>-0.305000</td>\n      <td>-0.536000</td>\n      <td>-0.092000</td>\n      <td>0.182</td>\n      <td>0.034</td>\n      <td>1.160000</td>\n      <td>0.401000</td>\n      <td>0.037000</td>\n    </tr>\n    <tr>\n      <th>300</th>\n      <td>V1</td>\n      <td>V1</td>\n      <td>V1</td>\n      <td>V2</td>\n      <td>V2</td>\n      <td>V2</td>\n      <td>V2</td>\n      <td>V2</td>\n      <td>V1</td>\n      <td>V2</td>\n      <td>...</td>\n      <td>-2.505</td>\n      <td>0.568000</td>\n      <td>0.752000</td>\n      <td>-0.536000</td>\n      <td>-0.092000</td>\n      <td>0.915</td>\n      <td>0.034</td>\n      <td>1.160000</td>\n      <td>0.401000</td>\n      <td>0.682000</td>\n    </tr>\n    <tr>\n      <th>136</th>\n      <td>V1</td>\n      <td>V1</td>\n      <td>V1</td>\n      <td>V1</td>\n      <td>V4</td>\n      <td>V6</td>\n      <td>V5</td>\n      <td>V2</td>\n      <td>V1</td>\n      <td>V1</td>\n      <td>...</td>\n      <td>-1.288</td>\n      <td>-0.528000</td>\n      <td>1.237000</td>\n      <td>-0.536000</td>\n      <td>-0.092000</td>\n      <td>-0.735</td>\n      <td>-1.325</td>\n      <td>1.160000</td>\n      <td>0.401000</td>\n      <td>-1.244000</td>\n    </tr>\n    <tr>\n      <th>38</th>\n      <td>V2</td>\n      <td>V2</td>\n      <td>V2</td>\n      <td>V1</td>\n      <td>V1</td>\n      <td>V1</td>\n      <td>V3</td>\n      <td>V1</td>\n      <td>V2</td>\n      <td>V1</td>\n      <td>...</td>\n      <td>-0.680</td>\n      <td>0.568000</td>\n      <td>0.752000</td>\n      <td>1.495000</td>\n      <td>-0.092000</td>\n      <td>-1.285</td>\n      <td>-0.238</td>\n      <td>-1.060000</td>\n      <td>0.401000</td>\n      <td>0.017000</td>\n    </tr>\n    <tr>\n      <th>...</th>\n      <td>...</td>\n      <td>...</td>\n      <td>...</td>\n      <td>...</td>\n      <td>...</td>\n      <td>...</td>\n      <td>...</td>\n      <td>...</td>\n      <td>...</td>\n      <td>...</td>\n      <td>...</td>\n      <td>...</td>\n      <td>...</td>\n      <td>...</td>\n      <td>...</td>\n      <td>...</td>\n      <td>...</td>\n      <td>...</td>\n      <td>...</td>\n      <td>...</td>\n      <td>...</td>\n    </tr>\n    <tr>\n      <th>98</th>\n      <td>V1</td>\n      <td>V1</td>\n      <td>V3</td>\n      <td>V2</td>\n      <td>V3</td>\n      <td>V5</td>\n      <td>V1</td>\n      <td>V2</td>\n      <td>V1</td>\n      <td>V2</td>\n      <td>...</td>\n      <td>-0.527</td>\n      <td>-0.025000</td>\n      <td>0.095000</td>\n      <td>-0.536000</td>\n      <td>-0.092000</td>\n      <td>1.098</td>\n      <td>-1.053</td>\n      <td>2.269000</td>\n      <td>-0.340983</td>\n      <td>-0.349686</td>\n    </tr>\n    <tr>\n      <th>382</th>\n      <td>V2</td>\n      <td>V2</td>\n      <td>V2</td>\n      <td>V1</td>\n      <td>V3</td>\n      <td>V3</td>\n      <td>V1</td>\n      <td>V2</td>\n      <td>V1</td>\n      <td>V1</td>\n      <td>...</td>\n      <td>-0.984</td>\n      <td>-0.304494</td>\n      <td>0.101797</td>\n      <td>-0.207761</td>\n      <td>-0.024935</td>\n      <td>0.182</td>\n      <td>-1.053</td>\n      <td>0.094492</td>\n      <td>0.401000</td>\n      <td>1.211000</td>\n    </tr>\n    <tr>\n      <th>16</th>\n      <td>V2</td>\n      <td>V1</td>\n      <td>V2</td>\n      <td>V1</td>\n      <td>V1</td>\n      <td>V4</td>\n      <td>V2</td>\n      <td>V1</td>\n      <td>V3</td>\n      <td>V1</td>\n      <td>...</td>\n      <td>0.994</td>\n      <td>0.335000</td>\n      <td>-1.162000</td>\n      <td>-0.536000</td>\n      <td>-0.092000</td>\n      <td>0.182</td>\n      <td>0.034</td>\n      <td>0.050000</td>\n      <td>0.401000</td>\n      <td>0.872000</td>\n    </tr>\n    <tr>\n      <th>87</th>\n      <td>V2</td>\n      <td>V2</td>\n      <td>V2</td>\n      <td>V1</td>\n      <td>V1</td>\n      <td>V7</td>\n      <td>V2</td>\n      <td>V1</td>\n      <td>V2</td>\n      <td>V2</td>\n      <td>...</td>\n      <td>1.754</td>\n      <td>-0.924000</td>\n      <td>0.523000</td>\n      <td>-0.536000</td>\n      <td>-0.092000</td>\n      <td>0.182</td>\n      <td>0.305</td>\n      <td>-1.060000</td>\n      <td>0.401000</td>\n      <td>0.018000</td>\n    </tr>\n    <tr>\n      <th>210</th>\n      <td>V1</td>\n      <td>V1</td>\n      <td>V1</td>\n      <td>V1</td>\n      <td>V2</td>\n      <td>V3</td>\n      <td>V2</td>\n      <td>V2</td>\n      <td>V1</td>\n      <td>V2</td>\n      <td>...</td>\n      <td>0.233</td>\n      <td>-1.104000</td>\n      <td>-1.133000</td>\n      <td>-0.536000</td>\n      <td>-0.092000</td>\n      <td>0.915</td>\n      <td>-0.782</td>\n      <td>1.160000</td>\n      <td>0.401000</td>\n      <td>0.053000</td>\n    </tr>\n  </tbody>\n</table>\n<p>320 rows × 28 columns</p>\n</div>"
     },
     "metadata": {},
     "execution_count": 159
    }
   ],
   "source": [
    "from sklearn.impute import SimpleImputer\n",
    "from sklearn.experimental import enable_iterative_imputer\n",
    "from sklearn.impute import IterativeImputer\n",
    "\n",
    "#TODO Experiment with strategies\n",
    "iterative_numerical_imputer = IterativeImputer(max_iter=10)\n",
    "iterative_numerical_imputer.fit(X_train[numerical_features])\n",
    "X_train.loc[:, numerical_features] = iterative_numerical_imputer.transform(X_train.loc[:, numerical_features])\n",
    "X_test.loc[:, numerical_features] = iterative_numerical_imputer.transform(X_test.loc[:, numerical_features])\n",
    "\n",
    "categorical_imputer = SimpleImputer(missing_values=np.nan, strategy='most_frequent')\n",
    "categorical_imputer.fit(X_train[categorical_features])\n",
    "X_train.loc[:, categorical_features] = categorical_imputer.transform(X_train.loc[:, categorical_features])\n",
    "X_test.loc[:, categorical_features] = categorical_imputer.transform(X_test.loc[:, categorical_features])\n",
    "\n",
    "X_train"
   ]
  },
  {
   "cell_type": "code",
   "execution_count": 160,
   "metadata": {},
   "outputs": [
    {
     "output_type": "execute_result",
     "data": {
      "text/plain": [
       "           X1     X2        X3        X4     X5        X6        X7        X8  \\\n",
       "233  1.655000 -0.614  0.823000 -0.131849  0.189 -0.513000  2.093000  0.967000   \n",
       "8   -0.059141 -0.738 -0.617000 -0.282000  1.094  1.425000  0.229000 -0.844000   \n",
       "300 -0.557000  0.379  0.348000 -0.438000  1.094 -0.010909 -0.209000 -0.844000   \n",
       "136  1.378000  0.627  3.226000 -1.221000 -0.716  0.133000  0.625503 -0.202000   \n",
       "38  -2.215000 -1.607 -0.617000 -1.064000 -1.104 -0.513000 -0.648000 -0.844000   \n",
       "..        ...    ...       ...       ...    ...       ...       ...       ...   \n",
       "98   0.549000  1.743  0.579488  1.283000  2.775 -0.513000  2.312000 -0.026000   \n",
       "382  0.207479  0.130 -1.092000  0.501000 -0.458 -2.128000 -0.648000  0.249716   \n",
       "16   0.549000 -0.738  0.348000 -0.282000 -0.328  1.425000 -0.099000  0.324000   \n",
       "87   0.217000 -0.986 -0.127000  0.501000  0.189 -0.836000 -0.099000  0.485000   \n",
       "210  2.207000  1.123 -0.127000 -0.673000  0.189 -2.451000  0.777000  1.464000   \n",
       "\n",
       "        X9       X10  ...  C12_V1  C12_V2  C12_V3  C13_V1  C13_V2  C13_V3  \\\n",
       "233 -1.315 -0.744000  ...       0       1       0       0       0       0   \n",
       "8   -1.288  1.234000  ...       0       1       0       1       0       0   \n",
       "300 -2.505  0.568000  ...       0       1       0       1       0       0   \n",
       "136 -1.288 -0.528000  ...       0       1       0       1       0       0   \n",
       "38  -0.680  0.568000  ...       1       0       0       0       1       0   \n",
       "..     ...       ...  ...     ...     ...     ...     ...     ...     ...   \n",
       "98  -0.527 -0.025000  ...       0       1       0       1       0       0   \n",
       "382 -0.984 -0.304494  ...       0       1       0       1       0       0   \n",
       "16   0.994  0.335000  ...       1       0       0       0       0       1   \n",
       "87   1.754 -0.924000  ...       1       0       0       0       1       0   \n",
       "210  0.233 -1.104000  ...       0       1       0       1       0       0   \n",
       "\n",
       "     C13_V4  C13_V5  C14_V1  C14_V2  \n",
       "233       0       1       1       0  \n",
       "8         0       0       1       0  \n",
       "300       0       0       0       1  \n",
       "136       0       0       1       0  \n",
       "38        0       0       1       0  \n",
       "..      ...     ...     ...     ...  \n",
       "98        0       0       0       1  \n",
       "382       0       0       1       0  \n",
       "16        0       0       1       0  \n",
       "87        0       0       0       1  \n",
       "210       0       0       0       1  \n",
       "\n",
       "[320 rows x 57 columns]"
      ],
      "text/html": "<div>\n<style scoped>\n    .dataframe tbody tr th:only-of-type {\n        vertical-align: middle;\n    }\n\n    .dataframe tbody tr th {\n        vertical-align: top;\n    }\n\n    .dataframe thead th {\n        text-align: right;\n    }\n</style>\n<table border=\"1\" class=\"dataframe\">\n  <thead>\n    <tr style=\"text-align: right;\">\n      <th></th>\n      <th>X1</th>\n      <th>X2</th>\n      <th>X3</th>\n      <th>X4</th>\n      <th>X5</th>\n      <th>X6</th>\n      <th>X7</th>\n      <th>X8</th>\n      <th>X9</th>\n      <th>X10</th>\n      <th>...</th>\n      <th>C12_V1</th>\n      <th>C12_V2</th>\n      <th>C12_V3</th>\n      <th>C13_V1</th>\n      <th>C13_V2</th>\n      <th>C13_V3</th>\n      <th>C13_V4</th>\n      <th>C13_V5</th>\n      <th>C14_V1</th>\n      <th>C14_V2</th>\n    </tr>\n  </thead>\n  <tbody>\n    <tr>\n      <th>233</th>\n      <td>1.655000</td>\n      <td>-0.614</td>\n      <td>0.823000</td>\n      <td>-0.131849</td>\n      <td>0.189</td>\n      <td>-0.513000</td>\n      <td>2.093000</td>\n      <td>0.967000</td>\n      <td>-1.315</td>\n      <td>-0.744000</td>\n      <td>...</td>\n      <td>0</td>\n      <td>1</td>\n      <td>0</td>\n      <td>0</td>\n      <td>0</td>\n      <td>0</td>\n      <td>0</td>\n      <td>1</td>\n      <td>1</td>\n      <td>0</td>\n    </tr>\n    <tr>\n      <th>8</th>\n      <td>-0.059141</td>\n      <td>-0.738</td>\n      <td>-0.617000</td>\n      <td>-0.282000</td>\n      <td>1.094</td>\n      <td>1.425000</td>\n      <td>0.229000</td>\n      <td>-0.844000</td>\n      <td>-1.288</td>\n      <td>1.234000</td>\n      <td>...</td>\n      <td>0</td>\n      <td>1</td>\n      <td>0</td>\n      <td>1</td>\n      <td>0</td>\n      <td>0</td>\n      <td>0</td>\n      <td>0</td>\n      <td>1</td>\n      <td>0</td>\n    </tr>\n    <tr>\n      <th>300</th>\n      <td>-0.557000</td>\n      <td>0.379</td>\n      <td>0.348000</td>\n      <td>-0.438000</td>\n      <td>1.094</td>\n      <td>-0.010909</td>\n      <td>-0.209000</td>\n      <td>-0.844000</td>\n      <td>-2.505</td>\n      <td>0.568000</td>\n      <td>...</td>\n      <td>0</td>\n      <td>1</td>\n      <td>0</td>\n      <td>1</td>\n      <td>0</td>\n      <td>0</td>\n      <td>0</td>\n      <td>0</td>\n      <td>0</td>\n      <td>1</td>\n    </tr>\n    <tr>\n      <th>136</th>\n      <td>1.378000</td>\n      <td>0.627</td>\n      <td>3.226000</td>\n      <td>-1.221000</td>\n      <td>-0.716</td>\n      <td>0.133000</td>\n      <td>0.625503</td>\n      <td>-0.202000</td>\n      <td>-1.288</td>\n      <td>-0.528000</td>\n      <td>...</td>\n      <td>0</td>\n      <td>1</td>\n      <td>0</td>\n      <td>1</td>\n      <td>0</td>\n      <td>0</td>\n      <td>0</td>\n      <td>0</td>\n      <td>1</td>\n      <td>0</td>\n    </tr>\n    <tr>\n      <th>38</th>\n      <td>-2.215000</td>\n      <td>-1.607</td>\n      <td>-0.617000</td>\n      <td>-1.064000</td>\n      <td>-1.104</td>\n      <td>-0.513000</td>\n      <td>-0.648000</td>\n      <td>-0.844000</td>\n      <td>-0.680</td>\n      <td>0.568000</td>\n      <td>...</td>\n      <td>1</td>\n      <td>0</td>\n      <td>0</td>\n      <td>0</td>\n      <td>1</td>\n      <td>0</td>\n      <td>0</td>\n      <td>0</td>\n      <td>1</td>\n      <td>0</td>\n    </tr>\n    <tr>\n      <th>...</th>\n      <td>...</td>\n      <td>...</td>\n      <td>...</td>\n      <td>...</td>\n      <td>...</td>\n      <td>...</td>\n      <td>...</td>\n      <td>...</td>\n      <td>...</td>\n      <td>...</td>\n      <td>...</td>\n      <td>...</td>\n      <td>...</td>\n      <td>...</td>\n      <td>...</td>\n      <td>...</td>\n      <td>...</td>\n      <td>...</td>\n      <td>...</td>\n      <td>...</td>\n      <td>...</td>\n    </tr>\n    <tr>\n      <th>98</th>\n      <td>0.549000</td>\n      <td>1.743</td>\n      <td>0.579488</td>\n      <td>1.283000</td>\n      <td>2.775</td>\n      <td>-0.513000</td>\n      <td>2.312000</td>\n      <td>-0.026000</td>\n      <td>-0.527</td>\n      <td>-0.025000</td>\n      <td>...</td>\n      <td>0</td>\n      <td>1</td>\n      <td>0</td>\n      <td>1</td>\n      <td>0</td>\n      <td>0</td>\n      <td>0</td>\n      <td>0</td>\n      <td>0</td>\n      <td>1</td>\n    </tr>\n    <tr>\n      <th>382</th>\n      <td>0.207479</td>\n      <td>0.130</td>\n      <td>-1.092000</td>\n      <td>0.501000</td>\n      <td>-0.458</td>\n      <td>-2.128000</td>\n      <td>-0.648000</td>\n      <td>0.249716</td>\n      <td>-0.984</td>\n      <td>-0.304494</td>\n      <td>...</td>\n      <td>0</td>\n      <td>1</td>\n      <td>0</td>\n      <td>1</td>\n      <td>0</td>\n      <td>0</td>\n      <td>0</td>\n      <td>0</td>\n      <td>1</td>\n      <td>0</td>\n    </tr>\n    <tr>\n      <th>16</th>\n      <td>0.549000</td>\n      <td>-0.738</td>\n      <td>0.348000</td>\n      <td>-0.282000</td>\n      <td>-0.328</td>\n      <td>1.425000</td>\n      <td>-0.099000</td>\n      <td>0.324000</td>\n      <td>0.994</td>\n      <td>0.335000</td>\n      <td>...</td>\n      <td>1</td>\n      <td>0</td>\n      <td>0</td>\n      <td>0</td>\n      <td>0</td>\n      <td>1</td>\n      <td>0</td>\n      <td>0</td>\n      <td>1</td>\n      <td>0</td>\n    </tr>\n    <tr>\n      <th>87</th>\n      <td>0.217000</td>\n      <td>-0.986</td>\n      <td>-0.127000</td>\n      <td>0.501000</td>\n      <td>0.189</td>\n      <td>-0.836000</td>\n      <td>-0.099000</td>\n      <td>0.485000</td>\n      <td>1.754</td>\n      <td>-0.924000</td>\n      <td>...</td>\n      <td>1</td>\n      <td>0</td>\n      <td>0</td>\n      <td>0</td>\n      <td>1</td>\n      <td>0</td>\n      <td>0</td>\n      <td>0</td>\n      <td>0</td>\n      <td>1</td>\n    </tr>\n    <tr>\n      <th>210</th>\n      <td>2.207000</td>\n      <td>1.123</td>\n      <td>-0.127000</td>\n      <td>-0.673000</td>\n      <td>0.189</td>\n      <td>-2.451000</td>\n      <td>0.777000</td>\n      <td>1.464000</td>\n      <td>0.233</td>\n      <td>-1.104000</td>\n      <td>...</td>\n      <td>0</td>\n      <td>1</td>\n      <td>0</td>\n      <td>1</td>\n      <td>0</td>\n      <td>0</td>\n      <td>0</td>\n      <td>0</td>\n      <td>0</td>\n      <td>1</td>\n    </tr>\n  </tbody>\n</table>\n<p>320 rows × 57 columns</p>\n</div>"
     },
     "metadata": {},
     "execution_count": 160
    }
   ],
   "source": [
    "X_train_len = len(X_train)\n",
    "X = pd.concat([X_train, X_test])\n",
    "X = pd.get_dummies(X)\n",
    "X_train = X[:X_train_len]\n",
    "X_test = X[X_train_len:]\n",
    "X_train"
   ]
  },
  {
   "cell_type": "code",
   "execution_count": 161,
   "metadata": {},
   "outputs": [],
   "source": [
    "#X.to_csv(\"save\\X.csv\", index=False)\n",
    "#X_train.to_csv(\"save\\X_train.csv\", index=False)\n",
    "#X_test.to_csv(\"save\\X_test.csv\", index=False)"
   ]
  },
  {
   "cell_type": "code",
   "execution_count": 162,
   "metadata": {},
   "outputs": [
    {
     "output_type": "execute_result",
     "data": {
      "text/plain": [
       "([0,\n",
       "  1,\n",
       "  2,\n",
       "  3,\n",
       "  4,\n",
       "  5,\n",
       "  6,\n",
       "  7,\n",
       "  8,\n",
       "  9,\n",
       "  10,\n",
       "  11,\n",
       "  12,\n",
       "  13,\n",
       "  14,\n",
       "  15,\n",
       "  16,\n",
       "  17,\n",
       "  18,\n",
       "  19,\n",
       "  20,\n",
       "  21,\n",
       "  22,\n",
       "  23,\n",
       "  24,\n",
       "  25,\n",
       "  26,\n",
       "  27,\n",
       "  28,\n",
       "  29,\n",
       "  30,\n",
       "  31,\n",
       "  32,\n",
       "  33,\n",
       "  34,\n",
       "  35,\n",
       "  36,\n",
       "  37,\n",
       "  38,\n",
       "  39,\n",
       "  40,\n",
       "  41,\n",
       "  42,\n",
       "  43,\n",
       "  44,\n",
       "  45,\n",
       "  46,\n",
       "  47,\n",
       "  48,\n",
       "  49,\n",
       "  50,\n",
       "  51,\n",
       "  52,\n",
       "  53,\n",
       "  54,\n",
       "  55,\n",
       "  56],\n",
       " [Text(0, 0, ''),\n",
       "  Text(0, 0, ''),\n",
       "  Text(0, 0, ''),\n",
       "  Text(0, 0, ''),\n",
       "  Text(0, 0, ''),\n",
       "  Text(0, 0, ''),\n",
       "  Text(0, 0, ''),\n",
       "  Text(0, 0, ''),\n",
       "  Text(0, 0, ''),\n",
       "  Text(0, 0, ''),\n",
       "  Text(0, 0, ''),\n",
       "  Text(0, 0, ''),\n",
       "  Text(0, 0, ''),\n",
       "  Text(0, 0, ''),\n",
       "  Text(0, 0, ''),\n",
       "  Text(0, 0, ''),\n",
       "  Text(0, 0, ''),\n",
       "  Text(0, 0, ''),\n",
       "  Text(0, 0, ''),\n",
       "  Text(0, 0, ''),\n",
       "  Text(0, 0, ''),\n",
       "  Text(0, 0, ''),\n",
       "  Text(0, 0, ''),\n",
       "  Text(0, 0, ''),\n",
       "  Text(0, 0, ''),\n",
       "  Text(0, 0, ''),\n",
       "  Text(0, 0, ''),\n",
       "  Text(0, 0, ''),\n",
       "  Text(0, 0, ''),\n",
       "  Text(0, 0, ''),\n",
       "  Text(0, 0, ''),\n",
       "  Text(0, 0, ''),\n",
       "  Text(0, 0, ''),\n",
       "  Text(0, 0, ''),\n",
       "  Text(0, 0, ''),\n",
       "  Text(0, 0, ''),\n",
       "  Text(0, 0, ''),\n",
       "  Text(0, 0, ''),\n",
       "  Text(0, 0, ''),\n",
       "  Text(0, 0, ''),\n",
       "  Text(0, 0, ''),\n",
       "  Text(0, 0, ''),\n",
       "  Text(0, 0, ''),\n",
       "  Text(0, 0, ''),\n",
       "  Text(0, 0, ''),\n",
       "  Text(0, 0, ''),\n",
       "  Text(0, 0, ''),\n",
       "  Text(0, 0, ''),\n",
       "  Text(0, 0, ''),\n",
       "  Text(0, 0, ''),\n",
       "  Text(0, 0, ''),\n",
       "  Text(0, 0, ''),\n",
       "  Text(0, 0, ''),\n",
       "  Text(0, 0, ''),\n",
       "  Text(0, 0, ''),\n",
       "  Text(0, 0, ''),\n",
       "  Text(0, 0, '')])"
      ]
     },
     "metadata": {},
     "execution_count": 162
    },
    {
     "output_type": "display_data",
     "data": {
      "text/plain": "<Figure size 720x360 with 1 Axes>",
      "image/svg+xml": "<?xml version=\"1.0\" encoding=\"utf-8\" standalone=\"no\"?>\r\n<!DOCTYPE svg PUBLIC \"-//W3C//DTD SVG 1.1//EN\"\r\n  \"http://www.w3.org/Graphics/SVG/1.1/DTD/svg11.dtd\">\r\n<!-- Created with matplotlib (https://matplotlib.org/) -->\r\n<svg height=\"331.110937pt\" version=\"1.1\" viewBox=\"0 0 601.665625 331.110937\" width=\"601.665625pt\" xmlns=\"http://www.w3.org/2000/svg\" xmlns:xlink=\"http://www.w3.org/1999/xlink\">\r\n <metadata>\r\n  <rdf:RDF xmlns:cc=\"http://creativecommons.org/ns#\" xmlns:dc=\"http://purl.org/dc/elements/1.1/\" xmlns:rdf=\"http://www.w3.org/1999/02/22-rdf-syntax-ns#\">\r\n   <cc:Work>\r\n    <dc:type rdf:resource=\"http://purl.org/dc/dcmitype/StillImage\"/>\r\n    <dc:date>2021-05-25T12:50:39.697469</dc:date>\r\n    <dc:format>image/svg+xml</dc:format>\r\n    <dc:creator>\r\n     <cc:Agent>\r\n      <dc:title>Matplotlib v3.3.4, https://matplotlib.org/</dc:title>\r\n     </cc:Agent>\r\n    </dc:creator>\r\n   </cc:Work>\r\n  </rdf:RDF>\r\n </metadata>\r\n <defs>\r\n  <style type=\"text/css\">*{stroke-linecap:butt;stroke-linejoin:round;}</style>\r\n </defs>\r\n <g id=\"figure_1\">\r\n  <g id=\"patch_1\">\r\n   <path d=\"M 0 331.110937 \r\nL 601.665625 331.110937 \r\nL 601.665625 0 \r\nL 0 0 \r\nz\r\n\" style=\"fill:none;\"/>\r\n  </g>\r\n  <g id=\"axes_1\">\r\n   <g id=\"patch_2\">\r\n    <path d=\"M 36.465625 279 \r\nL 594.465625 279 \r\nL 594.465625 7.2 \r\nL 36.465625 7.2 \r\nz\r\n\" style=\"fill:#ffffff;\"/>\r\n   </g>\r\n   <g id=\"patch_3\">\r\n    <path clip-path=\"url(#pe02020c8fd)\" d=\"M 61.829261 279 \r\nL 68.973948 279 \r\nL 68.973948 94.193284 \r\nL 61.829261 94.193284 \r\nz\r\n\" style=\"fill:#1f77b4;\"/>\r\n   </g>\r\n   <g id=\"patch_4\">\r\n    <path clip-path=\"url(#pe02020c8fd)\" d=\"M 70.760119 279 \r\nL 77.904806 279 \r\nL 77.904806 147.187673 \r\nL 70.760119 147.187673 \r\nz\r\n\" style=\"fill:#1f77b4;\"/>\r\n   </g>\r\n   <g id=\"patch_5\">\r\n    <path clip-path=\"url(#pe02020c8fd)\" d=\"M 79.690977 279 \r\nL 86.835663 279 \r\nL 86.835663 179.517653 \r\nL 79.690977 179.517653 \r\nz\r\n\" style=\"fill:#1f77b4;\"/>\r\n   </g>\r\n   <g id=\"patch_6\">\r\n    <path clip-path=\"url(#pe02020c8fd)\" d=\"M 88.621835 279 \r\nL 95.766521 279 \r\nL 95.766521 77.759871 \r\nL 88.621835 77.759871 \r\nz\r\n\" style=\"fill:#1f77b4;\"/>\r\n   </g>\r\n   <g id=\"patch_7\">\r\n    <path clip-path=\"url(#pe02020c8fd)\" d=\"M 97.552693 279 \r\nL 104.697379 279 \r\nL 104.697379 123.641962 \r\nL 97.552693 123.641962 \r\nz\r\n\" style=\"fill:#1f77b4;\"/>\r\n   </g>\r\n   <g id=\"patch_8\">\r\n    <path clip-path=\"url(#pe02020c8fd)\" d=\"M 106.483551 279 \r\nL 113.628237 279 \r\nL 113.628237 152.209006 \r\nL 106.483551 152.209006 \r\nz\r\n\" style=\"fill:#1f77b4;\"/>\r\n   </g>\r\n   <g id=\"patch_9\">\r\n    <path clip-path=\"url(#pe02020c8fd)\" d=\"M 115.414409 279 \r\nL 122.559095 279 \r\nL 122.559095 139.561001 \r\nL 115.414409 139.561001 \r\nz\r\n\" style=\"fill:#1f77b4;\"/>\r\n   </g>\r\n   <g id=\"patch_10\">\r\n    <path clip-path=\"url(#pe02020c8fd)\" d=\"M 124.345266 279 \r\nL 131.489953 279 \r\nL 131.489953 144.276489 \r\nL 124.345266 144.276489 \r\nz\r\n\" style=\"fill:#1f77b4;\"/>\r\n   </g>\r\n   <g id=\"patch_11\">\r\n    <path clip-path=\"url(#pe02020c8fd)\" d=\"M 133.276124 279 \r\nL 140.420811 279 \r\nL 140.420811 103.442474 \r\nL 133.276124 103.442474 \r\nz\r\n\" style=\"fill:#1f77b4;\"/>\r\n   </g>\r\n   <g id=\"patch_12\">\r\n    <path clip-path=\"url(#pe02020c8fd)\" d=\"M 142.206982 279 \r\nL 149.351669 279 \r\nL 149.351669 83.488288 \r\nL 142.206982 83.488288 \r\nz\r\n\" style=\"fill:#1f77b4;\"/>\r\n   </g>\r\n   <g id=\"patch_13\">\r\n    <path clip-path=\"url(#pe02020c8fd)\" d=\"M 151.13784 279 \r\nL 158.282526 279 \r\nL 158.282526 121.566021 \r\nL 151.13784 121.566021 \r\nz\r\n\" style=\"fill:#1f77b4;\"/>\r\n   </g>\r\n   <g id=\"patch_14\">\r\n    <path clip-path=\"url(#pe02020c8fd)\" d=\"M 160.068698 279 \r\nL 167.213384 279 \r\nL 167.213384 109.337091 \r\nL 160.068698 109.337091 \r\nz\r\n\" style=\"fill:#1f77b4;\"/>\r\n   </g>\r\n   <g id=\"patch_15\">\r\n    <path clip-path=\"url(#pe02020c8fd)\" d=\"M 168.999556 279 \r\nL 176.144242 279 \r\nL 176.144242 20.142857 \r\nL 168.999556 20.142857 \r\nz\r\n\" style=\"fill:#1f77b4;\"/>\r\n   </g>\r\n   <g id=\"patch_16\">\r\n    <path clip-path=\"url(#pe02020c8fd)\" d=\"M 177.930414 279 \r\nL 185.0751 279 \r\nL 185.0751 182.331929 \r\nL 177.930414 182.331929 \r\nz\r\n\" style=\"fill:#1f77b4;\"/>\r\n   </g>\r\n   <g id=\"patch_17\">\r\n    <path clip-path=\"url(#pe02020c8fd)\" d=\"M 186.861272 279 \r\nL 194.005958 279 \r\nL 194.005958 142.217387 \r\nL 186.861272 142.217387 \r\nz\r\n\" style=\"fill:#1f77b4;\"/>\r\n   </g>\r\n   <g id=\"patch_18\">\r\n    <path clip-path=\"url(#pe02020c8fd)\" d=\"M 195.792129 279 \r\nL 202.936816 279 \r\nL 202.936816 155.943271 \r\nL 195.792129 155.943271 \r\nz\r\n\" style=\"fill:#1f77b4;\"/>\r\n   </g>\r\n   <g id=\"patch_19\">\r\n    <path clip-path=\"url(#pe02020c8fd)\" d=\"M 204.722987 279 \r\nL 211.867674 279 \r\nL 211.867674 219.2777 \r\nL 204.722987 219.2777 \r\nz\r\n\" style=\"fill:#1f77b4;\"/>\r\n   </g>\r\n   <g id=\"patch_20\">\r\n    <path clip-path=\"url(#pe02020c8fd)\" d=\"M 213.653845 279 \r\nL 220.798532 279 \r\nL 220.798532 139.387648 \r\nL 213.653845 139.387648 \r\nz\r\n\" style=\"fill:#1f77b4;\"/>\r\n   </g>\r\n   <g id=\"patch_21\">\r\n    <path clip-path=\"url(#pe02020c8fd)\" d=\"M 222.584703 279 \r\nL 229.729389 279 \r\nL 229.729389 255.028336 \r\nL 222.584703 255.028336 \r\nz\r\n\" style=\"fill:#1f77b4;\"/>\r\n   </g>\r\n   <g id=\"patch_22\">\r\n    <path clip-path=\"url(#pe02020c8fd)\" d=\"M 231.515561 279 \r\nL 238.660247 279 \r\nL 238.660247 259.449124 \r\nL 231.515561 259.449124 \r\nz\r\n\" style=\"fill:#1f77b4;\"/>\r\n   </g>\r\n   <g id=\"patch_23\">\r\n    <path clip-path=\"url(#pe02020c8fd)\" d=\"M 240.446419 279 \r\nL 247.591105 279 \r\nL 247.591105 250.583563 \r\nL 240.446419 250.583563 \r\nz\r\n\" style=\"fill:#1f77b4;\"/>\r\n   </g>\r\n   <g id=\"patch_24\">\r\n    <path clip-path=\"url(#pe02020c8fd)\" d=\"M 249.377277 279 \r\nL 256.521963 279 \r\nL 256.521963 256.857244 \r\nL 249.377277 256.857244 \r\nz\r\n\" style=\"fill:#1f77b4;\"/>\r\n   </g>\r\n   <g id=\"patch_25\">\r\n    <path clip-path=\"url(#pe02020c8fd)\" d=\"M 258.308135 279 \r\nL 265.452821 279 \r\nL 265.452821 198.173582 \r\nL 258.308135 198.173582 \r\nz\r\n\" style=\"fill:#1f77b4;\"/>\r\n   </g>\r\n   <g id=\"patch_26\">\r\n    <path clip-path=\"url(#pe02020c8fd)\" d=\"M 267.238992 279 \r\nL 274.383679 279 \r\nL 274.383679 250.312091 \r\nL 267.238992 250.312091 \r\nz\r\n\" style=\"fill:#1f77b4;\"/>\r\n   </g>\r\n   <g id=\"patch_27\">\r\n    <path clip-path=\"url(#pe02020c8fd)\" d=\"M 276.16985 279 \r\nL 283.314537 279 \r\nL 283.314537 242.64784 \r\nL 276.16985 242.64784 \r\nz\r\n\" style=\"fill:#1f77b4;\"/>\r\n   </g>\r\n   <g id=\"patch_28\">\r\n    <path clip-path=\"url(#pe02020c8fd)\" d=\"M 285.100708 279 \r\nL 292.245395 279 \r\nL 292.245395 224.297472 \r\nL 285.100708 224.297472 \r\nz\r\n\" style=\"fill:#1f77b4;\"/>\r\n   </g>\r\n   <g id=\"patch_29\">\r\n    <path clip-path=\"url(#pe02020c8fd)\" d=\"M 294.031566 279 \r\nL 301.176252 279 \r\nL 301.176252 237.759444 \r\nL 294.031566 237.759444 \r\nz\r\n\" style=\"fill:#1f77b4;\"/>\r\n   </g>\r\n   <g id=\"patch_30\">\r\n    <path clip-path=\"url(#pe02020c8fd)\" d=\"M 302.962424 279 \r\nL 310.10711 279 \r\nL 310.10711 245.035777 \r\nL 302.962424 245.035777 \r\nz\r\n\" style=\"fill:#1f77b4;\"/>\r\n   </g>\r\n   <g id=\"patch_31\">\r\n    <path clip-path=\"url(#pe02020c8fd)\" d=\"M 311.893282 279 \r\nL 319.037968 279 \r\nL 319.037968 243.285187 \r\nL 311.893282 243.285187 \r\nz\r\n\" style=\"fill:#1f77b4;\"/>\r\n   </g>\r\n   <g id=\"patch_32\">\r\n    <path clip-path=\"url(#pe02020c8fd)\" d=\"M 320.82414 279 \r\nL 327.968826 279 \r\nL 327.968826 192.34309 \r\nL 320.82414 192.34309 \r\nz\r\n\" style=\"fill:#1f77b4;\"/>\r\n   </g>\r\n   <g id=\"patch_33\">\r\n    <path clip-path=\"url(#pe02020c8fd)\" d=\"M 329.754998 279 \r\nL 336.899684 279 \r\nL 336.899684 262.408082 \r\nL 329.754998 262.408082 \r\nz\r\n\" style=\"fill:#1f77b4;\"/>\r\n   </g>\r\n   <g id=\"patch_34\">\r\n    <path clip-path=\"url(#pe02020c8fd)\" d=\"M 338.685855 279 \r\nL 345.830542 279 \r\nL 345.830542 245.064248 \r\nL 338.685855 245.064248 \r\nz\r\n\" style=\"fill:#1f77b4;\"/>\r\n   </g>\r\n   <g id=\"patch_35\">\r\n    <path clip-path=\"url(#pe02020c8fd)\" d=\"M 347.616713 279 \r\nL 354.7614 279 \r\nL 354.7614 259.33965 \r\nL 347.616713 259.33965 \r\nz\r\n\" style=\"fill:#1f77b4;\"/>\r\n   </g>\r\n   <g id=\"patch_36\">\r\n    <path clip-path=\"url(#pe02020c8fd)\" d=\"M 356.547571 279 \r\nL 363.692258 279 \r\nL 363.692258 212.972803 \r\nL 356.547571 212.972803 \r\nz\r\n\" style=\"fill:#1f77b4;\"/>\r\n   </g>\r\n   <g id=\"patch_37\">\r\n    <path clip-path=\"url(#pe02020c8fd)\" d=\"M 365.478429 279 \r\nL 372.623115 279 \r\nL 372.623115 243.306614 \r\nL 365.478429 243.306614 \r\nz\r\n\" style=\"fill:#1f77b4;\"/>\r\n   </g>\r\n   <g id=\"patch_38\">\r\n    <path clip-path=\"url(#pe02020c8fd)\" d=\"M 374.409287 279 \r\nL 381.553973 279 \r\nL 381.553973 269.484825 \r\nL 374.409287 269.484825 \r\nz\r\n\" style=\"fill:#1f77b4;\"/>\r\n   </g>\r\n   <g id=\"patch_39\">\r\n    <path clip-path=\"url(#pe02020c8fd)\" d=\"M 383.340145 279 \r\nL 390.484831 279 \r\nL 390.484831 263.687867 \r\nL 383.340145 263.687867 \r\nz\r\n\" style=\"fill:#1f77b4;\"/>\r\n   </g>\r\n   <g id=\"patch_40\">\r\n    <path clip-path=\"url(#pe02020c8fd)\" d=\"M 392.271003 279 \r\nL 399.415689 279 \r\nL 399.415689 239.703766 \r\nL 392.271003 239.703766 \r\nz\r\n\" style=\"fill:#1f77b4;\"/>\r\n   </g>\r\n   <g id=\"patch_41\">\r\n    <path clip-path=\"url(#pe02020c8fd)\" d=\"M 401.201861 279 \r\nL 408.346547 279 \r\nL 408.346547 260.024576 \r\nL 401.201861 260.024576 \r\nz\r\n\" style=\"fill:#1f77b4;\"/>\r\n   </g>\r\n   <g id=\"patch_42\">\r\n    <path clip-path=\"url(#pe02020c8fd)\" d=\"M 410.132718 279 \r\nL 417.277405 279 \r\nL 417.277405 264.49319 \r\nL 410.132718 264.49319 \r\nz\r\n\" style=\"fill:#1f77b4;\"/>\r\n   </g>\r\n   <g id=\"patch_43\">\r\n    <path clip-path=\"url(#pe02020c8fd)\" d=\"M 419.063576 279 \r\nL 426.208263 279 \r\nL 426.208263 243.988965 \r\nL 419.063576 243.988965 \r\nz\r\n\" style=\"fill:#1f77b4;\"/>\r\n   </g>\r\n   <g id=\"patch_44\">\r\n    <path clip-path=\"url(#pe02020c8fd)\" d=\"M 427.994434 279 \r\nL 435.139121 279 \r\nL 435.139121 244.953974 \r\nL 427.994434 244.953974 \r\nz\r\n\" style=\"fill:#1f77b4;\"/>\r\n   </g>\r\n   <g id=\"patch_45\">\r\n    <path clip-path=\"url(#pe02020c8fd)\" d=\"M 436.925292 279 \r\nL 444.069978 279 \r\nL 444.069978 241.931689 \r\nL 436.925292 241.931689 \r\nz\r\n\" style=\"fill:#1f77b4;\"/>\r\n   </g>\r\n   <g id=\"patch_46\">\r\n    <path clip-path=\"url(#pe02020c8fd)\" d=\"M 445.85615 279 \r\nL 453.000836 279 \r\nL 453.000836 274.26584 \r\nL 445.85615 274.26584 \r\nz\r\n\" style=\"fill:#1f77b4;\"/>\r\n   </g>\r\n   <g id=\"patch_47\">\r\n    <path clip-path=\"url(#pe02020c8fd)\" d=\"M 454.787008 279 \r\nL 461.931694 279 \r\nL 461.931694 265.707115 \r\nL 454.787008 265.707115 \r\nz\r\n\" style=\"fill:#1f77b4;\"/>\r\n   </g>\r\n   <g id=\"patch_48\">\r\n    <path clip-path=\"url(#pe02020c8fd)\" d=\"M 463.717866 279 \r\nL 470.862552 279 \r\nL 470.862552 278.396751 \r\nL 463.717866 278.396751 \r\nz\r\n\" style=\"fill:#1f77b4;\"/>\r\n   </g>\r\n   <g id=\"patch_49\">\r\n    <path clip-path=\"url(#pe02020c8fd)\" d=\"M 472.648724 279 \r\nL 479.79341 279 \r\nL 479.79341 276.561327 \r\nL 472.648724 276.561327 \r\nz\r\n\" style=\"fill:#1f77b4;\"/>\r\n   </g>\r\n   <g id=\"patch_50\">\r\n    <path clip-path=\"url(#pe02020c8fd)\" d=\"M 481.579581 279 \r\nL 488.724268 279 \r\nL 488.724268 248.891383 \r\nL 481.579581 248.891383 \r\nz\r\n\" style=\"fill:#1f77b4;\"/>\r\n   </g>\r\n   <g id=\"patch_51\">\r\n    <path clip-path=\"url(#pe02020c8fd)\" d=\"M 490.510439 279 \r\nL 497.655126 279 \r\nL 497.655126 250.069312 \r\nL 490.510439 250.069312 \r\nz\r\n\" style=\"fill:#1f77b4;\"/>\r\n   </g>\r\n   <g id=\"patch_52\">\r\n    <path clip-path=\"url(#pe02020c8fd)\" d=\"M 499.441297 279 \r\nL 506.585984 279 \r\nL 506.585984 259.879248 \r\nL 499.441297 259.879248 \r\nz\r\n\" style=\"fill:#1f77b4;\"/>\r\n   </g>\r\n   <g id=\"patch_53\">\r\n    <path clip-path=\"url(#pe02020c8fd)\" d=\"M 508.372155 279 \r\nL 515.516841 279 \r\nL 515.516841 233.274148 \r\nL 508.372155 233.274148 \r\nz\r\n\" style=\"fill:#1f77b4;\"/>\r\n   </g>\r\n   <g id=\"patch_54\">\r\n    <path clip-path=\"url(#pe02020c8fd)\" d=\"M 517.303013 279 \r\nL 524.447699 279 \r\nL 524.447699 251.64381 \r\nL 517.303013 251.64381 \r\nz\r\n\" style=\"fill:#1f77b4;\"/>\r\n   </g>\r\n   <g id=\"patch_55\">\r\n    <path clip-path=\"url(#pe02020c8fd)\" d=\"M 526.233871 279 \r\nL 533.378557 279 \r\nL 533.378557 277.961115 \r\nL 526.233871 277.961115 \r\nz\r\n\" style=\"fill:#1f77b4;\"/>\r\n   </g>\r\n   <g id=\"patch_56\">\r\n    <path clip-path=\"url(#pe02020c8fd)\" d=\"M 535.164729 279 \r\nL 542.309415 279 \r\nL 542.309415 269.859433 \r\nL 535.164729 269.859433 \r\nz\r\n\" style=\"fill:#1f77b4;\"/>\r\n   </g>\r\n   <g id=\"patch_57\">\r\n    <path clip-path=\"url(#pe02020c8fd)\" d=\"M 544.095587 279 \r\nL 551.240273 279 \r\nL 551.240273 273.919536 \r\nL 544.095587 273.919536 \r\nz\r\n\" style=\"fill:#1f77b4;\"/>\r\n   </g>\r\n   <g id=\"patch_58\">\r\n    <path clip-path=\"url(#pe02020c8fd)\" d=\"M 553.026444 279 \r\nL 560.171131 279 \r\nL 560.171131 240.740132 \r\nL 553.026444 240.740132 \r\nz\r\n\" style=\"fill:#1f77b4;\"/>\r\n   </g>\r\n   <g id=\"patch_59\">\r\n    <path clip-path=\"url(#pe02020c8fd)\" d=\"M 561.957302 279 \r\nL 569.101989 279 \r\nL 569.101989 232.3204 \r\nL 561.957302 232.3204 \r\nz\r\n\" style=\"fill:#1f77b4;\"/>\r\n   </g>\r\n   <g id=\"matplotlib.axis_1\">\r\n    <g id=\"xtick_1\">\r\n     <g id=\"line2d_1\">\r\n      <defs>\r\n       <path d=\"M 0 0 \r\nL 0 3.5 \r\n\" id=\"m646492467d\" style=\"stroke:#000000;stroke-width:0.8;\"/>\r\n      </defs>\r\n      <g>\r\n       <use style=\"stroke:#000000;stroke-width:0.8;\" x=\"65.401605\" xlink:href=\"#m646492467d\" y=\"279\"/>\r\n      </g>\r\n     </g>\r\n     <g id=\"text_1\">\r\n      <!-- X1 -->\r\n      <g transform=\"translate(68.16098 299.2125)rotate(-90)scale(0.1 -0.1)\">\r\n       <defs>\r\n        <path d=\"M 6.296875 72.90625 \r\nL 16.890625 72.90625 \r\nL 35.015625 45.796875 \r\nL 53.21875 72.90625 \r\nL 63.8125 72.90625 \r\nL 40.375 37.890625 \r\nL 65.375 0 \r\nL 54.78125 0 \r\nL 34.28125 31 \r\nL 13.625 0 \r\nL 2.984375 0 \r\nL 29 38.921875 \r\nz\r\n\" id=\"DejaVuSans-88\"/>\r\n        <path d=\"M 12.40625 8.296875 \r\nL 28.515625 8.296875 \r\nL 28.515625 63.921875 \r\nL 10.984375 60.40625 \r\nL 10.984375 69.390625 \r\nL 28.421875 72.90625 \r\nL 38.28125 72.90625 \r\nL 38.28125 8.296875 \r\nL 54.390625 8.296875 \r\nL 54.390625 0 \r\nL 12.40625 0 \r\nz\r\n\" id=\"DejaVuSans-49\"/>\r\n       </defs>\r\n       <use xlink:href=\"#DejaVuSans-88\"/>\r\n       <use x=\"68.505859\" xlink:href=\"#DejaVuSans-49\"/>\r\n      </g>\r\n     </g>\r\n    </g>\r\n    <g id=\"xtick_2\">\r\n     <g id=\"line2d_2\">\r\n      <g>\r\n       <use style=\"stroke:#000000;stroke-width:0.8;\" x=\"74.332462\" xlink:href=\"#m646492467d\" y=\"279\"/>\r\n      </g>\r\n     </g>\r\n     <g id=\"text_2\">\r\n      <!-- X2 -->\r\n      <g transform=\"translate(77.091837 299.2125)rotate(-90)scale(0.1 -0.1)\">\r\n       <defs>\r\n        <path d=\"M 19.1875 8.296875 \r\nL 53.609375 8.296875 \r\nL 53.609375 0 \r\nL 7.328125 0 \r\nL 7.328125 8.296875 \r\nQ 12.9375 14.109375 22.625 23.890625 \r\nQ 32.328125 33.6875 34.8125 36.53125 \r\nQ 39.546875 41.84375 41.421875 45.53125 \r\nQ 43.3125 49.21875 43.3125 52.78125 \r\nQ 43.3125 58.59375 39.234375 62.25 \r\nQ 35.15625 65.921875 28.609375 65.921875 \r\nQ 23.96875 65.921875 18.8125 64.3125 \r\nQ 13.671875 62.703125 7.8125 59.421875 \r\nL 7.8125 69.390625 \r\nQ 13.765625 71.78125 18.9375 73 \r\nQ 24.125 74.21875 28.421875 74.21875 \r\nQ 39.75 74.21875 46.484375 68.546875 \r\nQ 53.21875 62.890625 53.21875 53.421875 \r\nQ 53.21875 48.921875 51.53125 44.890625 \r\nQ 49.859375 40.875 45.40625 35.40625 \r\nQ 44.1875 33.984375 37.640625 27.21875 \r\nQ 31.109375 20.453125 19.1875 8.296875 \r\nz\r\n\" id=\"DejaVuSans-50\"/>\r\n       </defs>\r\n       <use xlink:href=\"#DejaVuSans-88\"/>\r\n       <use x=\"68.505859\" xlink:href=\"#DejaVuSans-50\"/>\r\n      </g>\r\n     </g>\r\n    </g>\r\n    <g id=\"xtick_3\">\r\n     <g id=\"line2d_3\">\r\n      <g>\r\n       <use style=\"stroke:#000000;stroke-width:0.8;\" x=\"83.26332\" xlink:href=\"#m646492467d\" y=\"279\"/>\r\n      </g>\r\n     </g>\r\n     <g id=\"text_3\">\r\n      <!-- X3 -->\r\n      <g transform=\"translate(86.022695 299.2125)rotate(-90)scale(0.1 -0.1)\">\r\n       <defs>\r\n        <path d=\"M 40.578125 39.3125 \r\nQ 47.65625 37.796875 51.625 33 \r\nQ 55.609375 28.21875 55.609375 21.1875 \r\nQ 55.609375 10.40625 48.1875 4.484375 \r\nQ 40.765625 -1.421875 27.09375 -1.421875 \r\nQ 22.515625 -1.421875 17.65625 -0.515625 \r\nQ 12.796875 0.390625 7.625 2.203125 \r\nL 7.625 11.71875 \r\nQ 11.71875 9.328125 16.59375 8.109375 \r\nQ 21.484375 6.890625 26.8125 6.890625 \r\nQ 36.078125 6.890625 40.9375 10.546875 \r\nQ 45.796875 14.203125 45.796875 21.1875 \r\nQ 45.796875 27.640625 41.28125 31.265625 \r\nQ 36.765625 34.90625 28.71875 34.90625 \r\nL 20.21875 34.90625 \r\nL 20.21875 43.015625 \r\nL 29.109375 43.015625 \r\nQ 36.375 43.015625 40.234375 45.921875 \r\nQ 44.09375 48.828125 44.09375 54.296875 \r\nQ 44.09375 59.90625 40.109375 62.90625 \r\nQ 36.140625 65.921875 28.71875 65.921875 \r\nQ 24.65625 65.921875 20.015625 65.03125 \r\nQ 15.375 64.15625 9.8125 62.3125 \r\nL 9.8125 71.09375 \r\nQ 15.4375 72.65625 20.34375 73.4375 \r\nQ 25.25 74.21875 29.59375 74.21875 \r\nQ 40.828125 74.21875 47.359375 69.109375 \r\nQ 53.90625 64.015625 53.90625 55.328125 \r\nQ 53.90625 49.265625 50.4375 45.09375 \r\nQ 46.96875 40.921875 40.578125 39.3125 \r\nz\r\n\" id=\"DejaVuSans-51\"/>\r\n       </defs>\r\n       <use xlink:href=\"#DejaVuSans-88\"/>\r\n       <use x=\"68.505859\" xlink:href=\"#DejaVuSans-51\"/>\r\n      </g>\r\n     </g>\r\n    </g>\r\n    <g id=\"xtick_4\">\r\n     <g id=\"line2d_4\">\r\n      <g>\r\n       <use style=\"stroke:#000000;stroke-width:0.8;\" x=\"92.194178\" xlink:href=\"#m646492467d\" y=\"279\"/>\r\n      </g>\r\n     </g>\r\n     <g id=\"text_4\">\r\n      <!-- X4 -->\r\n      <g transform=\"translate(94.953553 299.2125)rotate(-90)scale(0.1 -0.1)\">\r\n       <defs>\r\n        <path d=\"M 37.796875 64.3125 \r\nL 12.890625 25.390625 \r\nL 37.796875 25.390625 \r\nz\r\nM 35.203125 72.90625 \r\nL 47.609375 72.90625 \r\nL 47.609375 25.390625 \r\nL 58.015625 25.390625 \r\nL 58.015625 17.1875 \r\nL 47.609375 17.1875 \r\nL 47.609375 0 \r\nL 37.796875 0 \r\nL 37.796875 17.1875 \r\nL 4.890625 17.1875 \r\nL 4.890625 26.703125 \r\nz\r\n\" id=\"DejaVuSans-52\"/>\r\n       </defs>\r\n       <use xlink:href=\"#DejaVuSans-88\"/>\r\n       <use x=\"68.505859\" xlink:href=\"#DejaVuSans-52\"/>\r\n      </g>\r\n     </g>\r\n    </g>\r\n    <g id=\"xtick_5\">\r\n     <g id=\"line2d_5\">\r\n      <g>\r\n       <use style=\"stroke:#000000;stroke-width:0.8;\" x=\"101.125036\" xlink:href=\"#m646492467d\" y=\"279\"/>\r\n      </g>\r\n     </g>\r\n     <g id=\"text_5\">\r\n      <!-- X5 -->\r\n      <g transform=\"translate(103.884411 299.2125)rotate(-90)scale(0.1 -0.1)\">\r\n       <defs>\r\n        <path d=\"M 10.796875 72.90625 \r\nL 49.515625 72.90625 \r\nL 49.515625 64.59375 \r\nL 19.828125 64.59375 \r\nL 19.828125 46.734375 \r\nQ 21.96875 47.46875 24.109375 47.828125 \r\nQ 26.265625 48.1875 28.421875 48.1875 \r\nQ 40.625 48.1875 47.75 41.5 \r\nQ 54.890625 34.8125 54.890625 23.390625 \r\nQ 54.890625 11.625 47.5625 5.09375 \r\nQ 40.234375 -1.421875 26.90625 -1.421875 \r\nQ 22.3125 -1.421875 17.546875 -0.640625 \r\nQ 12.796875 0.140625 7.71875 1.703125 \r\nL 7.71875 11.625 \r\nQ 12.109375 9.234375 16.796875 8.0625 \r\nQ 21.484375 6.890625 26.703125 6.890625 \r\nQ 35.15625 6.890625 40.078125 11.328125 \r\nQ 45.015625 15.765625 45.015625 23.390625 \r\nQ 45.015625 31 40.078125 35.4375 \r\nQ 35.15625 39.890625 26.703125 39.890625 \r\nQ 22.75 39.890625 18.8125 39.015625 \r\nQ 14.890625 38.140625 10.796875 36.28125 \r\nz\r\n\" id=\"DejaVuSans-53\"/>\r\n       </defs>\r\n       <use xlink:href=\"#DejaVuSans-88\"/>\r\n       <use x=\"68.505859\" xlink:href=\"#DejaVuSans-53\"/>\r\n      </g>\r\n     </g>\r\n    </g>\r\n    <g id=\"xtick_6\">\r\n     <g id=\"line2d_6\">\r\n      <g>\r\n       <use style=\"stroke:#000000;stroke-width:0.8;\" x=\"110.055894\" xlink:href=\"#m646492467d\" y=\"279\"/>\r\n      </g>\r\n     </g>\r\n     <g id=\"text_6\">\r\n      <!-- X6 -->\r\n      <g transform=\"translate(112.815269 299.2125)rotate(-90)scale(0.1 -0.1)\">\r\n       <defs>\r\n        <path d=\"M 33.015625 40.375 \r\nQ 26.375 40.375 22.484375 35.828125 \r\nQ 18.609375 31.296875 18.609375 23.390625 \r\nQ 18.609375 15.53125 22.484375 10.953125 \r\nQ 26.375 6.390625 33.015625 6.390625 \r\nQ 39.65625 6.390625 43.53125 10.953125 \r\nQ 47.40625 15.53125 47.40625 23.390625 \r\nQ 47.40625 31.296875 43.53125 35.828125 \r\nQ 39.65625 40.375 33.015625 40.375 \r\nz\r\nM 52.59375 71.296875 \r\nL 52.59375 62.3125 \r\nQ 48.875 64.0625 45.09375 64.984375 \r\nQ 41.3125 65.921875 37.59375 65.921875 \r\nQ 27.828125 65.921875 22.671875 59.328125 \r\nQ 17.53125 52.734375 16.796875 39.40625 \r\nQ 19.671875 43.65625 24.015625 45.921875 \r\nQ 28.375 48.1875 33.59375 48.1875 \r\nQ 44.578125 48.1875 50.953125 41.515625 \r\nQ 57.328125 34.859375 57.328125 23.390625 \r\nQ 57.328125 12.15625 50.6875 5.359375 \r\nQ 44.046875 -1.421875 33.015625 -1.421875 \r\nQ 20.359375 -1.421875 13.671875 8.265625 \r\nQ 6.984375 17.96875 6.984375 36.375 \r\nQ 6.984375 53.65625 15.1875 63.9375 \r\nQ 23.390625 74.21875 37.203125 74.21875 \r\nQ 40.921875 74.21875 44.703125 73.484375 \r\nQ 48.484375 72.75 52.59375 71.296875 \r\nz\r\n\" id=\"DejaVuSans-54\"/>\r\n       </defs>\r\n       <use xlink:href=\"#DejaVuSans-88\"/>\r\n       <use x=\"68.505859\" xlink:href=\"#DejaVuSans-54\"/>\r\n      </g>\r\n     </g>\r\n    </g>\r\n    <g id=\"xtick_7\">\r\n     <g id=\"line2d_7\">\r\n      <g>\r\n       <use style=\"stroke:#000000;stroke-width:0.8;\" x=\"118.986752\" xlink:href=\"#m646492467d\" y=\"279\"/>\r\n      </g>\r\n     </g>\r\n     <g id=\"text_7\">\r\n      <!-- X7 -->\r\n      <g transform=\"translate(121.746127 299.2125)rotate(-90)scale(0.1 -0.1)\">\r\n       <defs>\r\n        <path d=\"M 8.203125 72.90625 \r\nL 55.078125 72.90625 \r\nL 55.078125 68.703125 \r\nL 28.609375 0 \r\nL 18.3125 0 \r\nL 43.21875 64.59375 \r\nL 8.203125 64.59375 \r\nz\r\n\" id=\"DejaVuSans-55\"/>\r\n       </defs>\r\n       <use xlink:href=\"#DejaVuSans-88\"/>\r\n       <use x=\"68.505859\" xlink:href=\"#DejaVuSans-55\"/>\r\n      </g>\r\n     </g>\r\n    </g>\r\n    <g id=\"xtick_8\">\r\n     <g id=\"line2d_8\">\r\n      <g>\r\n       <use style=\"stroke:#000000;stroke-width:0.8;\" x=\"127.91761\" xlink:href=\"#m646492467d\" y=\"279\"/>\r\n      </g>\r\n     </g>\r\n     <g id=\"text_8\">\r\n      <!-- X8 -->\r\n      <g transform=\"translate(130.676985 299.2125)rotate(-90)scale(0.1 -0.1)\">\r\n       <defs>\r\n        <path d=\"M 31.78125 34.625 \r\nQ 24.75 34.625 20.71875 30.859375 \r\nQ 16.703125 27.09375 16.703125 20.515625 \r\nQ 16.703125 13.921875 20.71875 10.15625 \r\nQ 24.75 6.390625 31.78125 6.390625 \r\nQ 38.8125 6.390625 42.859375 10.171875 \r\nQ 46.921875 13.96875 46.921875 20.515625 \r\nQ 46.921875 27.09375 42.890625 30.859375 \r\nQ 38.875 34.625 31.78125 34.625 \r\nz\r\nM 21.921875 38.8125 \r\nQ 15.578125 40.375 12.03125 44.71875 \r\nQ 8.5 49.078125 8.5 55.328125 \r\nQ 8.5 64.0625 14.71875 69.140625 \r\nQ 20.953125 74.21875 31.78125 74.21875 \r\nQ 42.671875 74.21875 48.875 69.140625 \r\nQ 55.078125 64.0625 55.078125 55.328125 \r\nQ 55.078125 49.078125 51.53125 44.71875 \r\nQ 48 40.375 41.703125 38.8125 \r\nQ 48.828125 37.15625 52.796875 32.3125 \r\nQ 56.78125 27.484375 56.78125 20.515625 \r\nQ 56.78125 9.90625 50.3125 4.234375 \r\nQ 43.84375 -1.421875 31.78125 -1.421875 \r\nQ 19.734375 -1.421875 13.25 4.234375 \r\nQ 6.78125 9.90625 6.78125 20.515625 \r\nQ 6.78125 27.484375 10.78125 32.3125 \r\nQ 14.796875 37.15625 21.921875 38.8125 \r\nz\r\nM 18.3125 54.390625 \r\nQ 18.3125 48.734375 21.84375 45.5625 \r\nQ 25.390625 42.390625 31.78125 42.390625 \r\nQ 38.140625 42.390625 41.71875 45.5625 \r\nQ 45.3125 48.734375 45.3125 54.390625 \r\nQ 45.3125 60.0625 41.71875 63.234375 \r\nQ 38.140625 66.40625 31.78125 66.40625 \r\nQ 25.390625 66.40625 21.84375 63.234375 \r\nQ 18.3125 60.0625 18.3125 54.390625 \r\nz\r\n\" id=\"DejaVuSans-56\"/>\r\n       </defs>\r\n       <use xlink:href=\"#DejaVuSans-88\"/>\r\n       <use x=\"68.505859\" xlink:href=\"#DejaVuSans-56\"/>\r\n      </g>\r\n     </g>\r\n    </g>\r\n    <g id=\"xtick_9\">\r\n     <g id=\"line2d_9\">\r\n      <g>\r\n       <use style=\"stroke:#000000;stroke-width:0.8;\" x=\"136.848468\" xlink:href=\"#m646492467d\" y=\"279\"/>\r\n      </g>\r\n     </g>\r\n     <g id=\"text_9\">\r\n      <!-- X9 -->\r\n      <g transform=\"translate(139.607843 299.2125)rotate(-90)scale(0.1 -0.1)\">\r\n       <defs>\r\n        <path d=\"M 10.984375 1.515625 \r\nL 10.984375 10.5 \r\nQ 14.703125 8.734375 18.5 7.8125 \r\nQ 22.3125 6.890625 25.984375 6.890625 \r\nQ 35.75 6.890625 40.890625 13.453125 \r\nQ 46.046875 20.015625 46.78125 33.40625 \r\nQ 43.953125 29.203125 39.59375 26.953125 \r\nQ 35.25 24.703125 29.984375 24.703125 \r\nQ 19.046875 24.703125 12.671875 31.3125 \r\nQ 6.296875 37.9375 6.296875 49.421875 \r\nQ 6.296875 60.640625 12.9375 67.421875 \r\nQ 19.578125 74.21875 30.609375 74.21875 \r\nQ 43.265625 74.21875 49.921875 64.515625 \r\nQ 56.59375 54.828125 56.59375 36.375 \r\nQ 56.59375 19.140625 48.40625 8.859375 \r\nQ 40.234375 -1.421875 26.421875 -1.421875 \r\nQ 22.703125 -1.421875 18.890625 -0.6875 \r\nQ 15.09375 0.046875 10.984375 1.515625 \r\nz\r\nM 30.609375 32.421875 \r\nQ 37.25 32.421875 41.125 36.953125 \r\nQ 45.015625 41.5 45.015625 49.421875 \r\nQ 45.015625 57.28125 41.125 61.84375 \r\nQ 37.25 66.40625 30.609375 66.40625 \r\nQ 23.96875 66.40625 20.09375 61.84375 \r\nQ 16.21875 57.28125 16.21875 49.421875 \r\nQ 16.21875 41.5 20.09375 36.953125 \r\nQ 23.96875 32.421875 30.609375 32.421875 \r\nz\r\n\" id=\"DejaVuSans-57\"/>\r\n       </defs>\r\n       <use xlink:href=\"#DejaVuSans-88\"/>\r\n       <use x=\"68.505859\" xlink:href=\"#DejaVuSans-57\"/>\r\n      </g>\r\n     </g>\r\n    </g>\r\n    <g id=\"xtick_10\">\r\n     <g id=\"line2d_10\">\r\n      <g>\r\n       <use style=\"stroke:#000000;stroke-width:0.8;\" x=\"145.779325\" xlink:href=\"#m646492467d\" y=\"279\"/>\r\n      </g>\r\n     </g>\r\n     <g id=\"text_10\">\r\n      <!-- X10 -->\r\n      <g transform=\"translate(148.5387 305.575)rotate(-90)scale(0.1 -0.1)\">\r\n       <defs>\r\n        <path d=\"M 31.78125 66.40625 \r\nQ 24.171875 66.40625 20.328125 58.90625 \r\nQ 16.5 51.421875 16.5 36.375 \r\nQ 16.5 21.390625 20.328125 13.890625 \r\nQ 24.171875 6.390625 31.78125 6.390625 \r\nQ 39.453125 6.390625 43.28125 13.890625 \r\nQ 47.125 21.390625 47.125 36.375 \r\nQ 47.125 51.421875 43.28125 58.90625 \r\nQ 39.453125 66.40625 31.78125 66.40625 \r\nz\r\nM 31.78125 74.21875 \r\nQ 44.046875 74.21875 50.515625 64.515625 \r\nQ 56.984375 54.828125 56.984375 36.375 \r\nQ 56.984375 17.96875 50.515625 8.265625 \r\nQ 44.046875 -1.421875 31.78125 -1.421875 \r\nQ 19.53125 -1.421875 13.0625 8.265625 \r\nQ 6.59375 17.96875 6.59375 36.375 \r\nQ 6.59375 54.828125 13.0625 64.515625 \r\nQ 19.53125 74.21875 31.78125 74.21875 \r\nz\r\n\" id=\"DejaVuSans-48\"/>\r\n       </defs>\r\n       <use xlink:href=\"#DejaVuSans-88\"/>\r\n       <use x=\"68.505859\" xlink:href=\"#DejaVuSans-49\"/>\r\n       <use x=\"132.128906\" xlink:href=\"#DejaVuSans-48\"/>\r\n      </g>\r\n     </g>\r\n    </g>\r\n    <g id=\"xtick_11\">\r\n     <g id=\"line2d_11\">\r\n      <g>\r\n       <use style=\"stroke:#000000;stroke-width:0.8;\" x=\"154.710183\" xlink:href=\"#m646492467d\" y=\"279\"/>\r\n      </g>\r\n     </g>\r\n     <g id=\"text_11\">\r\n      <!-- X11 -->\r\n      <g transform=\"translate(157.469558 305.575)rotate(-90)scale(0.1 -0.1)\">\r\n       <use xlink:href=\"#DejaVuSans-88\"/>\r\n       <use x=\"68.505859\" xlink:href=\"#DejaVuSans-49\"/>\r\n       <use x=\"132.128906\" xlink:href=\"#DejaVuSans-49\"/>\r\n      </g>\r\n     </g>\r\n    </g>\r\n    <g id=\"xtick_12\">\r\n     <g id=\"line2d_12\">\r\n      <g>\r\n       <use style=\"stroke:#000000;stroke-width:0.8;\" x=\"163.641041\" xlink:href=\"#m646492467d\" y=\"279\"/>\r\n      </g>\r\n     </g>\r\n     <g id=\"text_12\">\r\n      <!-- X12 -->\r\n      <g transform=\"translate(166.400416 305.575)rotate(-90)scale(0.1 -0.1)\">\r\n       <use xlink:href=\"#DejaVuSans-88\"/>\r\n       <use x=\"68.505859\" xlink:href=\"#DejaVuSans-49\"/>\r\n       <use x=\"132.128906\" xlink:href=\"#DejaVuSans-50\"/>\r\n      </g>\r\n     </g>\r\n    </g>\r\n    <g id=\"xtick_13\">\r\n     <g id=\"line2d_13\">\r\n      <g>\r\n       <use style=\"stroke:#000000;stroke-width:0.8;\" x=\"172.571899\" xlink:href=\"#m646492467d\" y=\"279\"/>\r\n      </g>\r\n     </g>\r\n     <g id=\"text_13\">\r\n      <!-- X13 -->\r\n      <g transform=\"translate(175.331274 305.575)rotate(-90)scale(0.1 -0.1)\">\r\n       <use xlink:href=\"#DejaVuSans-88\"/>\r\n       <use x=\"68.505859\" xlink:href=\"#DejaVuSans-49\"/>\r\n       <use x=\"132.128906\" xlink:href=\"#DejaVuSans-51\"/>\r\n      </g>\r\n     </g>\r\n    </g>\r\n    <g id=\"xtick_14\">\r\n     <g id=\"line2d_14\">\r\n      <g>\r\n       <use style=\"stroke:#000000;stroke-width:0.8;\" x=\"181.502757\" xlink:href=\"#m646492467d\" y=\"279\"/>\r\n      </g>\r\n     </g>\r\n     <g id=\"text_14\">\r\n      <!-- X14 -->\r\n      <g transform=\"translate(184.262132 305.575)rotate(-90)scale(0.1 -0.1)\">\r\n       <use xlink:href=\"#DejaVuSans-88\"/>\r\n       <use x=\"68.505859\" xlink:href=\"#DejaVuSans-49\"/>\r\n       <use x=\"132.128906\" xlink:href=\"#DejaVuSans-52\"/>\r\n      </g>\r\n     </g>\r\n    </g>\r\n    <g id=\"xtick_15\">\r\n     <g id=\"line2d_15\">\r\n      <g>\r\n       <use style=\"stroke:#000000;stroke-width:0.8;\" x=\"190.433615\" xlink:href=\"#m646492467d\" y=\"279\"/>\r\n      </g>\r\n     </g>\r\n     <g id=\"text_15\">\r\n      <!-- X15 -->\r\n      <g transform=\"translate(193.19299 305.575)rotate(-90)scale(0.1 -0.1)\">\r\n       <use xlink:href=\"#DejaVuSans-88\"/>\r\n       <use x=\"68.505859\" xlink:href=\"#DejaVuSans-49\"/>\r\n       <use x=\"132.128906\" xlink:href=\"#DejaVuSans-53\"/>\r\n      </g>\r\n     </g>\r\n    </g>\r\n    <g id=\"xtick_16\">\r\n     <g id=\"line2d_16\">\r\n      <g>\r\n       <use style=\"stroke:#000000;stroke-width:0.8;\" x=\"199.364473\" xlink:href=\"#m646492467d\" y=\"279\"/>\r\n      </g>\r\n     </g>\r\n     <g id=\"text_16\">\r\n      <!-- X16 -->\r\n      <g transform=\"translate(202.123848 305.575)rotate(-90)scale(0.1 -0.1)\">\r\n       <use xlink:href=\"#DejaVuSans-88\"/>\r\n       <use x=\"68.505859\" xlink:href=\"#DejaVuSans-49\"/>\r\n       <use x=\"132.128906\" xlink:href=\"#DejaVuSans-54\"/>\r\n      </g>\r\n     </g>\r\n    </g>\r\n    <g id=\"xtick_17\">\r\n     <g id=\"line2d_17\">\r\n      <g>\r\n       <use style=\"stroke:#000000;stroke-width:0.8;\" x=\"208.295331\" xlink:href=\"#m646492467d\" y=\"279\"/>\r\n      </g>\r\n     </g>\r\n     <g id=\"text_17\">\r\n      <!-- X17 -->\r\n      <g transform=\"translate(211.054706 305.575)rotate(-90)scale(0.1 -0.1)\">\r\n       <use xlink:href=\"#DejaVuSans-88\"/>\r\n       <use x=\"68.505859\" xlink:href=\"#DejaVuSans-49\"/>\r\n       <use x=\"132.128906\" xlink:href=\"#DejaVuSans-55\"/>\r\n      </g>\r\n     </g>\r\n    </g>\r\n    <g id=\"xtick_18\">\r\n     <g id=\"line2d_18\">\r\n      <g>\r\n       <use style=\"stroke:#000000;stroke-width:0.8;\" x=\"217.226188\" xlink:href=\"#m646492467d\" y=\"279\"/>\r\n      </g>\r\n     </g>\r\n     <g id=\"text_18\">\r\n      <!-- X18 -->\r\n      <g transform=\"translate(219.985563 305.575)rotate(-90)scale(0.1 -0.1)\">\r\n       <use xlink:href=\"#DejaVuSans-88\"/>\r\n       <use x=\"68.505859\" xlink:href=\"#DejaVuSans-49\"/>\r\n       <use x=\"132.128906\" xlink:href=\"#DejaVuSans-56\"/>\r\n      </g>\r\n     </g>\r\n    </g>\r\n    <g id=\"xtick_19\">\r\n     <g id=\"line2d_19\">\r\n      <g>\r\n       <use style=\"stroke:#000000;stroke-width:0.8;\" x=\"226.157046\" xlink:href=\"#m646492467d\" y=\"279\"/>\r\n      </g>\r\n     </g>\r\n     <g id=\"text_19\">\r\n      <!-- C1_V1 -->\r\n      <g transform=\"translate(228.689078 317.548437)rotate(-90)scale(0.1 -0.1)\">\r\n       <defs>\r\n        <path d=\"M 64.40625 67.28125 \r\nL 64.40625 56.890625 \r\nQ 59.421875 61.53125 53.78125 63.8125 \r\nQ 48.140625 66.109375 41.796875 66.109375 \r\nQ 29.296875 66.109375 22.65625 58.46875 \r\nQ 16.015625 50.828125 16.015625 36.375 \r\nQ 16.015625 21.96875 22.65625 14.328125 \r\nQ 29.296875 6.6875 41.796875 6.6875 \r\nQ 48.140625 6.6875 53.78125 8.984375 \r\nQ 59.421875 11.28125 64.40625 15.921875 \r\nL 64.40625 5.609375 \r\nQ 59.234375 2.09375 53.4375 0.328125 \r\nQ 47.65625 -1.421875 41.21875 -1.421875 \r\nQ 24.65625 -1.421875 15.125 8.703125 \r\nQ 5.609375 18.84375 5.609375 36.375 \r\nQ 5.609375 53.953125 15.125 64.078125 \r\nQ 24.65625 74.21875 41.21875 74.21875 \r\nQ 47.75 74.21875 53.53125 72.484375 \r\nQ 59.328125 70.75 64.40625 67.28125 \r\nz\r\n\" id=\"DejaVuSans-67\"/>\r\n        <path d=\"M 50.984375 -16.609375 \r\nL 50.984375 -23.578125 \r\nL -0.984375 -23.578125 \r\nL -0.984375 -16.609375 \r\nz\r\n\" id=\"DejaVuSans-95\"/>\r\n        <path d=\"M 28.609375 0 \r\nL 0.78125 72.90625 \r\nL 11.078125 72.90625 \r\nL 34.1875 11.53125 \r\nL 57.328125 72.90625 \r\nL 67.578125 72.90625 \r\nL 39.796875 0 \r\nz\r\n\" id=\"DejaVuSans-86\"/>\r\n       </defs>\r\n       <use xlink:href=\"#DejaVuSans-67\"/>\r\n       <use x=\"69.824219\" xlink:href=\"#DejaVuSans-49\"/>\r\n       <use x=\"133.447266\" xlink:href=\"#DejaVuSans-95\"/>\r\n       <use x=\"183.447266\" xlink:href=\"#DejaVuSans-86\"/>\r\n       <use x=\"251.855469\" xlink:href=\"#DejaVuSans-49\"/>\r\n      </g>\r\n     </g>\r\n    </g>\r\n    <g id=\"xtick_20\">\r\n     <g id=\"line2d_20\">\r\n      <g>\r\n       <use style=\"stroke:#000000;stroke-width:0.8;\" x=\"235.087904\" xlink:href=\"#m646492467d\" y=\"279\"/>\r\n      </g>\r\n     </g>\r\n     <g id=\"text_20\">\r\n      <!-- C1_V2 -->\r\n      <g transform=\"translate(237.619935 317.548437)rotate(-90)scale(0.1 -0.1)\">\r\n       <use xlink:href=\"#DejaVuSans-67\"/>\r\n       <use x=\"69.824219\" xlink:href=\"#DejaVuSans-49\"/>\r\n       <use x=\"133.447266\" xlink:href=\"#DejaVuSans-95\"/>\r\n       <use x=\"183.447266\" xlink:href=\"#DejaVuSans-86\"/>\r\n       <use x=\"251.855469\" xlink:href=\"#DejaVuSans-50\"/>\r\n      </g>\r\n     </g>\r\n    </g>\r\n    <g id=\"xtick_21\">\r\n     <g id=\"line2d_21\">\r\n      <g>\r\n       <use style=\"stroke:#000000;stroke-width:0.8;\" x=\"244.018762\" xlink:href=\"#m646492467d\" y=\"279\"/>\r\n      </g>\r\n     </g>\r\n     <g id=\"text_21\">\r\n      <!-- C4_V1 -->\r\n      <g transform=\"translate(246.550793 317.548437)rotate(-90)scale(0.1 -0.1)\">\r\n       <use xlink:href=\"#DejaVuSans-67\"/>\r\n       <use x=\"69.824219\" xlink:href=\"#DejaVuSans-52\"/>\r\n       <use x=\"133.447266\" xlink:href=\"#DejaVuSans-95\"/>\r\n       <use x=\"183.447266\" xlink:href=\"#DejaVuSans-86\"/>\r\n       <use x=\"251.855469\" xlink:href=\"#DejaVuSans-49\"/>\r\n      </g>\r\n     </g>\r\n    </g>\r\n    <g id=\"xtick_22\">\r\n     <g id=\"line2d_22\">\r\n      <g>\r\n       <use style=\"stroke:#000000;stroke-width:0.8;\" x=\"252.94962\" xlink:href=\"#m646492467d\" y=\"279\"/>\r\n      </g>\r\n     </g>\r\n     <g id=\"text_22\">\r\n      <!-- C4_V2 -->\r\n      <g transform=\"translate(255.481651 317.548437)rotate(-90)scale(0.1 -0.1)\">\r\n       <use xlink:href=\"#DejaVuSans-67\"/>\r\n       <use x=\"69.824219\" xlink:href=\"#DejaVuSans-52\"/>\r\n       <use x=\"133.447266\" xlink:href=\"#DejaVuSans-95\"/>\r\n       <use x=\"183.447266\" xlink:href=\"#DejaVuSans-86\"/>\r\n       <use x=\"251.855469\" xlink:href=\"#DejaVuSans-50\"/>\r\n      </g>\r\n     </g>\r\n    </g>\r\n    <g id=\"xtick_23\">\r\n     <g id=\"line2d_23\">\r\n      <g>\r\n       <use style=\"stroke:#000000;stroke-width:0.8;\" x=\"261.880478\" xlink:href=\"#m646492467d\" y=\"279\"/>\r\n      </g>\r\n     </g>\r\n     <g id=\"text_23\">\r\n      <!-- C4_V3 -->\r\n      <g transform=\"translate(264.412509 317.548437)rotate(-90)scale(0.1 -0.1)\">\r\n       <use xlink:href=\"#DejaVuSans-67\"/>\r\n       <use x=\"69.824219\" xlink:href=\"#DejaVuSans-52\"/>\r\n       <use x=\"133.447266\" xlink:href=\"#DejaVuSans-95\"/>\r\n       <use x=\"183.447266\" xlink:href=\"#DejaVuSans-86\"/>\r\n       <use x=\"251.855469\" xlink:href=\"#DejaVuSans-51\"/>\r\n      </g>\r\n     </g>\r\n    </g>\r\n    <g id=\"xtick_24\">\r\n     <g id=\"line2d_24\">\r\n      <g>\r\n       <use style=\"stroke:#000000;stroke-width:0.8;\" x=\"270.811336\" xlink:href=\"#m646492467d\" y=\"279\"/>\r\n      </g>\r\n     </g>\r\n     <g id=\"text_24\">\r\n      <!-- C5_V1 -->\r\n      <g transform=\"translate(273.343367 317.548437)rotate(-90)scale(0.1 -0.1)\">\r\n       <use xlink:href=\"#DejaVuSans-67\"/>\r\n       <use x=\"69.824219\" xlink:href=\"#DejaVuSans-53\"/>\r\n       <use x=\"133.447266\" xlink:href=\"#DejaVuSans-95\"/>\r\n       <use x=\"183.447266\" xlink:href=\"#DejaVuSans-86\"/>\r\n       <use x=\"251.855469\" xlink:href=\"#DejaVuSans-49\"/>\r\n      </g>\r\n     </g>\r\n    </g>\r\n    <g id=\"xtick_25\">\r\n     <g id=\"line2d_25\">\r\n      <g>\r\n       <use style=\"stroke:#000000;stroke-width:0.8;\" x=\"279.742194\" xlink:href=\"#m646492467d\" y=\"279\"/>\r\n      </g>\r\n     </g>\r\n     <g id=\"text_25\">\r\n      <!-- C5_V2 -->\r\n      <g transform=\"translate(282.274225 317.548437)rotate(-90)scale(0.1 -0.1)\">\r\n       <use xlink:href=\"#DejaVuSans-67\"/>\r\n       <use x=\"69.824219\" xlink:href=\"#DejaVuSans-53\"/>\r\n       <use x=\"133.447266\" xlink:href=\"#DejaVuSans-95\"/>\r\n       <use x=\"183.447266\" xlink:href=\"#DejaVuSans-86\"/>\r\n       <use x=\"251.855469\" xlink:href=\"#DejaVuSans-50\"/>\r\n      </g>\r\n     </g>\r\n    </g>\r\n    <g id=\"xtick_26\">\r\n     <g id=\"line2d_26\">\r\n      <g>\r\n       <use style=\"stroke:#000000;stroke-width:0.8;\" x=\"288.673051\" xlink:href=\"#m646492467d\" y=\"279\"/>\r\n      </g>\r\n     </g>\r\n     <g id=\"text_26\">\r\n      <!-- C5_V3 -->\r\n      <g transform=\"translate(291.205083 317.548437)rotate(-90)scale(0.1 -0.1)\">\r\n       <use xlink:href=\"#DejaVuSans-67\"/>\r\n       <use x=\"69.824219\" xlink:href=\"#DejaVuSans-53\"/>\r\n       <use x=\"133.447266\" xlink:href=\"#DejaVuSans-95\"/>\r\n       <use x=\"183.447266\" xlink:href=\"#DejaVuSans-86\"/>\r\n       <use x=\"251.855469\" xlink:href=\"#DejaVuSans-51\"/>\r\n      </g>\r\n     </g>\r\n    </g>\r\n    <g id=\"xtick_27\">\r\n     <g id=\"line2d_27\">\r\n      <g>\r\n       <use style=\"stroke:#000000;stroke-width:0.8;\" x=\"297.603909\" xlink:href=\"#m646492467d\" y=\"279\"/>\r\n      </g>\r\n     </g>\r\n     <g id=\"text_27\">\r\n      <!-- C8_V1 -->\r\n      <g transform=\"translate(300.135941 317.548437)rotate(-90)scale(0.1 -0.1)\">\r\n       <use xlink:href=\"#DejaVuSans-67\"/>\r\n       <use x=\"69.824219\" xlink:href=\"#DejaVuSans-56\"/>\r\n       <use x=\"133.447266\" xlink:href=\"#DejaVuSans-95\"/>\r\n       <use x=\"183.447266\" xlink:href=\"#DejaVuSans-86\"/>\r\n       <use x=\"251.855469\" xlink:href=\"#DejaVuSans-49\"/>\r\n      </g>\r\n     </g>\r\n    </g>\r\n    <g id=\"xtick_28\">\r\n     <g id=\"line2d_28\">\r\n      <g>\r\n       <use style=\"stroke:#000000;stroke-width:0.8;\" x=\"306.534767\" xlink:href=\"#m646492467d\" y=\"279\"/>\r\n      </g>\r\n     </g>\r\n     <g id=\"text_28\">\r\n      <!-- C8_V2 -->\r\n      <g transform=\"translate(309.066798 317.548437)rotate(-90)scale(0.1 -0.1)\">\r\n       <use xlink:href=\"#DejaVuSans-67\"/>\r\n       <use x=\"69.824219\" xlink:href=\"#DejaVuSans-56\"/>\r\n       <use x=\"133.447266\" xlink:href=\"#DejaVuSans-95\"/>\r\n       <use x=\"183.447266\" xlink:href=\"#DejaVuSans-86\"/>\r\n       <use x=\"251.855469\" xlink:href=\"#DejaVuSans-50\"/>\r\n      </g>\r\n     </g>\r\n    </g>\r\n    <g id=\"xtick_29\">\r\n     <g id=\"line2d_29\">\r\n      <g>\r\n       <use style=\"stroke:#000000;stroke-width:0.8;\" x=\"315.465625\" xlink:href=\"#m646492467d\" y=\"279\"/>\r\n      </g>\r\n     </g>\r\n     <g id=\"text_29\">\r\n      <!-- C9_V1 -->\r\n      <g transform=\"translate(317.997656 317.548437)rotate(-90)scale(0.1 -0.1)\">\r\n       <use xlink:href=\"#DejaVuSans-67\"/>\r\n       <use x=\"69.824219\" xlink:href=\"#DejaVuSans-57\"/>\r\n       <use x=\"133.447266\" xlink:href=\"#DejaVuSans-95\"/>\r\n       <use x=\"183.447266\" xlink:href=\"#DejaVuSans-86\"/>\r\n       <use x=\"251.855469\" xlink:href=\"#DejaVuSans-49\"/>\r\n      </g>\r\n     </g>\r\n    </g>\r\n    <g id=\"xtick_30\">\r\n     <g id=\"line2d_30\">\r\n      <g>\r\n       <use style=\"stroke:#000000;stroke-width:0.8;\" x=\"324.396483\" xlink:href=\"#m646492467d\" y=\"279\"/>\r\n      </g>\r\n     </g>\r\n     <g id=\"text_30\">\r\n      <!-- C9_V2 -->\r\n      <g transform=\"translate(326.928514 317.548437)rotate(-90)scale(0.1 -0.1)\">\r\n       <use xlink:href=\"#DejaVuSans-67\"/>\r\n       <use x=\"69.824219\" xlink:href=\"#DejaVuSans-57\"/>\r\n       <use x=\"133.447266\" xlink:href=\"#DejaVuSans-95\"/>\r\n       <use x=\"183.447266\" xlink:href=\"#DejaVuSans-86\"/>\r\n       <use x=\"251.855469\" xlink:href=\"#DejaVuSans-50\"/>\r\n      </g>\r\n     </g>\r\n    </g>\r\n    <g id=\"xtick_31\">\r\n     <g id=\"line2d_31\">\r\n      <g>\r\n       <use style=\"stroke:#000000;stroke-width:0.8;\" x=\"333.327341\" xlink:href=\"#m646492467d\" y=\"279\"/>\r\n      </g>\r\n     </g>\r\n     <g id=\"text_31\">\r\n      <!-- C9_V3 -->\r\n      <g transform=\"translate(335.859372 317.548437)rotate(-90)scale(0.1 -0.1)\">\r\n       <use xlink:href=\"#DejaVuSans-67\"/>\r\n       <use x=\"69.824219\" xlink:href=\"#DejaVuSans-57\"/>\r\n       <use x=\"133.447266\" xlink:href=\"#DejaVuSans-95\"/>\r\n       <use x=\"183.447266\" xlink:href=\"#DejaVuSans-86\"/>\r\n       <use x=\"251.855469\" xlink:href=\"#DejaVuSans-51\"/>\r\n      </g>\r\n     </g>\r\n    </g>\r\n    <g id=\"xtick_32\">\r\n     <g id=\"line2d_32\">\r\n      <g>\r\n       <use style=\"stroke:#000000;stroke-width:0.8;\" x=\"342.258199\" xlink:href=\"#m646492467d\" y=\"279\"/>\r\n      </g>\r\n     </g>\r\n     <g id=\"text_32\">\r\n      <!-- C9_V4 -->\r\n      <g transform=\"translate(344.79023 317.548437)rotate(-90)scale(0.1 -0.1)\">\r\n       <use xlink:href=\"#DejaVuSans-67\"/>\r\n       <use x=\"69.824219\" xlink:href=\"#DejaVuSans-57\"/>\r\n       <use x=\"133.447266\" xlink:href=\"#DejaVuSans-95\"/>\r\n       <use x=\"183.447266\" xlink:href=\"#DejaVuSans-86\"/>\r\n       <use x=\"251.855469\" xlink:href=\"#DejaVuSans-52\"/>\r\n      </g>\r\n     </g>\r\n    </g>\r\n    <g id=\"xtick_33\">\r\n     <g id=\"line2d_33\">\r\n      <g>\r\n       <use style=\"stroke:#000000;stroke-width:0.8;\" x=\"351.189056\" xlink:href=\"#m646492467d\" y=\"279\"/>\r\n      </g>\r\n     </g>\r\n     <g id=\"text_33\">\r\n      <!-- C10_V1 -->\r\n      <g transform=\"translate(353.721088 323.910937)rotate(-90)scale(0.1 -0.1)\">\r\n       <use xlink:href=\"#DejaVuSans-67\"/>\r\n       <use x=\"69.824219\" xlink:href=\"#DejaVuSans-49\"/>\r\n       <use x=\"133.447266\" xlink:href=\"#DejaVuSans-48\"/>\r\n       <use x=\"197.070312\" xlink:href=\"#DejaVuSans-95\"/>\r\n       <use x=\"247.070312\" xlink:href=\"#DejaVuSans-86\"/>\r\n       <use x=\"315.478516\" xlink:href=\"#DejaVuSans-49\"/>\r\n      </g>\r\n     </g>\r\n    </g>\r\n    <g id=\"xtick_34\">\r\n     <g id=\"line2d_34\">\r\n      <g>\r\n       <use style=\"stroke:#000000;stroke-width:0.8;\" x=\"360.119914\" xlink:href=\"#m646492467d\" y=\"279\"/>\r\n      </g>\r\n     </g>\r\n     <g id=\"text_34\">\r\n      <!-- C10_V2 -->\r\n      <g transform=\"translate(362.651946 323.910937)rotate(-90)scale(0.1 -0.1)\">\r\n       <use xlink:href=\"#DejaVuSans-67\"/>\r\n       <use x=\"69.824219\" xlink:href=\"#DejaVuSans-49\"/>\r\n       <use x=\"133.447266\" xlink:href=\"#DejaVuSans-48\"/>\r\n       <use x=\"197.070312\" xlink:href=\"#DejaVuSans-95\"/>\r\n       <use x=\"247.070312\" xlink:href=\"#DejaVuSans-86\"/>\r\n       <use x=\"315.478516\" xlink:href=\"#DejaVuSans-50\"/>\r\n      </g>\r\n     </g>\r\n    </g>\r\n    <g id=\"xtick_35\">\r\n     <g id=\"line2d_35\">\r\n      <g>\r\n       <use style=\"stroke:#000000;stroke-width:0.8;\" x=\"369.050772\" xlink:href=\"#m646492467d\" y=\"279\"/>\r\n      </g>\r\n     </g>\r\n     <g id=\"text_35\">\r\n      <!-- C10_V3 -->\r\n      <g transform=\"translate(371.582803 323.910937)rotate(-90)scale(0.1 -0.1)\">\r\n       <use xlink:href=\"#DejaVuSans-67\"/>\r\n       <use x=\"69.824219\" xlink:href=\"#DejaVuSans-49\"/>\r\n       <use x=\"133.447266\" xlink:href=\"#DejaVuSans-48\"/>\r\n       <use x=\"197.070312\" xlink:href=\"#DejaVuSans-95\"/>\r\n       <use x=\"247.070312\" xlink:href=\"#DejaVuSans-86\"/>\r\n       <use x=\"315.478516\" xlink:href=\"#DejaVuSans-51\"/>\r\n      </g>\r\n     </g>\r\n    </g>\r\n    <g id=\"xtick_36\">\r\n     <g id=\"line2d_36\">\r\n      <g>\r\n       <use style=\"stroke:#000000;stroke-width:0.8;\" x=\"377.98163\" xlink:href=\"#m646492467d\" y=\"279\"/>\r\n      </g>\r\n     </g>\r\n     <g id=\"text_36\">\r\n      <!-- C10_V4 -->\r\n      <g transform=\"translate(380.513661 323.910937)rotate(-90)scale(0.1 -0.1)\">\r\n       <use xlink:href=\"#DejaVuSans-67\"/>\r\n       <use x=\"69.824219\" xlink:href=\"#DejaVuSans-49\"/>\r\n       <use x=\"133.447266\" xlink:href=\"#DejaVuSans-48\"/>\r\n       <use x=\"197.070312\" xlink:href=\"#DejaVuSans-95\"/>\r\n       <use x=\"247.070312\" xlink:href=\"#DejaVuSans-86\"/>\r\n       <use x=\"315.478516\" xlink:href=\"#DejaVuSans-52\"/>\r\n      </g>\r\n     </g>\r\n    </g>\r\n    <g id=\"xtick_37\">\r\n     <g id=\"line2d_37\">\r\n      <g>\r\n       <use style=\"stroke:#000000;stroke-width:0.8;\" x=\"386.912488\" xlink:href=\"#m646492467d\" y=\"279\"/>\r\n      </g>\r\n     </g>\r\n     <g id=\"text_37\">\r\n      <!-- C10_V5 -->\r\n      <g transform=\"translate(389.444519 323.910937)rotate(-90)scale(0.1 -0.1)\">\r\n       <use xlink:href=\"#DejaVuSans-67\"/>\r\n       <use x=\"69.824219\" xlink:href=\"#DejaVuSans-49\"/>\r\n       <use x=\"133.447266\" xlink:href=\"#DejaVuSans-48\"/>\r\n       <use x=\"197.070312\" xlink:href=\"#DejaVuSans-95\"/>\r\n       <use x=\"247.070312\" xlink:href=\"#DejaVuSans-86\"/>\r\n       <use x=\"315.478516\" xlink:href=\"#DejaVuSans-53\"/>\r\n      </g>\r\n     </g>\r\n    </g>\r\n    <g id=\"xtick_38\">\r\n     <g id=\"line2d_38\">\r\n      <g>\r\n       <use style=\"stroke:#000000;stroke-width:0.8;\" x=\"395.843346\" xlink:href=\"#m646492467d\" y=\"279\"/>\r\n      </g>\r\n     </g>\r\n     <g id=\"text_38\">\r\n      <!-- C10_V6 -->\r\n      <g transform=\"translate(398.375377 323.910937)rotate(-90)scale(0.1 -0.1)\">\r\n       <use xlink:href=\"#DejaVuSans-67\"/>\r\n       <use x=\"69.824219\" xlink:href=\"#DejaVuSans-49\"/>\r\n       <use x=\"133.447266\" xlink:href=\"#DejaVuSans-48\"/>\r\n       <use x=\"197.070312\" xlink:href=\"#DejaVuSans-95\"/>\r\n       <use x=\"247.070312\" xlink:href=\"#DejaVuSans-86\"/>\r\n       <use x=\"315.478516\" xlink:href=\"#DejaVuSans-54\"/>\r\n      </g>\r\n     </g>\r\n    </g>\r\n    <g id=\"xtick_39\">\r\n     <g id=\"line2d_39\">\r\n      <g>\r\n       <use style=\"stroke:#000000;stroke-width:0.8;\" x=\"404.774204\" xlink:href=\"#m646492467d\" y=\"279\"/>\r\n      </g>\r\n     </g>\r\n     <g id=\"text_39\">\r\n      <!-- C10_V7 -->\r\n      <g transform=\"translate(407.306235 323.910937)rotate(-90)scale(0.1 -0.1)\">\r\n       <use xlink:href=\"#DejaVuSans-67\"/>\r\n       <use x=\"69.824219\" xlink:href=\"#DejaVuSans-49\"/>\r\n       <use x=\"133.447266\" xlink:href=\"#DejaVuSans-48\"/>\r\n       <use x=\"197.070312\" xlink:href=\"#DejaVuSans-95\"/>\r\n       <use x=\"247.070312\" xlink:href=\"#DejaVuSans-86\"/>\r\n       <use x=\"315.478516\" xlink:href=\"#DejaVuSans-55\"/>\r\n      </g>\r\n     </g>\r\n    </g>\r\n    <g id=\"xtick_40\">\r\n     <g id=\"line2d_40\">\r\n      <g>\r\n       <use style=\"stroke:#000000;stroke-width:0.8;\" x=\"413.705062\" xlink:href=\"#m646492467d\" y=\"279\"/>\r\n      </g>\r\n     </g>\r\n     <g id=\"text_40\">\r\n      <!-- C10_V8 -->\r\n      <g transform=\"translate(416.237093 323.910937)rotate(-90)scale(0.1 -0.1)\">\r\n       <use xlink:href=\"#DejaVuSans-67\"/>\r\n       <use x=\"69.824219\" xlink:href=\"#DejaVuSans-49\"/>\r\n       <use x=\"133.447266\" xlink:href=\"#DejaVuSans-48\"/>\r\n       <use x=\"197.070312\" xlink:href=\"#DejaVuSans-95\"/>\r\n       <use x=\"247.070312\" xlink:href=\"#DejaVuSans-86\"/>\r\n       <use x=\"315.478516\" xlink:href=\"#DejaVuSans-56\"/>\r\n      </g>\r\n     </g>\r\n    </g>\r\n    <g id=\"xtick_41\">\r\n     <g id=\"line2d_41\">\r\n      <g>\r\n       <use style=\"stroke:#000000;stroke-width:0.8;\" x=\"422.635919\" xlink:href=\"#m646492467d\" y=\"279\"/>\r\n      </g>\r\n     </g>\r\n     <g id=\"text_41\">\r\n      <!-- C11_V1 -->\r\n      <g transform=\"translate(425.167951 323.910937)rotate(-90)scale(0.1 -0.1)\">\r\n       <use xlink:href=\"#DejaVuSans-67\"/>\r\n       <use x=\"69.824219\" xlink:href=\"#DejaVuSans-49\"/>\r\n       <use x=\"133.447266\" xlink:href=\"#DejaVuSans-49\"/>\r\n       <use x=\"197.070312\" xlink:href=\"#DejaVuSans-95\"/>\r\n       <use x=\"247.070312\" xlink:href=\"#DejaVuSans-86\"/>\r\n       <use x=\"315.478516\" xlink:href=\"#DejaVuSans-49\"/>\r\n      </g>\r\n     </g>\r\n    </g>\r\n    <g id=\"xtick_42\">\r\n     <g id=\"line2d_42\">\r\n      <g>\r\n       <use style=\"stroke:#000000;stroke-width:0.8;\" x=\"431.566777\" xlink:href=\"#m646492467d\" y=\"279\"/>\r\n      </g>\r\n     </g>\r\n     <g id=\"text_42\">\r\n      <!-- C11_V2 -->\r\n      <g transform=\"translate(434.098809 323.910937)rotate(-90)scale(0.1 -0.1)\">\r\n       <use xlink:href=\"#DejaVuSans-67\"/>\r\n       <use x=\"69.824219\" xlink:href=\"#DejaVuSans-49\"/>\r\n       <use x=\"133.447266\" xlink:href=\"#DejaVuSans-49\"/>\r\n       <use x=\"197.070312\" xlink:href=\"#DejaVuSans-95\"/>\r\n       <use x=\"247.070312\" xlink:href=\"#DejaVuSans-86\"/>\r\n       <use x=\"315.478516\" xlink:href=\"#DejaVuSans-50\"/>\r\n      </g>\r\n     </g>\r\n    </g>\r\n    <g id=\"xtick_43\">\r\n     <g id=\"line2d_43\">\r\n      <g>\r\n       <use style=\"stroke:#000000;stroke-width:0.8;\" x=\"440.497635\" xlink:href=\"#m646492467d\" y=\"279\"/>\r\n      </g>\r\n     </g>\r\n     <g id=\"text_43\">\r\n      <!-- C11_V3 -->\r\n      <g transform=\"translate(443.029666 323.910937)rotate(-90)scale(0.1 -0.1)\">\r\n       <use xlink:href=\"#DejaVuSans-67\"/>\r\n       <use x=\"69.824219\" xlink:href=\"#DejaVuSans-49\"/>\r\n       <use x=\"133.447266\" xlink:href=\"#DejaVuSans-49\"/>\r\n       <use x=\"197.070312\" xlink:href=\"#DejaVuSans-95\"/>\r\n       <use x=\"247.070312\" xlink:href=\"#DejaVuSans-86\"/>\r\n       <use x=\"315.478516\" xlink:href=\"#DejaVuSans-51\"/>\r\n      </g>\r\n     </g>\r\n    </g>\r\n    <g id=\"xtick_44\">\r\n     <g id=\"line2d_44\">\r\n      <g>\r\n       <use style=\"stroke:#000000;stroke-width:0.8;\" x=\"449.428493\" xlink:href=\"#m646492467d\" y=\"279\"/>\r\n      </g>\r\n     </g>\r\n     <g id=\"text_44\">\r\n      <!-- C11_V4 -->\r\n      <g transform=\"translate(451.960524 323.910937)rotate(-90)scale(0.1 -0.1)\">\r\n       <use xlink:href=\"#DejaVuSans-67\"/>\r\n       <use x=\"69.824219\" xlink:href=\"#DejaVuSans-49\"/>\r\n       <use x=\"133.447266\" xlink:href=\"#DejaVuSans-49\"/>\r\n       <use x=\"197.070312\" xlink:href=\"#DejaVuSans-95\"/>\r\n       <use x=\"247.070312\" xlink:href=\"#DejaVuSans-86\"/>\r\n       <use x=\"315.478516\" xlink:href=\"#DejaVuSans-52\"/>\r\n      </g>\r\n     </g>\r\n    </g>\r\n    <g id=\"xtick_45\">\r\n     <g id=\"line2d_45\">\r\n      <g>\r\n       <use style=\"stroke:#000000;stroke-width:0.8;\" x=\"458.359351\" xlink:href=\"#m646492467d\" y=\"279\"/>\r\n      </g>\r\n     </g>\r\n     <g id=\"text_45\">\r\n      <!-- C11_V5 -->\r\n      <g transform=\"translate(460.891382 323.910937)rotate(-90)scale(0.1 -0.1)\">\r\n       <use xlink:href=\"#DejaVuSans-67\"/>\r\n       <use x=\"69.824219\" xlink:href=\"#DejaVuSans-49\"/>\r\n       <use x=\"133.447266\" xlink:href=\"#DejaVuSans-49\"/>\r\n       <use x=\"197.070312\" xlink:href=\"#DejaVuSans-95\"/>\r\n       <use x=\"247.070312\" xlink:href=\"#DejaVuSans-86\"/>\r\n       <use x=\"315.478516\" xlink:href=\"#DejaVuSans-53\"/>\r\n      </g>\r\n     </g>\r\n    </g>\r\n    <g id=\"xtick_46\">\r\n     <g id=\"line2d_46\">\r\n      <g>\r\n       <use style=\"stroke:#000000;stroke-width:0.8;\" x=\"467.290209\" xlink:href=\"#m646492467d\" y=\"279\"/>\r\n      </g>\r\n     </g>\r\n     <g id=\"text_46\">\r\n      <!-- C11_V6 -->\r\n      <g transform=\"translate(469.82224 323.910937)rotate(-90)scale(0.1 -0.1)\">\r\n       <use xlink:href=\"#DejaVuSans-67\"/>\r\n       <use x=\"69.824219\" xlink:href=\"#DejaVuSans-49\"/>\r\n       <use x=\"133.447266\" xlink:href=\"#DejaVuSans-49\"/>\r\n       <use x=\"197.070312\" xlink:href=\"#DejaVuSans-95\"/>\r\n       <use x=\"247.070312\" xlink:href=\"#DejaVuSans-86\"/>\r\n       <use x=\"315.478516\" xlink:href=\"#DejaVuSans-54\"/>\r\n      </g>\r\n     </g>\r\n    </g>\r\n    <g id=\"xtick_47\">\r\n     <g id=\"line2d_47\">\r\n      <g>\r\n       <use style=\"stroke:#000000;stroke-width:0.8;\" x=\"476.221067\" xlink:href=\"#m646492467d\" y=\"279\"/>\r\n      </g>\r\n     </g>\r\n     <g id=\"text_47\">\r\n      <!-- C11_V7 -->\r\n      <g transform=\"translate(478.753098 323.910937)rotate(-90)scale(0.1 -0.1)\">\r\n       <use xlink:href=\"#DejaVuSans-67\"/>\r\n       <use x=\"69.824219\" xlink:href=\"#DejaVuSans-49\"/>\r\n       <use x=\"133.447266\" xlink:href=\"#DejaVuSans-49\"/>\r\n       <use x=\"197.070312\" xlink:href=\"#DejaVuSans-95\"/>\r\n       <use x=\"247.070312\" xlink:href=\"#DejaVuSans-86\"/>\r\n       <use x=\"315.478516\" xlink:href=\"#DejaVuSans-55\"/>\r\n      </g>\r\n     </g>\r\n    </g>\r\n    <g id=\"xtick_48\">\r\n     <g id=\"line2d_48\">\r\n      <g>\r\n       <use style=\"stroke:#000000;stroke-width:0.8;\" x=\"485.151925\" xlink:href=\"#m646492467d\" y=\"279\"/>\r\n      </g>\r\n     </g>\r\n     <g id=\"text_48\">\r\n      <!-- C12_V1 -->\r\n      <g transform=\"translate(487.683956 323.910937)rotate(-90)scale(0.1 -0.1)\">\r\n       <use xlink:href=\"#DejaVuSans-67\"/>\r\n       <use x=\"69.824219\" xlink:href=\"#DejaVuSans-49\"/>\r\n       <use x=\"133.447266\" xlink:href=\"#DejaVuSans-50\"/>\r\n       <use x=\"197.070312\" xlink:href=\"#DejaVuSans-95\"/>\r\n       <use x=\"247.070312\" xlink:href=\"#DejaVuSans-86\"/>\r\n       <use x=\"315.478516\" xlink:href=\"#DejaVuSans-49\"/>\r\n      </g>\r\n     </g>\r\n    </g>\r\n    <g id=\"xtick_49\">\r\n     <g id=\"line2d_49\">\r\n      <g>\r\n       <use style=\"stroke:#000000;stroke-width:0.8;\" x=\"494.082782\" xlink:href=\"#m646492467d\" y=\"279\"/>\r\n      </g>\r\n     </g>\r\n     <g id=\"text_49\">\r\n      <!-- C12_V2 -->\r\n      <g transform=\"translate(496.614814 323.910937)rotate(-90)scale(0.1 -0.1)\">\r\n       <use xlink:href=\"#DejaVuSans-67\"/>\r\n       <use x=\"69.824219\" xlink:href=\"#DejaVuSans-49\"/>\r\n       <use x=\"133.447266\" xlink:href=\"#DejaVuSans-50\"/>\r\n       <use x=\"197.070312\" xlink:href=\"#DejaVuSans-95\"/>\r\n       <use x=\"247.070312\" xlink:href=\"#DejaVuSans-86\"/>\r\n       <use x=\"315.478516\" xlink:href=\"#DejaVuSans-50\"/>\r\n      </g>\r\n     </g>\r\n    </g>\r\n    <g id=\"xtick_50\">\r\n     <g id=\"line2d_50\">\r\n      <g>\r\n       <use style=\"stroke:#000000;stroke-width:0.8;\" x=\"503.01364\" xlink:href=\"#m646492467d\" y=\"279\"/>\r\n      </g>\r\n     </g>\r\n     <g id=\"text_50\">\r\n      <!-- C12_V3 -->\r\n      <g transform=\"translate(505.545672 323.910937)rotate(-90)scale(0.1 -0.1)\">\r\n       <use xlink:href=\"#DejaVuSans-67\"/>\r\n       <use x=\"69.824219\" xlink:href=\"#DejaVuSans-49\"/>\r\n       <use x=\"133.447266\" xlink:href=\"#DejaVuSans-50\"/>\r\n       <use x=\"197.070312\" xlink:href=\"#DejaVuSans-95\"/>\r\n       <use x=\"247.070312\" xlink:href=\"#DejaVuSans-86\"/>\r\n       <use x=\"315.478516\" xlink:href=\"#DejaVuSans-51\"/>\r\n      </g>\r\n     </g>\r\n    </g>\r\n    <g id=\"xtick_51\">\r\n     <g id=\"line2d_51\">\r\n      <g>\r\n       <use style=\"stroke:#000000;stroke-width:0.8;\" x=\"511.944498\" xlink:href=\"#m646492467d\" y=\"279\"/>\r\n      </g>\r\n     </g>\r\n     <g id=\"text_51\">\r\n      <!-- C13_V1 -->\r\n      <g transform=\"translate(514.476529 323.910937)rotate(-90)scale(0.1 -0.1)\">\r\n       <use xlink:href=\"#DejaVuSans-67\"/>\r\n       <use x=\"69.824219\" xlink:href=\"#DejaVuSans-49\"/>\r\n       <use x=\"133.447266\" xlink:href=\"#DejaVuSans-51\"/>\r\n       <use x=\"197.070312\" xlink:href=\"#DejaVuSans-95\"/>\r\n       <use x=\"247.070312\" xlink:href=\"#DejaVuSans-86\"/>\r\n       <use x=\"315.478516\" xlink:href=\"#DejaVuSans-49\"/>\r\n      </g>\r\n     </g>\r\n    </g>\r\n    <g id=\"xtick_52\">\r\n     <g id=\"line2d_52\">\r\n      <g>\r\n       <use style=\"stroke:#000000;stroke-width:0.8;\" x=\"520.875356\" xlink:href=\"#m646492467d\" y=\"279\"/>\r\n      </g>\r\n     </g>\r\n     <g id=\"text_52\">\r\n      <!-- C13_V2 -->\r\n      <g transform=\"translate(523.407387 323.910937)rotate(-90)scale(0.1 -0.1)\">\r\n       <use xlink:href=\"#DejaVuSans-67\"/>\r\n       <use x=\"69.824219\" xlink:href=\"#DejaVuSans-49\"/>\r\n       <use x=\"133.447266\" xlink:href=\"#DejaVuSans-51\"/>\r\n       <use x=\"197.070312\" xlink:href=\"#DejaVuSans-95\"/>\r\n       <use x=\"247.070312\" xlink:href=\"#DejaVuSans-86\"/>\r\n       <use x=\"315.478516\" xlink:href=\"#DejaVuSans-50\"/>\r\n      </g>\r\n     </g>\r\n    </g>\r\n    <g id=\"xtick_53\">\r\n     <g id=\"line2d_53\">\r\n      <g>\r\n       <use style=\"stroke:#000000;stroke-width:0.8;\" x=\"529.806214\" xlink:href=\"#m646492467d\" y=\"279\"/>\r\n      </g>\r\n     </g>\r\n     <g id=\"text_53\">\r\n      <!-- C13_V3 -->\r\n      <g transform=\"translate(532.338245 323.910937)rotate(-90)scale(0.1 -0.1)\">\r\n       <use xlink:href=\"#DejaVuSans-67\"/>\r\n       <use x=\"69.824219\" xlink:href=\"#DejaVuSans-49\"/>\r\n       <use x=\"133.447266\" xlink:href=\"#DejaVuSans-51\"/>\r\n       <use x=\"197.070312\" xlink:href=\"#DejaVuSans-95\"/>\r\n       <use x=\"247.070312\" xlink:href=\"#DejaVuSans-86\"/>\r\n       <use x=\"315.478516\" xlink:href=\"#DejaVuSans-51\"/>\r\n      </g>\r\n     </g>\r\n    </g>\r\n    <g id=\"xtick_54\">\r\n     <g id=\"line2d_54\">\r\n      <g>\r\n       <use style=\"stroke:#000000;stroke-width:0.8;\" x=\"538.737072\" xlink:href=\"#m646492467d\" y=\"279\"/>\r\n      </g>\r\n     </g>\r\n     <g id=\"text_54\">\r\n      <!-- C13_V4 -->\r\n      <g transform=\"translate(541.269103 323.910937)rotate(-90)scale(0.1 -0.1)\">\r\n       <use xlink:href=\"#DejaVuSans-67\"/>\r\n       <use x=\"69.824219\" xlink:href=\"#DejaVuSans-49\"/>\r\n       <use x=\"133.447266\" xlink:href=\"#DejaVuSans-51\"/>\r\n       <use x=\"197.070312\" xlink:href=\"#DejaVuSans-95\"/>\r\n       <use x=\"247.070312\" xlink:href=\"#DejaVuSans-86\"/>\r\n       <use x=\"315.478516\" xlink:href=\"#DejaVuSans-52\"/>\r\n      </g>\r\n     </g>\r\n    </g>\r\n    <g id=\"xtick_55\">\r\n     <g id=\"line2d_55\">\r\n      <g>\r\n       <use style=\"stroke:#000000;stroke-width:0.8;\" x=\"547.66793\" xlink:href=\"#m646492467d\" y=\"279\"/>\r\n      </g>\r\n     </g>\r\n     <g id=\"text_55\">\r\n      <!-- C13_V5 -->\r\n      <g transform=\"translate(550.199961 323.910937)rotate(-90)scale(0.1 -0.1)\">\r\n       <use xlink:href=\"#DejaVuSans-67\"/>\r\n       <use x=\"69.824219\" xlink:href=\"#DejaVuSans-49\"/>\r\n       <use x=\"133.447266\" xlink:href=\"#DejaVuSans-51\"/>\r\n       <use x=\"197.070312\" xlink:href=\"#DejaVuSans-95\"/>\r\n       <use x=\"247.070312\" xlink:href=\"#DejaVuSans-86\"/>\r\n       <use x=\"315.478516\" xlink:href=\"#DejaVuSans-53\"/>\r\n      </g>\r\n     </g>\r\n    </g>\r\n    <g id=\"xtick_56\">\r\n     <g id=\"line2d_56\">\r\n      <g>\r\n       <use style=\"stroke:#000000;stroke-width:0.8;\" x=\"556.598788\" xlink:href=\"#m646492467d\" y=\"279\"/>\r\n      </g>\r\n     </g>\r\n     <g id=\"text_56\">\r\n      <!-- C14_V1 -->\r\n      <g transform=\"translate(559.130819 323.910937)rotate(-90)scale(0.1 -0.1)\">\r\n       <use xlink:href=\"#DejaVuSans-67\"/>\r\n       <use x=\"69.824219\" xlink:href=\"#DejaVuSans-49\"/>\r\n       <use x=\"133.447266\" xlink:href=\"#DejaVuSans-52\"/>\r\n       <use x=\"197.070312\" xlink:href=\"#DejaVuSans-95\"/>\r\n       <use x=\"247.070312\" xlink:href=\"#DejaVuSans-86\"/>\r\n       <use x=\"315.478516\" xlink:href=\"#DejaVuSans-49\"/>\r\n      </g>\r\n     </g>\r\n    </g>\r\n    <g id=\"xtick_57\">\r\n     <g id=\"line2d_57\">\r\n      <g>\r\n       <use style=\"stroke:#000000;stroke-width:0.8;\" x=\"565.529645\" xlink:href=\"#m646492467d\" y=\"279\"/>\r\n      </g>\r\n     </g>\r\n     <g id=\"text_57\">\r\n      <!-- C14_V2 -->\r\n      <g transform=\"translate(568.061677 323.910937)rotate(-90)scale(0.1 -0.1)\">\r\n       <use xlink:href=\"#DejaVuSans-67\"/>\r\n       <use x=\"69.824219\" xlink:href=\"#DejaVuSans-49\"/>\r\n       <use x=\"133.447266\" xlink:href=\"#DejaVuSans-52\"/>\r\n       <use x=\"197.070312\" xlink:href=\"#DejaVuSans-95\"/>\r\n       <use x=\"247.070312\" xlink:href=\"#DejaVuSans-86\"/>\r\n       <use x=\"315.478516\" xlink:href=\"#DejaVuSans-50\"/>\r\n      </g>\r\n     </g>\r\n    </g>\r\n   </g>\r\n   <g id=\"matplotlib.axis_2\">\r\n    <g id=\"ytick_1\">\r\n     <g id=\"line2d_58\">\r\n      <defs>\r\n       <path d=\"M 0 0 \r\nL -3.5 0 \r\n\" id=\"m68bf34d878\" style=\"stroke:#000000;stroke-width:0.8;\"/>\r\n      </defs>\r\n      <g>\r\n       <use style=\"stroke:#000000;stroke-width:0.8;\" x=\"36.465625\" xlink:href=\"#m68bf34d878\" y=\"279\"/>\r\n      </g>\r\n     </g>\r\n     <g id=\"text_58\">\r\n      <!-- 0.00 -->\r\n      <g transform=\"translate(7.2 282.799219)scale(0.1 -0.1)\">\r\n       <defs>\r\n        <path d=\"M 10.6875 12.40625 \r\nL 21 12.40625 \r\nL 21 0 \r\nL 10.6875 0 \r\nz\r\n\" id=\"DejaVuSans-46\"/>\r\n       </defs>\r\n       <use xlink:href=\"#DejaVuSans-48\"/>\r\n       <use x=\"63.623047\" xlink:href=\"#DejaVuSans-46\"/>\r\n       <use x=\"95.410156\" xlink:href=\"#DejaVuSans-48\"/>\r\n       <use x=\"159.033203\" xlink:href=\"#DejaVuSans-48\"/>\r\n      </g>\r\n     </g>\r\n    </g>\r\n    <g id=\"ytick_2\">\r\n     <g id=\"line2d_59\">\r\n      <g>\r\n       <use style=\"stroke:#000000;stroke-width:0.8;\" x=\"36.465625\" xlink:href=\"#m68bf34d878\" y=\"240.731042\"/>\r\n      </g>\r\n     </g>\r\n     <g id=\"text_59\">\r\n      <!-- 0.01 -->\r\n      <g transform=\"translate(7.2 244.53026)scale(0.1 -0.1)\">\r\n       <use xlink:href=\"#DejaVuSans-48\"/>\r\n       <use x=\"63.623047\" xlink:href=\"#DejaVuSans-46\"/>\r\n       <use x=\"95.410156\" xlink:href=\"#DejaVuSans-48\"/>\r\n       <use x=\"159.033203\" xlink:href=\"#DejaVuSans-49\"/>\r\n      </g>\r\n     </g>\r\n    </g>\r\n    <g id=\"ytick_3\">\r\n     <g id=\"line2d_60\">\r\n      <g>\r\n       <use style=\"stroke:#000000;stroke-width:0.8;\" x=\"36.465625\" xlink:href=\"#m68bf34d878\" y=\"202.462083\"/>\r\n      </g>\r\n     </g>\r\n     <g id=\"text_60\">\r\n      <!-- 0.02 -->\r\n      <g transform=\"translate(7.2 206.261302)scale(0.1 -0.1)\">\r\n       <use xlink:href=\"#DejaVuSans-48\"/>\r\n       <use x=\"63.623047\" xlink:href=\"#DejaVuSans-46\"/>\r\n       <use x=\"95.410156\" xlink:href=\"#DejaVuSans-48\"/>\r\n       <use x=\"159.033203\" xlink:href=\"#DejaVuSans-50\"/>\r\n      </g>\r\n     </g>\r\n    </g>\r\n    <g id=\"ytick_4\">\r\n     <g id=\"line2d_61\">\r\n      <g>\r\n       <use style=\"stroke:#000000;stroke-width:0.8;\" x=\"36.465625\" xlink:href=\"#m68bf34d878\" y=\"164.193125\"/>\r\n      </g>\r\n     </g>\r\n     <g id=\"text_61\">\r\n      <!-- 0.03 -->\r\n      <g transform=\"translate(7.2 167.992343)scale(0.1 -0.1)\">\r\n       <use xlink:href=\"#DejaVuSans-48\"/>\r\n       <use x=\"63.623047\" xlink:href=\"#DejaVuSans-46\"/>\r\n       <use x=\"95.410156\" xlink:href=\"#DejaVuSans-48\"/>\r\n       <use x=\"159.033203\" xlink:href=\"#DejaVuSans-51\"/>\r\n      </g>\r\n     </g>\r\n    </g>\r\n    <g id=\"ytick_5\">\r\n     <g id=\"line2d_62\">\r\n      <g>\r\n       <use style=\"stroke:#000000;stroke-width:0.8;\" x=\"36.465625\" xlink:href=\"#m68bf34d878\" y=\"125.924166\"/>\r\n      </g>\r\n     </g>\r\n     <g id=\"text_62\">\r\n      <!-- 0.04 -->\r\n      <g transform=\"translate(7.2 129.723385)scale(0.1 -0.1)\">\r\n       <use xlink:href=\"#DejaVuSans-48\"/>\r\n       <use x=\"63.623047\" xlink:href=\"#DejaVuSans-46\"/>\r\n       <use x=\"95.410156\" xlink:href=\"#DejaVuSans-48\"/>\r\n       <use x=\"159.033203\" xlink:href=\"#DejaVuSans-52\"/>\r\n      </g>\r\n     </g>\r\n    </g>\r\n    <g id=\"ytick_6\">\r\n     <g id=\"line2d_63\">\r\n      <g>\r\n       <use style=\"stroke:#000000;stroke-width:0.8;\" x=\"36.465625\" xlink:href=\"#m68bf34d878\" y=\"87.655208\"/>\r\n      </g>\r\n     </g>\r\n     <g id=\"text_63\">\r\n      <!-- 0.05 -->\r\n      <g transform=\"translate(7.2 91.454426)scale(0.1 -0.1)\">\r\n       <use xlink:href=\"#DejaVuSans-48\"/>\r\n       <use x=\"63.623047\" xlink:href=\"#DejaVuSans-46\"/>\r\n       <use x=\"95.410156\" xlink:href=\"#DejaVuSans-48\"/>\r\n       <use x=\"159.033203\" xlink:href=\"#DejaVuSans-53\"/>\r\n      </g>\r\n     </g>\r\n    </g>\r\n    <g id=\"ytick_7\">\r\n     <g id=\"line2d_64\">\r\n      <g>\r\n       <use style=\"stroke:#000000;stroke-width:0.8;\" x=\"36.465625\" xlink:href=\"#m68bf34d878\" y=\"49.386249\"/>\r\n      </g>\r\n     </g>\r\n     <g id=\"text_64\">\r\n      <!-- 0.06 -->\r\n      <g transform=\"translate(7.2 53.185468)scale(0.1 -0.1)\">\r\n       <use xlink:href=\"#DejaVuSans-48\"/>\r\n       <use x=\"63.623047\" xlink:href=\"#DejaVuSans-46\"/>\r\n       <use x=\"95.410156\" xlink:href=\"#DejaVuSans-48\"/>\r\n       <use x=\"159.033203\" xlink:href=\"#DejaVuSans-54\"/>\r\n      </g>\r\n     </g>\r\n    </g>\r\n    <g id=\"ytick_8\">\r\n     <g id=\"line2d_65\">\r\n      <g>\r\n       <use style=\"stroke:#000000;stroke-width:0.8;\" x=\"36.465625\" xlink:href=\"#m68bf34d878\" y=\"11.117291\"/>\r\n      </g>\r\n     </g>\r\n     <g id=\"text_65\">\r\n      <!-- 0.07 -->\r\n      <g transform=\"translate(7.2 14.91651)scale(0.1 -0.1)\">\r\n       <use xlink:href=\"#DejaVuSans-48\"/>\r\n       <use x=\"63.623047\" xlink:href=\"#DejaVuSans-46\"/>\r\n       <use x=\"95.410156\" xlink:href=\"#DejaVuSans-48\"/>\r\n       <use x=\"159.033203\" xlink:href=\"#DejaVuSans-55\"/>\r\n      </g>\r\n     </g>\r\n    </g>\r\n   </g>\r\n   <g id=\"patch_60\">\r\n    <path d=\"M 36.465625 279 \r\nL 36.465625 7.2 \r\n\" style=\"fill:none;stroke:#000000;stroke-linecap:square;stroke-linejoin:miter;stroke-width:0.8;\"/>\r\n   </g>\r\n   <g id=\"patch_61\">\r\n    <path d=\"M 594.465625 279 \r\nL 594.465625 7.2 \r\n\" style=\"fill:none;stroke:#000000;stroke-linecap:square;stroke-linejoin:miter;stroke-width:0.8;\"/>\r\n   </g>\r\n   <g id=\"patch_62\">\r\n    <path d=\"M 36.465625 279 \r\nL 594.465625 279 \r\n\" style=\"fill:none;stroke:#000000;stroke-linecap:square;stroke-linejoin:miter;stroke-width:0.8;\"/>\r\n   </g>\r\n   <g id=\"patch_63\">\r\n    <path d=\"M 36.465625 7.2 \r\nL 594.465625 7.2 \r\n\" style=\"fill:none;stroke:#000000;stroke-linecap:square;stroke-linejoin:miter;stroke-width:0.8;\"/>\r\n   </g>\r\n  </g>\r\n </g>\r\n <defs>\r\n  <clipPath id=\"pe02020c8fd\">\r\n   <rect height=\"271.8\" width=\"558\" x=\"36.465625\" y=\"7.2\"/>\r\n  </clipPath>\r\n </defs>\r\n</svg>\r\n",
      "image/png": "[encoded data removed]"
     },
     "metadata": {
      "needs_background": "light"
     }
    }
   ],
   "source": [
    "\n",
    "clf = RandomForestClassifier()\n",
    "clf.fit(X_train, y_train)\n",
    "plt.figure(figsize=(10,5))\n",
    "plt.bar(X_train.columns, clf.feature_importances_)\n",
    "plt.xticks(rotation=90)"
   ]
  },
  {
   "cell_type": "code",
   "execution_count": 163,
   "metadata": {},
   "outputs": [
    {
     "output_type": "stream",
     "name": "stdout",
     "text": [
      "Test Score:  0.8625\n",
      "Test Score:  0.8625\n"
     ]
    }
   ],
   "source": [
    "from sklearn.metrics import classification_report\n",
    "from sklearn.metrics import confusion_matrix\n",
    "from sklearn.neural_network import MLPClassifier\n",
    "\n",
    "classifier1 = RandomForestClassifier(n_estimators=1000)\n",
    "classifier1.fit(X_train, y_train)\n",
    "print(\"Test Score: \", classifier1.score(X_test, y_test))\n",
    "\n",
    "classifier2 = ExtraTreesClassifier(n_estimators=1000, random_state=10)\n",
    "classifier2.fit(X_train, y_train)\n",
    "print(\"Test Score: \", classifier2.score(X_test, y_test))"
   ]
  },
  {
   "cell_type": "code",
   "execution_count": 164,
   "metadata": {},
   "outputs": [
    {
     "output_type": "stream",
     "name": "stdout",
     "text": [
      "RandomForestClassifier\n",
      "[[40  4]\n",
      " [ 7 29]]\n",
      "              precision    recall  f1-score   support\n",
      "\n",
      "          -1       0.85      0.91      0.88        44\n",
      "           1       0.88      0.81      0.84        36\n",
      "\n",
      "    accuracy                           0.86        80\n",
      "   macro avg       0.86      0.86      0.86        80\n",
      "weighted avg       0.86      0.86      0.86        80\n",
      "\n",
      "ExtraTreesClassifier\n",
      "[[38  6]\n",
      " [ 5 31]]\n",
      "              precision    recall  f1-score   support\n",
      "\n",
      "          -1       0.88      0.86      0.87        44\n",
      "           1       0.84      0.86      0.85        36\n",
      "\n",
      "    accuracy                           0.86        80\n",
      "   macro avg       0.86      0.86      0.86        80\n",
      "weighted avg       0.86      0.86      0.86        80\n",
      "\n"
     ]
    }
   ],
   "source": [
    "y_pred1 = classifier1.predict(X_test)\n",
    "cm1 = confusion_matrix(y_test, y_pred1)\n",
    "\n",
    "print(\"RandomForestClassifier\")\n",
    "print(cm1)\n",
    "print(classification_report(y_test, y_pred1))\n",
    "\n",
    "y_pred2 = classifier2.predict(X_test)\n",
    "cm2 = confusion_matrix(y_test, y_pred2)\n",
    "\n",
    "print(\"ExtraTreesClassifier\")\n",
    "print(cm2)\n",
    "print(classification_report(y_test, y_pred2))"
   ]
  },
  {
   "cell_type": "code",
   "execution_count": 165,
   "metadata": {},
   "outputs": [
    {
     "output_type": "stream",
     "name": "stdout",
     "text": [
      "Fitting 5 folds for each of 9 candidates, totalling 45 fits\n",
      "Elapsed time:  18.713606595993042  seconds, which is:  0.3118934432665507  minutes\n"
     ]
    },
    {
     "output_type": "execute_result",
     "data": {
      "text/plain": [
       "ExtraTreesClassifier(max_depth=50, n_estimators=1500)"
      ]
     },
     "metadata": {},
     "execution_count": 165
    }
   ],
   "source": [
    "from sklearn.model_selection import GridSearchCV\n",
    "import time\n",
    "\n",
    "parameters = {\n",
    "    'bootstrap': [False],\n",
    "    'max_depth': [50,60,70],\n",
    "    'max_features': ['auto'],\n",
    "    'min_samples_leaf': [1],\n",
    "    'min_samples_split': [2],\n",
    "    'n_estimators': [1100, 1250, 1500]\n",
    "}\n",
    "\n",
    "grid_search = GridSearchCV(estimator = ExtraTreesClassifier(n_estimators=1000), param_grid = parameters, cv = 5, n_jobs = -1, verbose = 3)\n",
    "\n",
    "start = time.time()\n",
    "grid_search.fit(X_train, y_train)\n",
    "end = time.time()\n",
    "print(\"Elapsed time: \", end - start, \" seconds, which is: \", (end - start) / 60, \" minutes\")\n",
    "\n",
    "model = grid_search.best_estimator_\n",
    "model"
   ]
  },
  {
   "cell_type": "code",
   "execution_count": 166,
   "metadata": {},
   "outputs": [
    {
     "output_type": "stream",
     "name": "stdout",
     "text": [
      "Test Score:  0.875\n",
      "[[39  5]\n",
      " [ 5 31]]\n",
      "              precision    recall  f1-score   support\n",
      "\n",
      "          -1       0.89      0.89      0.89        44\n",
      "           1       0.86      0.86      0.86        36\n",
      "\n",
      "    accuracy                           0.88        80\n",
      "   macro avg       0.87      0.87      0.87        80\n",
      "weighted avg       0.88      0.88      0.88        80\n",
      "\n"
     ]
    },
    {
     "output_type": "execute_result",
     "data": {
      "text/plain": [
       "\"\\ncv = RepeatedStratifiedKFold(n_splits=5, n_repeats=3, random_state=1)\\nscores = cross_val_score(votingclf, X_train, y_train, scoring='accuracy', cv=cv, n_jobs=-1)\\nprint('>%.3f (%.3f)' % (scores.mean(), scores.std()))\\n\""
      ]
     },
     "metadata": {},
     "execution_count": 166
    }
   ],
   "source": [
    "import numpy as np\n",
    "from sklearn.linear_model import LogisticRegression\n",
    "from sklearn.naive_bayes import GaussianNB\n",
    "from sklearn.ensemble import RandomForestClassifier, VotingClassifier\n",
    "\n",
    "clf1 = RandomForestClassifier(n_estimators=1000)\n",
    "clf2 = BaggingClassifier(n_estimators=1000)\n",
    "clf3 = ExtraTreesClassifier(n_estimators=1000)\n",
    "\n",
    "votingclf = VotingClassifier(estimators=[('rf', clf1),  ('bag', clf2), ('et', clf3), ('tuned', model)], voting='hard', weights=[2,1,2,3], flatten_transform=True)\n",
    "votingclf = votingclf.fit(X_train, y_train)\n",
    "print(\"Test Score: \", votingclf.score(X_test, y_test))\n",
    "\n",
    "y_pred_votingclf = votingclf.predict(X_test)\n",
    "print(confusion_matrix(y_test, y_pred_votingclf))\n",
    "print(classification_report(y_test, y_pred_votingclf))\n",
    "\"\"\"\n",
    "cv = RepeatedStratifiedKFold(n_splits=5, n_repeats=3, random_state=1)\n",
    "scores = cross_val_score(votingclf, X_train, y_train, scoring='accuracy', cv=cv, n_jobs=-1)\n",
    "print('>%.3f (%.3f)' % (scores.mean(), scores.std()))\n",
    "\"\"\"\n",
    "#Test Score:  0.875\n",
    "#Test Score:  0.925\n",
    "#Test Score:  0.8375 -X\n",
    "#Test Score:  0.85\n",
    "# TODO Check slides, run with different weights wit cross validation, train on full dataset"
   ]
  },
  {
   "cell_type": "code",
   "execution_count": 167,
   "metadata": {},
   "outputs": [
    {
     "output_type": "stream",
     "name": "stdout",
     "text": [
      "Mean Absolute Error: 0.275\nMean Squared Error: 0.55\nRoot Mean Squared Error: 0.7416198487095663\n"
     ]
    }
   ],
   "source": [
    "from sklearn import metrics\n",
    "\n",
    "print('Mean Absolute Error:', metrics.mean_absolute_error(y_test, y_pred1))\n",
    "print('Mean Squared Error:', metrics.mean_squared_error(y_test, y_pred1))\n",
    "print('Root Mean Squared Error:', np.sqrt(metrics.mean_squared_error(y_test, y_pred1)))"
   ]
  },
  {
   "cell_type": "code",
   "execution_count": 168,
   "metadata": {},
   "outputs": [
    {
     "output_type": "stream",
     "name": "stdout",
     "text": [
      "> RF 0.794 (0.040)\n",
      "> ET 0.803 (0.033)\n"
     ]
    }
   ],
   "source": [
    "from sklearn.linear_model import LogisticRegression\n",
    "\n",
    "def evaluate_model(X_train, y_train, X_test, y_test, model):\n",
    "\tcv = RepeatedStratifiedKFold(n_splits=5, n_repeats=3, random_state=1)\n",
    "\treturn cross_val_score(model, X_train, y_train, scoring='accuracy', cv=cv, n_jobs=-1)\n",
    "\n",
    "models, names = list(), list()\n",
    "# SVM\n",
    "#models.append(SVC(gamma='auto'))\n",
    "#names.append('SVM')\n",
    "# KNN\n",
    "#models.append(KNeighborsClassifier())\n",
    "#names.append('KNN')\n",
    "# Neutral Network\n",
    "#models.append(MLPClassifier(solver = 'adam', max_iter=1000, tol=0.000001, early_stopping=True, validation_fraction=0.1, n_iter_no_change=20))\n",
    "#names.append('NEU')\n",
    "# Bagging\n",
    "#models.append(BaggingClassifier(n_estimators=1000))\n",
    "#names.append('BAG')\n",
    "# ls.append(LogisticRegression())\n",
    "#names.append('LR')\n",
    "# RF\n",
    "models.append(RandomForestClassifier(n_estimators=1000))\n",
    "names.append(' RF')\n",
    "# ET\n",
    "models.append(ExtraTreesClassifier(n_estimators=1000, random_state=10))\n",
    "names.append(' ET')\n",
    "\n",
    "\n",
    "results = list()\n",
    "for i in range(len(models)):\n",
    "\tscores = evaluate_model(X_train, y_train, X_test, y_test, models[i])\n",
    "\tresults.append(scores)\n",
    "\tprint('>%s %.3f (%.3f)' % (names[i], scores.mean(), scores.std()))\n",
    "\t"
   ]
  },
  {
   "cell_type": "code",
   "execution_count": 169,
   "metadata": {},
   "outputs": [
    {
     "output_type": "stream",
     "name": "stdout",
     "text": [
      "{'n_estimators': [1000, 1250, 1500, 1750, 2000], 'max_features': ['auto', 'sqrt'], 'max_depth': [10, 20, 30, 40, 50, 60, 70, 80, 90, 100, 110, None], 'min_samples_split': [2, 5, 10], 'min_samples_leaf': [1, 2, 4], 'bootstrap': [True, False]}\n"
     ]
    }
   ],
   "source": [
    "from sklearn.model_selection import RandomizedSearchCV\n",
    "\n",
    "# Maximum number of levels in tree\n",
    "max_depth = [int(x) for x in np.linspace(10, 110, num = 11)]\n",
    "max_depth.append(None)\n",
    "\n",
    "# Create the random grid\n",
    "random_grid = {'n_estimators': [int(x) for x in np.linspace(start = 1000, stop = 2000, num = 5)],\n",
    "               'max_features': ['auto', 'sqrt'],\n",
    "               'max_depth': max_depth,\n",
    "               'min_samples_split': [2, 5, 10],\n",
    "               'min_samples_leaf': [1, 2, 4],\n",
    "               'bootstrap': [True, False]}\n",
    "\n",
    "print(random_grid)"
   ]
  },
  {
   "cell_type": "code",
   "execution_count": 170,
   "metadata": {},
   "outputs": [
    {
     "output_type": "stream",
     "name": "stdout",
     "text": [
      "Fitting 3 folds for each of 100 candidates, totalling 300 fits\n",
      "Elapsed time:  127.65100002288818  seconds, which is:  2.1275166670481362  minutes\n"
     ]
    }
   ],
   "source": [
    "import time\n",
    "\n",
    "rf = ExtraTreesClassifier()\n",
    "\n",
    "# Random search of parameters, using 3 fold cross validation, search across 100 different combinations, and use all available cores\n",
    "rf_random = RandomizedSearchCV(estimator = rf, param_distributions = random_grid, n_iter = 100, cv = 3, verbose=2, random_state=42, n_jobs = -1)\n",
    "\n",
    "# Fit the random search model\n",
    "start = time.time()\n",
    "\n",
    "rf_random.fit(X_train, y_train)\n",
    "\n",
    "end = time.time()\n",
    "print(\"Elapsed time: \", end - start, \" seconds, which is: \", (end - start) / 60, \" minutes\")"
   ]
  },
  {
   "cell_type": "code",
   "execution_count": 171,
   "metadata": {},
   "outputs": [
    {
     "output_type": "execute_result",
     "data": {
      "text/plain": [
       "{'n_estimators': 1000,\n",
       " 'min_samples_split': 2,\n",
       " 'min_samples_leaf': 2,\n",
       " 'max_features': 'sqrt',\n",
       " 'max_depth': 30,\n",
       " 'bootstrap': True}"
      ]
     },
     "metadata": {},
     "execution_count": 171
    }
   ],
   "source": [
    "rf_random.best_params_"
   ]
  },
  {
   "cell_type": "code",
   "execution_count": 172,
   "metadata": {},
   "outputs": [
    {
     "output_type": "stream",
     "name": "stdout",
     "text": [
      "Accuracy = 0.86%.\nAccuracy = 0.82%.\nImprovement of -4.35%.\n"
     ]
    }
   ],
   "source": [
    "def evaluate(model, X_test, y_test):\n",
    "    score = model.score(X_test, y_test)\n",
    "    print('Accuracy = {:0.2f}%.'.format(score))\n",
    "    return score\n",
    "    \n",
    "base_model = ExtraTreesClassifier(n_estimators = 1000, random_state=10)\n",
    "base_model.fit(X_train, y_train)\n",
    "base_accuracy = evaluate(base_model, X_test, y_test)\n",
    "\n",
    "random_accuracy = evaluate(rf_random.best_estimator_, X_test, y_test)\n",
    "\n",
    "print('Improvement of {:0.2f}%.'.format( 100 * (random_accuracy - base_accuracy) / base_accuracy))"
   ]
  },
  {
   "cell_type": "code",
   "execution_count": 173,
   "metadata": {},
   "outputs": [],
   "source": [
    "from sklearn.model_selection import GridSearchCV\n",
    "\n",
    "# Create the parameter grid based on the results of random search \n",
    "param_grid = {\n",
    "    'bootstrap': [False],\n",
    "    'max_depth': [30,40,50,60,70, 80, 90, 100],\n",
    "    'max_features': ['auto'],\n",
    "    'min_samples_leaf': [1, 2],\n",
    "    'min_samples_split': [1, 2],\n",
    "    'n_estimators': [1250, 1500]\n",
    "}\n",
    "\n",
    "# Create a based model\n",
    "rf = RandomForestClassifier()\n",
    "# Instantiate the grid search model\n",
    "grid_search = GridSearchCV(estimator = rf, param_grid = param_grid, cv = 3, n_jobs = -1, verbose = 3)"
   ]
  },
  {
   "cell_type": "code",
   "execution_count": 174,
   "metadata": {},
   "outputs": [
    {
     "output_type": "stream",
     "name": "stdout",
     "text": [
      "Fitting 3 folds for each of 64 candidates, totalling 192 fits\n",
      "C:\\Users\\Gábor\\AppData\\Local\\Programs\\Python\\Python38\\lib\\site-packages\\sklearn\\model_selection\\_search.py:918: UserWarning: One or more of the test scores are non-finite: [       nan        nan 0.82816082 0.82193029        nan        nan\n",
      " 0.80943984 0.81569976        nan        nan 0.82193029 0.82193029\n",
      "        nan        nan 0.82504555 0.82501616        nan        nan\n",
      " 0.82504555 0.83130547        nan        nan 0.83127608 0.81258449\n",
      "        nan        nan 0.82816082 0.82504555        nan        nan\n",
      " 0.8219009  0.82501616        nan        nan 0.82813143 0.82193029\n",
      "        nan        nan 0.81567037 0.83127608        nan        nan\n",
      " 0.83130547 0.82504555        nan        nan 0.81881502 0.83127608\n",
      "        nan        nan 0.82816082 0.82504555        nan        nan\n",
      " 0.82813143 0.82816082        nan        nan 0.83127608 0.82816082\n",
      "        nan        nan 0.8219009  0.81881502]\n",
      "  warnings.warn(\n",
      "Elapsed time:  51.189998149871826  seconds, which is:  0.8531666358311971  minutes\n"
     ]
    },
    {
     "output_type": "execute_result",
     "data": {
      "text/plain": [
       "{'bootstrap': False,\n",
       " 'max_depth': 50,\n",
       " 'max_features': 'auto',\n",
       " 'min_samples_leaf': 1,\n",
       " 'min_samples_split': 2,\n",
       " 'n_estimators': 1500}"
      ]
     },
     "metadata": {},
     "execution_count": 174
    }
   ],
   "source": [
    "start = time.time()\n",
    "\n",
    "grid_search.fit(X_train, y_train)\n",
    "\n",
    "end = time.time()\n",
    "print(\"Elapsed time: \", end - start, \" seconds, which is: \", (end - start) / 60, \" minutes\")\n",
    "\n",
    "grid_search.best_params_"
   ]
  },
  {
   "cell_type": "code",
   "execution_count": 179,
   "metadata": {},
   "outputs": [
    {
     "output_type": "stream",
     "name": "stdout",
     "text": [
      "Accuracy = 0.88%.\nImprovement of 1.45%.\n[[39  5]\n [ 5 31]]\n"
     ]
    }
   ],
   "source": [
    "# Fit the grid search to the data\n",
    "\n",
    "grid_accuracy = evaluate(grid_search.best_estimator_, X_test, y_test)\n",
    "\n",
    "print('Improvement of {:0.2f}%.'.format( 100 * (grid_accuracy - base_accuracy) / base_accuracy))\n",
    "print(confusion_matrix(y_test, y_pred_votingclf))"
   ]
  },
  {
   "cell_type": "code",
   "execution_count": 176,
   "metadata": {},
   "outputs": [
    {
     "output_type": "stream",
     "name": "stdout",
     "text": [
      ">Best Estimator  0.787 (0.041)\n"
     ]
    }
   ],
   "source": [
    "# Cross valudate\n",
    "cv = RepeatedStratifiedKFold(n_splits=5, n_repeats=3, random_state=1)\n",
    "scores = cross_val_score(grid_search.best_estimator_, X_train, y_train, scoring='accuracy', cv=cv, n_jobs=-1)\n",
    "print('>%s %.3f (%.3f)' % (\"Best Estimator \", scores.mean(), scores.std()))"
   ]
  },
  {
   "source": [
    "# Predicting the original Test Set with X_train"
   ],
   "cell_type": "markdown",
   "metadata": {}
  },
  {
   "cell_type": "code",
   "execution_count": 195,
   "metadata": {},
   "outputs": [
    {
     "output_type": "execute_result",
     "data": {
      "text/plain": [
       "    C1  C4  C5  C8  C9 C10 C11 C12 C13 C14  ...     X9    X10    X11    X12  \\\n",
       "0   V2  V1  V2  V1  V1  V4  V1  V3  V2  V1  ...    NaN -0.241 -0.162 -0.536   \n",
       "1   V2  V1  V2  V1  V1  V4  V2  V3  V2  V1  ...    NaN -0.636  0.895 -0.536   \n",
       "2   V2  V1  V2  V1  V4  V6  V5  V2  V1  V2  ... -0.223  0.568  0.752 -0.536   \n",
       "3   V2  V1  V2  V1  V4  V6  V4  V2  V1  V2  ... -0.223 -0.007  0.095 -0.536   \n",
       "4   V2  V2  V2  V1  V1  V4  V1  V3  V2  V2  ...  0.233  1.234 -0.305 -0.536   \n",
       "..  ..  ..  ..  ..  ..  ..  ..  ..  ..  ..  ...    ...    ...    ...    ...   \n",
       "95  V2  V1  V2  V2  V1  V4  V2  V1  V2  V2  ... -0.314  0.658  0.609 -0.536   \n",
       "96  V2  V1  V2  V2  V1  V4  V1  V1  V2  V2  ... -0.314  1.090 -0.076 -0.536   \n",
       "97  V1  V1  V1  V2  V3  V5  V3  V2  V1  V2  ... -0.375 -0.133  0.609 -0.536   \n",
       "98  V1  V1  V1  V1  V4  V6  V5  V2  V1  V2  ... -0.375 -1.517 -1.305 -0.536   \n",
       "99  V2  V2  V2  V1  V4  V6  V6  V2  V1  V2  ... -0.375  0.101  0.209 -0.536   \n",
       "\n",
       "      X13    X14    X15    X16    X17    X18  \n",
       "0  -0.092  0.182  2.751 -0.394  0.401  0.724  \n",
       "1  -0.092  1.098  1.393 -0.394  0.401  0.724  \n",
       "2  -0.092  0.548 -0.782  0.050  0.401  0.018  \n",
       "3  -0.092 -1.651 -1.325  0.050  0.401  0.018  \n",
       "4  -0.092 -0.552  1.936 -0.394  0.401  0.018  \n",
       "..    ...    ...    ...    ...    ...    ...  \n",
       "95 -0.092 -1.651  1.393 -0.616 -2.574 -0.605  \n",
       "96 -0.092  0.182  5.469 -0.394 -2.574  0.033  \n",
       "97 -0.092  0.182  0.034  1.160 -2.574 -0.605  \n",
       "98 -0.092 -0.735 -1.053  1.160 -2.574 -0.605  \n",
       "99 -0.092  0.182  0.034  1.160 -2.574 -1.244  \n",
       "\n",
       "[100 rows x 28 columns]"
      ],
      "text/html": "<div>\n<style scoped>\n    .dataframe tbody tr th:only-of-type {\n        vertical-align: middle;\n    }\n\n    .dataframe tbody tr th {\n        vertical-align: top;\n    }\n\n    .dataframe thead th {\n        text-align: right;\n    }\n</style>\n<table border=\"1\" class=\"dataframe\">\n  <thead>\n    <tr style=\"text-align: right;\">\n      <th></th>\n      <th>C1</th>\n      <th>C4</th>\n      <th>C5</th>\n      <th>C8</th>\n      <th>C9</th>\n      <th>C10</th>\n      <th>C11</th>\n      <th>C12</th>\n      <th>C13</th>\n      <th>C14</th>\n      <th>...</th>\n      <th>X9</th>\n      <th>X10</th>\n      <th>X11</th>\n      <th>X12</th>\n      <th>X13</th>\n      <th>X14</th>\n      <th>X15</th>\n      <th>X16</th>\n      <th>X17</th>\n      <th>X18</th>\n    </tr>\n  </thead>\n  <tbody>\n    <tr>\n      <th>0</th>\n      <td>V2</td>\n      <td>V1</td>\n      <td>V2</td>\n      <td>V1</td>\n      <td>V1</td>\n      <td>V4</td>\n      <td>V1</td>\n      <td>V3</td>\n      <td>V2</td>\n      <td>V1</td>\n      <td>...</td>\n      <td>NaN</td>\n      <td>-0.241</td>\n      <td>-0.162</td>\n      <td>-0.536</td>\n      <td>-0.092</td>\n      <td>0.182</td>\n      <td>2.751</td>\n      <td>-0.394</td>\n      <td>0.401</td>\n      <td>0.724</td>\n    </tr>\n    <tr>\n      <th>1</th>\n      <td>V2</td>\n      <td>V1</td>\n      <td>V2</td>\n      <td>V1</td>\n      <td>V1</td>\n      <td>V4</td>\n      <td>V2</td>\n      <td>V3</td>\n      <td>V2</td>\n      <td>V1</td>\n      <td>...</td>\n      <td>NaN</td>\n      <td>-0.636</td>\n      <td>0.895</td>\n      <td>-0.536</td>\n      <td>-0.092</td>\n      <td>1.098</td>\n      <td>1.393</td>\n      <td>-0.394</td>\n      <td>0.401</td>\n      <td>0.724</td>\n    </tr>\n    <tr>\n      <th>2</th>\n      <td>V2</td>\n      <td>V1</td>\n      <td>V2</td>\n      <td>V1</td>\n      <td>V4</td>\n      <td>V6</td>\n      <td>V5</td>\n      <td>V2</td>\n      <td>V1</td>\n      <td>V2</td>\n      <td>...</td>\n      <td>-0.223</td>\n      <td>0.568</td>\n      <td>0.752</td>\n      <td>-0.536</td>\n      <td>-0.092</td>\n      <td>0.548</td>\n      <td>-0.782</td>\n      <td>0.050</td>\n      <td>0.401</td>\n      <td>0.018</td>\n    </tr>\n    <tr>\n      <th>3</th>\n      <td>V2</td>\n      <td>V1</td>\n      <td>V2</td>\n      <td>V1</td>\n      <td>V4</td>\n      <td>V6</td>\n      <td>V4</td>\n      <td>V2</td>\n      <td>V1</td>\n      <td>V2</td>\n      <td>...</td>\n      <td>-0.223</td>\n      <td>-0.007</td>\n      <td>0.095</td>\n      <td>-0.536</td>\n      <td>-0.092</td>\n      <td>-1.651</td>\n      <td>-1.325</td>\n      <td>0.050</td>\n      <td>0.401</td>\n      <td>0.018</td>\n    </tr>\n    <tr>\n      <th>4</th>\n      <td>V2</td>\n      <td>V2</td>\n      <td>V2</td>\n      <td>V1</td>\n      <td>V1</td>\n      <td>V4</td>\n      <td>V1</td>\n      <td>V3</td>\n      <td>V2</td>\n      <td>V2</td>\n      <td>...</td>\n      <td>0.233</td>\n      <td>1.234</td>\n      <td>-0.305</td>\n      <td>-0.536</td>\n      <td>-0.092</td>\n      <td>-0.552</td>\n      <td>1.936</td>\n      <td>-0.394</td>\n      <td>0.401</td>\n      <td>0.018</td>\n    </tr>\n    <tr>\n      <th>...</th>\n      <td>...</td>\n      <td>...</td>\n      <td>...</td>\n      <td>...</td>\n      <td>...</td>\n      <td>...</td>\n      <td>...</td>\n      <td>...</td>\n      <td>...</td>\n      <td>...</td>\n      <td>...</td>\n      <td>...</td>\n      <td>...</td>\n      <td>...</td>\n      <td>...</td>\n      <td>...</td>\n      <td>...</td>\n      <td>...</td>\n      <td>...</td>\n      <td>...</td>\n      <td>...</td>\n    </tr>\n    <tr>\n      <th>95</th>\n      <td>V2</td>\n      <td>V1</td>\n      <td>V2</td>\n      <td>V2</td>\n      <td>V1</td>\n      <td>V4</td>\n      <td>V2</td>\n      <td>V1</td>\n      <td>V2</td>\n      <td>V2</td>\n      <td>...</td>\n      <td>-0.314</td>\n      <td>0.658</td>\n      <td>0.609</td>\n      <td>-0.536</td>\n      <td>-0.092</td>\n      <td>-1.651</td>\n      <td>1.393</td>\n      <td>-0.616</td>\n      <td>-2.574</td>\n      <td>-0.605</td>\n    </tr>\n    <tr>\n      <th>96</th>\n      <td>V2</td>\n      <td>V1</td>\n      <td>V2</td>\n      <td>V2</td>\n      <td>V1</td>\n      <td>V4</td>\n      <td>V1</td>\n      <td>V1</td>\n      <td>V2</td>\n      <td>V2</td>\n      <td>...</td>\n      <td>-0.314</td>\n      <td>1.090</td>\n      <td>-0.076</td>\n      <td>-0.536</td>\n      <td>-0.092</td>\n      <td>0.182</td>\n      <td>5.469</td>\n      <td>-0.394</td>\n      <td>-2.574</td>\n      <td>0.033</td>\n    </tr>\n    <tr>\n      <th>97</th>\n      <td>V1</td>\n      <td>V1</td>\n      <td>V1</td>\n      <td>V2</td>\n      <td>V3</td>\n      <td>V5</td>\n      <td>V3</td>\n      <td>V2</td>\n      <td>V1</td>\n      <td>V2</td>\n      <td>...</td>\n      <td>-0.375</td>\n      <td>-0.133</td>\n      <td>0.609</td>\n      <td>-0.536</td>\n      <td>-0.092</td>\n      <td>0.182</td>\n      <td>0.034</td>\n      <td>1.160</td>\n      <td>-2.574</td>\n      <td>-0.605</td>\n    </tr>\n    <tr>\n      <th>98</th>\n      <td>V1</td>\n      <td>V1</td>\n      <td>V1</td>\n      <td>V1</td>\n      <td>V4</td>\n      <td>V6</td>\n      <td>V5</td>\n      <td>V2</td>\n      <td>V1</td>\n      <td>V2</td>\n      <td>...</td>\n      <td>-0.375</td>\n      <td>-1.517</td>\n      <td>-1.305</td>\n      <td>-0.536</td>\n      <td>-0.092</td>\n      <td>-0.735</td>\n      <td>-1.053</td>\n      <td>1.160</td>\n      <td>-2.574</td>\n      <td>-0.605</td>\n    </tr>\n    <tr>\n      <th>99</th>\n      <td>V2</td>\n      <td>V2</td>\n      <td>V2</td>\n      <td>V1</td>\n      <td>V4</td>\n      <td>V6</td>\n      <td>V6</td>\n      <td>V2</td>\n      <td>V1</td>\n      <td>V2</td>\n      <td>...</td>\n      <td>-0.375</td>\n      <td>0.101</td>\n      <td>0.209</td>\n      <td>-0.536</td>\n      <td>-0.092</td>\n      <td>0.182</td>\n      <td>0.034</td>\n      <td>1.160</td>\n      <td>-2.574</td>\n      <td>-1.244</td>\n    </tr>\n  </tbody>\n</table>\n<p>100 rows × 28 columns</p>\n</div>"
     },
     "metadata": {},
     "execution_count": 195
    }
   ],
   "source": [
    "test_to_predict = pd.read_csv(\"test.csv\", header=None)\n",
    "new_cols = ['C' + str(i) for i in range(1, 14 + 1)] + ['X' + str(i) for i in range(1, 19 + 1)]\n",
    "test_to_predict.columns = new_cols\n",
    "\n",
    "test_to_predict = test_to_predict.drop(['C2', 'C3', 'C6', 'C7', 'X19'], axis=1)\n",
    "\n",
    "numerical_features = test_to_predict.select_dtypes(include=['float64']).columns\n",
    "categorical_features = test_to_predict.select_dtypes(include=['object']).columns\n",
    "test_to_predict"
   ]
  },
  {
   "cell_type": "code",
   "execution_count": 196,
   "metadata": {},
   "outputs": [],
   "source": [
    "test_to_predict.loc[:, numerical_features] = iterative_numerical_imputer.transform(test_to_predict.loc[:, numerical_features])\n",
    "test_to_predict.loc[:, categorical_features] = categorical_imputer.transform(test_to_predict.loc[:, categorical_features])\n",
    "\n",
    "test_to_predict_len = len(test_to_predict)\n",
    "original = pd.concat([features, test_to_predict])\n",
    "original = pd.get_dummies(original)\n",
    "test_to_predict = X[:test_to_predict_len]"
   ]
  },
  {
   "cell_type": "code",
   "execution_count": 197,
   "metadata": {},
   "outputs": [
    {
     "output_type": "execute_result",
     "data": {
      "text/plain": [
       "           X1     X2        X3        X4     X5        X6        X7        X8  \\\n",
       "233  1.655000 -0.614  0.823000 -0.131849  0.189 -0.513000  2.093000  0.967000   \n",
       "8   -0.059141 -0.738 -0.617000 -0.282000  1.094  1.425000  0.229000 -0.844000   \n",
       "300 -0.557000  0.379  0.348000 -0.438000  1.094 -0.010909 -0.209000 -0.844000   \n",
       "136  1.378000  0.627  3.226000 -1.221000 -0.716  0.133000  0.625503 -0.202000   \n",
       "38  -2.215000 -1.607 -0.617000 -1.064000 -1.104 -0.513000 -0.648000 -0.844000   \n",
       "..        ...    ...       ...       ...    ...       ...       ...       ...   \n",
       "388  0.203365  0.503 -1.092000  1.283000  2.128 -0.513000 -0.428000  0.036771   \n",
       "247 -0.439134 -1.111 -0.293023  0.579000 -0.716 -0.513000 -0.099000 -0.844000   \n",
       "244  2.207000 -1.111 -0.617000  1.675000  2.775  2.071000 -0.648000  1.712000   \n",
       "190  1.378000  0.006  0.823000 -0.125000 -1.104 -0.513000 -0.648000  0.777000   \n",
       "320 -0.004000  1.371 -0.617000 -0.282000 -0.328  0.133000  2.093000 -0.844000   \n",
       "\n",
       "        X9       X10  ...  C12_V1  C12_V2  C12_V3  C13_V1  C13_V2  C13_V3  \\\n",
       "233 -1.315 -0.744000  ...       0       1       0       0       0       0   \n",
       "8   -1.288  1.234000  ...       0       1       0       1       0       0   \n",
       "300 -2.505  0.568000  ...       0       1       0       1       0       0   \n",
       "136 -1.288 -0.528000  ...       0       1       0       1       0       0   \n",
       "38  -0.680  0.568000  ...       1       0       0       0       1       0   \n",
       "..     ...       ...  ...     ...     ...     ...     ...     ...     ...   \n",
       "388 -0.680 -0.207746  ...       0       1       0       1       0       0   \n",
       "247  0.537  1.126000  ...       1       0       0       0       1       0   \n",
       "244  1.298 -1.284000  ...       1       0       0       1       0       0   \n",
       "190  0.081 -0.924000  ...       1       0       0       1       0       0   \n",
       "320 -0.984  0.568000  ...       0       1       0       1       0       0   \n",
       "\n",
       "     C13_V4  C13_V5  C14_V1  C14_V2  \n",
       "233       0       1       1       0  \n",
       "8         0       0       1       0  \n",
       "300       0       0       0       1  \n",
       "136       0       0       1       0  \n",
       "38        0       0       1       0  \n",
       "..      ...     ...     ...     ...  \n",
       "388       0       0       0       1  \n",
       "247       0       0       0       1  \n",
       "244       0       0       0       1  \n",
       "190       0       0       1       0  \n",
       "320       0       0       1       0  \n",
       "\n",
       "[100 rows x 57 columns]"
      ],
      "text/html": "<div>\n<style scoped>\n    .dataframe tbody tr th:only-of-type {\n        vertical-align: middle;\n    }\n\n    .dataframe tbody tr th {\n        vertical-align: top;\n    }\n\n    .dataframe thead th {\n        text-align: right;\n    }\n</style>\n<table border=\"1\" class=\"dataframe\">\n  <thead>\n    <tr style=\"text-align: right;\">\n      <th></th>\n      <th>X1</th>\n      <th>X2</th>\n      <th>X3</th>\n      <th>X4</th>\n      <th>X5</th>\n      <th>X6</th>\n      <th>X7</th>\n      <th>X8</th>\n      <th>X9</th>\n      <th>X10</th>\n      <th>...</th>\n      <th>C12_V1</th>\n      <th>C12_V2</th>\n      <th>C12_V3</th>\n      <th>C13_V1</th>\n      <th>C13_V2</th>\n      <th>C13_V3</th>\n      <th>C13_V4</th>\n      <th>C13_V5</th>\n      <th>C14_V1</th>\n      <th>C14_V2</th>\n    </tr>\n  </thead>\n  <tbody>\n    <tr>\n      <th>233</th>\n      <td>1.655000</td>\n      <td>-0.614</td>\n      <td>0.823000</td>\n      <td>-0.131849</td>\n      <td>0.189</td>\n      <td>-0.513000</td>\n      <td>2.093000</td>\n      <td>0.967000</td>\n      <td>-1.315</td>\n      <td>-0.744000</td>\n      <td>...</td>\n      <td>0</td>\n      <td>1</td>\n      <td>0</td>\n      <td>0</td>\n      <td>0</td>\n      <td>0</td>\n      <td>0</td>\n      <td>1</td>\n      <td>1</td>\n      <td>0</td>\n    </tr>\n    <tr>\n      <th>8</th>\n      <td>-0.059141</td>\n      <td>-0.738</td>\n      <td>-0.617000</td>\n      <td>-0.282000</td>\n      <td>1.094</td>\n      <td>1.425000</td>\n      <td>0.229000</td>\n      <td>-0.844000</td>\n      <td>-1.288</td>\n      <td>1.234000</td>\n      <td>...</td>\n      <td>0</td>\n      <td>1</td>\n      <td>0</td>\n      <td>1</td>\n      <td>0</td>\n      <td>0</td>\n      <td>0</td>\n      <td>0</td>\n      <td>1</td>\n      <td>0</td>\n    </tr>\n    <tr>\n      <th>300</th>\n      <td>-0.557000</td>\n      <td>0.379</td>\n      <td>0.348000</td>\n      <td>-0.438000</td>\n      <td>1.094</td>\n      <td>-0.010909</td>\n      <td>-0.209000</td>\n      <td>-0.844000</td>\n      <td>-2.505</td>\n      <td>0.568000</td>\n      <td>...</td>\n      <td>0</td>\n      <td>1</td>\n      <td>0</td>\n      <td>1</td>\n      <td>0</td>\n      <td>0</td>\n      <td>0</td>\n      <td>0</td>\n      <td>0</td>\n      <td>1</td>\n    </tr>\n    <tr>\n      <th>136</th>\n      <td>1.378000</td>\n      <td>0.627</td>\n      <td>3.226000</td>\n      <td>-1.221000</td>\n      <td>-0.716</td>\n      <td>0.133000</td>\n      <td>0.625503</td>\n      <td>-0.202000</td>\n      <td>-1.288</td>\n      <td>-0.528000</td>\n      <td>...</td>\n      <td>0</td>\n      <td>1</td>\n      <td>0</td>\n      <td>1</td>\n      <td>0</td>\n      <td>0</td>\n      <td>0</td>\n      <td>0</td>\n      <td>1</td>\n      <td>0</td>\n    </tr>\n    <tr>\n      <th>38</th>\n      <td>-2.215000</td>\n      <td>-1.607</td>\n      <td>-0.617000</td>\n      <td>-1.064000</td>\n      <td>-1.104</td>\n      <td>-0.513000</td>\n      <td>-0.648000</td>\n      <td>-0.844000</td>\n      <td>-0.680</td>\n      <td>0.568000</td>\n      <td>...</td>\n      <td>1</td>\n      <td>0</td>\n      <td>0</td>\n      <td>0</td>\n      <td>1</td>\n      <td>0</td>\n      <td>0</td>\n      <td>0</td>\n      <td>1</td>\n      <td>0</td>\n    </tr>\n    <tr>\n      <th>...</th>\n      <td>...</td>\n      <td>...</td>\n      <td>...</td>\n      <td>...</td>\n      <td>...</td>\n      <td>...</td>\n      <td>...</td>\n      <td>...</td>\n      <td>...</td>\n      <td>...</td>\n      <td>...</td>\n      <td>...</td>\n      <td>...</td>\n      <td>...</td>\n      <td>...</td>\n      <td>...</td>\n      <td>...</td>\n      <td>...</td>\n      <td>...</td>\n      <td>...</td>\n      <td>...</td>\n    </tr>\n    <tr>\n      <th>388</th>\n      <td>0.203365</td>\n      <td>0.503</td>\n      <td>-1.092000</td>\n      <td>1.283000</td>\n      <td>2.128</td>\n      <td>-0.513000</td>\n      <td>-0.428000</td>\n      <td>0.036771</td>\n      <td>-0.680</td>\n      <td>-0.207746</td>\n      <td>...</td>\n      <td>0</td>\n      <td>1</td>\n      <td>0</td>\n      <td>1</td>\n      <td>0</td>\n      <td>0</td>\n      <td>0</td>\n      <td>0</td>\n      <td>0</td>\n      <td>1</td>\n    </tr>\n    <tr>\n      <th>247</th>\n      <td>-0.439134</td>\n      <td>-1.111</td>\n      <td>-0.293023</td>\n      <td>0.579000</td>\n      <td>-0.716</td>\n      <td>-0.513000</td>\n      <td>-0.099000</td>\n      <td>-0.844000</td>\n      <td>0.537</td>\n      <td>1.126000</td>\n      <td>...</td>\n      <td>1</td>\n      <td>0</td>\n      <td>0</td>\n      <td>0</td>\n      <td>1</td>\n      <td>0</td>\n      <td>0</td>\n      <td>0</td>\n      <td>0</td>\n      <td>1</td>\n    </tr>\n    <tr>\n      <th>244</th>\n      <td>2.207000</td>\n      <td>-1.111</td>\n      <td>-0.617000</td>\n      <td>1.675000</td>\n      <td>2.775</td>\n      <td>2.071000</td>\n      <td>-0.648000</td>\n      <td>1.712000</td>\n      <td>1.298</td>\n      <td>-1.284000</td>\n      <td>...</td>\n      <td>1</td>\n      <td>0</td>\n      <td>0</td>\n      <td>1</td>\n      <td>0</td>\n      <td>0</td>\n      <td>0</td>\n      <td>0</td>\n      <td>0</td>\n      <td>1</td>\n    </tr>\n    <tr>\n      <th>190</th>\n      <td>1.378000</td>\n      <td>0.006</td>\n      <td>0.823000</td>\n      <td>-0.125000</td>\n      <td>-1.104</td>\n      <td>-0.513000</td>\n      <td>-0.648000</td>\n      <td>0.777000</td>\n      <td>0.081</td>\n      <td>-0.924000</td>\n      <td>...</td>\n      <td>1</td>\n      <td>0</td>\n      <td>0</td>\n      <td>1</td>\n      <td>0</td>\n      <td>0</td>\n      <td>0</td>\n      <td>0</td>\n      <td>1</td>\n      <td>0</td>\n    </tr>\n    <tr>\n      <th>320</th>\n      <td>-0.004000</td>\n      <td>1.371</td>\n      <td>-0.617000</td>\n      <td>-0.282000</td>\n      <td>-0.328</td>\n      <td>0.133000</td>\n      <td>2.093000</td>\n      <td>-0.844000</td>\n      <td>-0.984</td>\n      <td>0.568000</td>\n      <td>...</td>\n      <td>0</td>\n      <td>1</td>\n      <td>0</td>\n      <td>1</td>\n      <td>0</td>\n      <td>0</td>\n      <td>0</td>\n      <td>0</td>\n      <td>1</td>\n      <td>0</td>\n    </tr>\n  </tbody>\n</table>\n<p>100 rows × 57 columns</p>\n</div>"
     },
     "metadata": {},
     "execution_count": 197
    }
   ],
   "source": [
    "test_to_predict"
   ]
  },
  {
   "cell_type": "code",
   "execution_count": 198,
   "metadata": {},
   "outputs": [
    {
     "output_type": "stream",
     "name": "stdout",
     "text": [
      "Count(1):  45 Count(-1):  55\n81.81818181818183\n"
     ]
    }
   ],
   "source": [
    "prediction = grid_search.best_estimator_.predict(test_to_predict)\n",
    "print(\"Count(1): \", np.count_nonzero(prediction == 1), \"Count(-1): \", np.count_nonzero(prediction == -1))\n",
    "print((np.count_nonzero(prediction == 1)/np.count_nonzero(prediction == -1)) * 100)"
   ]
  },
  {
   "cell_type": "code",
   "execution_count": 199,
   "metadata": {},
   "outputs": [],
   "source": [
    "# Exporting\n",
    "prediction = pd.DataFrame(prediction)\n",
    "prediction.to_csv(\"predictions.csv\", index=False, header=False)"
   ]
  },
  {
   "cell_type": "code",
   "execution_count": 43,
   "metadata": {},
   "outputs": [],
   "source": [
    "# TODO https://datascience.stackexchange.com/questions/75345/need-help-understanding-data-leakage\n",
    "# TODO https://towardsdatascience.com/hyperparameter-tuning-the-random-forest-in-python-using-scikit-learn-28d2aa77dd74"
   ]
  },
  {
   "source": [
    "# Predicting the Test Set with Full Training set"
   ],
   "cell_type": "markdown",
   "metadata": {}
  },
  {
   "cell_type": "code",
   "execution_count": 217,
   "metadata": {},
   "outputs": [
    {
     "output_type": "execute_result",
     "data": {
      "text/plain": [
       "      C1  C4  C5   C8  C9 C10 C11 C12  C13 C14  ...     X9    X10    X11  \\\n",
       "0     V1  V1  V1   V1  V1  V1  V1  V1   V1  V1  ... -0.375 -0.924 -0.619   \n",
       "1     V1  V1  V1   V1  V3  V5  V3  V2   V1  V2  ... -0.527  0.820  0.352   \n",
       "2     V1  V1  V1   V1  V2  V2  V1  V2   V1  V1  ... -0.223 -1.823 -1.933   \n",
       "3     V1  V1  V1   V1  V2  V2  V2  V2   V1  V2  ... -0.223 -1.284 -0.762   \n",
       "4     V1  V1  V1   V1  V1  V1  V1  V1   V1  V1  ... -0.375 -0.546 -0.505   \n",
       "..   ...  ..  ..  ...  ..  ..  ..  ..  ...  ..  ...    ...    ...    ...   \n",
       "395  NaN  V3  V1  NaN  V1  V4  V2  V1  NaN  V2  ...  0.172    NaN    NaN   \n",
       "396  NaN  V3  V2   V1  V3  V2  V5  V1  NaN  V2  ...  0.842    NaN    NaN   \n",
       "397  NaN  V3  V2  NaN  V1  V4  V1  V1  NaN  V2  ...  0.242    NaN    NaN   \n",
       "398  NaN  V3  V1  NaN  V1  V8  V1  V1  NaN  V2  ...  0.242    NaN    NaN   \n",
       "399  NaN  V3  V1   V1  V3  V2  V5  V1  NaN  V2  ...  0.689    NaN    NaN   \n",
       "\n",
       "       X12    X13    X14    X15    X16    X17    X18  \n",
       "0   -0.536 -0.092  0.182  0.034 -0.172  0.401  0.393  \n",
       "1    0.073 -0.092  1.098  0.034  1.160  0.401  0.037  \n",
       "2   -0.536 -0.092  1.098  0.034  0.716  0.401  0.724  \n",
       "3   -0.536 -0.092  1.098  0.034  0.716  0.401  0.712  \n",
       "4   -0.536 -0.092  0.182  0.034  0.716  0.401  0.393  \n",
       "..     ...    ...    ...    ...    ...    ...    ...  \n",
       "395    NaN    NaN -2.568  0.034    NaN  0.401  1.890  \n",
       "396    NaN    NaN -4.401 -2.684    NaN  0.401  1.391  \n",
       "397    NaN    NaN  0.548  4.926    NaN  0.401  0.992  \n",
       "398    NaN    NaN -1.651  3.567    NaN  0.401  0.992  \n",
       "399    NaN    NaN  0.182  0.034    NaN  0.401  1.012  \n",
       "\n",
       "[400 rows x 28 columns]"
      ],
      "text/html": "<div>\n<style scoped>\n    .dataframe tbody tr th:only-of-type {\n        vertical-align: middle;\n    }\n\n    .dataframe tbody tr th {\n        vertical-align: top;\n    }\n\n    .dataframe thead th {\n        text-align: right;\n    }\n</style>\n<table border=\"1\" class=\"dataframe\">\n  <thead>\n    <tr style=\"text-align: right;\">\n      <th></th>\n      <th>C1</th>\n      <th>C4</th>\n      <th>C5</th>\n      <th>C8</th>\n      <th>C9</th>\n      <th>C10</th>\n      <th>C11</th>\n      <th>C12</th>\n      <th>C13</th>\n      <th>C14</th>\n      <th>...</th>\n      <th>X9</th>\n      <th>X10</th>\n      <th>X11</th>\n      <th>X12</th>\n      <th>X13</th>\n      <th>X14</th>\n      <th>X15</th>\n      <th>X16</th>\n      <th>X17</th>\n      <th>X18</th>\n    </tr>\n  </thead>\n  <tbody>\n    <tr>\n      <th>0</th>\n      <td>V1</td>\n      <td>V1</td>\n      <td>V1</td>\n      <td>V1</td>\n      <td>V1</td>\n      <td>V1</td>\n      <td>V1</td>\n      <td>V1</td>\n      <td>V1</td>\n      <td>V1</td>\n      <td>...</td>\n      <td>-0.375</td>\n      <td>-0.924</td>\n      <td>-0.619</td>\n      <td>-0.536</td>\n      <td>-0.092</td>\n      <td>0.182</td>\n      <td>0.034</td>\n      <td>-0.172</td>\n      <td>0.401</td>\n      <td>0.393</td>\n    </tr>\n    <tr>\n      <th>1</th>\n      <td>V1</td>\n      <td>V1</td>\n      <td>V1</td>\n      <td>V1</td>\n      <td>V3</td>\n      <td>V5</td>\n      <td>V3</td>\n      <td>V2</td>\n      <td>V1</td>\n      <td>V2</td>\n      <td>...</td>\n      <td>-0.527</td>\n      <td>0.820</td>\n      <td>0.352</td>\n      <td>0.073</td>\n      <td>-0.092</td>\n      <td>1.098</td>\n      <td>0.034</td>\n      <td>1.160</td>\n      <td>0.401</td>\n      <td>0.037</td>\n    </tr>\n    <tr>\n      <th>2</th>\n      <td>V1</td>\n      <td>V1</td>\n      <td>V1</td>\n      <td>V1</td>\n      <td>V2</td>\n      <td>V2</td>\n      <td>V1</td>\n      <td>V2</td>\n      <td>V1</td>\n      <td>V1</td>\n      <td>...</td>\n      <td>-0.223</td>\n      <td>-1.823</td>\n      <td>-1.933</td>\n      <td>-0.536</td>\n      <td>-0.092</td>\n      <td>1.098</td>\n      <td>0.034</td>\n      <td>0.716</td>\n      <td>0.401</td>\n      <td>0.724</td>\n    </tr>\n    <tr>\n      <th>3</th>\n      <td>V1</td>\n      <td>V1</td>\n      <td>V1</td>\n      <td>V1</td>\n      <td>V2</td>\n      <td>V2</td>\n      <td>V2</td>\n      <td>V2</td>\n      <td>V1</td>\n      <td>V2</td>\n      <td>...</td>\n      <td>-0.223</td>\n      <td>-1.284</td>\n      <td>-0.762</td>\n      <td>-0.536</td>\n      <td>-0.092</td>\n      <td>1.098</td>\n      <td>0.034</td>\n      <td>0.716</td>\n      <td>0.401</td>\n      <td>0.712</td>\n    </tr>\n    <tr>\n      <th>4</th>\n      <td>V1</td>\n      <td>V1</td>\n      <td>V1</td>\n      <td>V1</td>\n      <td>V1</td>\n      <td>V1</td>\n      <td>V1</td>\n      <td>V1</td>\n      <td>V1</td>\n      <td>V1</td>\n      <td>...</td>\n      <td>-0.375</td>\n      <td>-0.546</td>\n      <td>-0.505</td>\n      <td>-0.536</td>\n      <td>-0.092</td>\n      <td>0.182</td>\n      <td>0.034</td>\n      <td>0.716</td>\n      <td>0.401</td>\n      <td>0.393</td>\n    </tr>\n    <tr>\n      <th>...</th>\n      <td>...</td>\n      <td>...</td>\n      <td>...</td>\n      <td>...</td>\n      <td>...</td>\n      <td>...</td>\n      <td>...</td>\n      <td>...</td>\n      <td>...</td>\n      <td>...</td>\n      <td>...</td>\n      <td>...</td>\n      <td>...</td>\n      <td>...</td>\n      <td>...</td>\n      <td>...</td>\n      <td>...</td>\n      <td>...</td>\n      <td>...</td>\n      <td>...</td>\n      <td>...</td>\n    </tr>\n    <tr>\n      <th>395</th>\n      <td>NaN</td>\n      <td>V3</td>\n      <td>V1</td>\n      <td>NaN</td>\n      <td>V1</td>\n      <td>V4</td>\n      <td>V2</td>\n      <td>V1</td>\n      <td>NaN</td>\n      <td>V2</td>\n      <td>...</td>\n      <td>0.172</td>\n      <td>NaN</td>\n      <td>NaN</td>\n      <td>NaN</td>\n      <td>NaN</td>\n      <td>-2.568</td>\n      <td>0.034</td>\n      <td>NaN</td>\n      <td>0.401</td>\n      <td>1.890</td>\n    </tr>\n    <tr>\n      <th>396</th>\n      <td>NaN</td>\n      <td>V3</td>\n      <td>V2</td>\n      <td>V1</td>\n      <td>V3</td>\n      <td>V2</td>\n      <td>V5</td>\n      <td>V1</td>\n      <td>NaN</td>\n      <td>V2</td>\n      <td>...</td>\n      <td>0.842</td>\n      <td>NaN</td>\n      <td>NaN</td>\n      <td>NaN</td>\n      <td>NaN</td>\n      <td>-4.401</td>\n      <td>-2.684</td>\n      <td>NaN</td>\n      <td>0.401</td>\n      <td>1.391</td>\n    </tr>\n    <tr>\n      <th>397</th>\n      <td>NaN</td>\n      <td>V3</td>\n      <td>V2</td>\n      <td>NaN</td>\n      <td>V1</td>\n      <td>V4</td>\n      <td>V1</td>\n      <td>V1</td>\n      <td>NaN</td>\n      <td>V2</td>\n      <td>...</td>\n      <td>0.242</td>\n      <td>NaN</td>\n      <td>NaN</td>\n      <td>NaN</td>\n      <td>NaN</td>\n      <td>0.548</td>\n      <td>4.926</td>\n      <td>NaN</td>\n      <td>0.401</td>\n      <td>0.992</td>\n    </tr>\n    <tr>\n      <th>398</th>\n      <td>NaN</td>\n      <td>V3</td>\n      <td>V1</td>\n      <td>NaN</td>\n      <td>V1</td>\n      <td>V8</td>\n      <td>V1</td>\n      <td>V1</td>\n      <td>NaN</td>\n      <td>V2</td>\n      <td>...</td>\n      <td>0.242</td>\n      <td>NaN</td>\n      <td>NaN</td>\n      <td>NaN</td>\n      <td>NaN</td>\n      <td>-1.651</td>\n      <td>3.567</td>\n      <td>NaN</td>\n      <td>0.401</td>\n      <td>0.992</td>\n    </tr>\n    <tr>\n      <th>399</th>\n      <td>NaN</td>\n      <td>V3</td>\n      <td>V1</td>\n      <td>V1</td>\n      <td>V3</td>\n      <td>V2</td>\n      <td>V5</td>\n      <td>V1</td>\n      <td>NaN</td>\n      <td>V2</td>\n      <td>...</td>\n      <td>0.689</td>\n      <td>NaN</td>\n      <td>NaN</td>\n      <td>NaN</td>\n      <td>NaN</td>\n      <td>0.182</td>\n      <td>0.034</td>\n      <td>NaN</td>\n      <td>0.401</td>\n      <td>1.012</td>\n    </tr>\n  </tbody>\n</table>\n<p>400 rows × 28 columns</p>\n</div>"
     },
     "metadata": {},
     "execution_count": 217
    }
   ],
   "source": [
    "df = pd.read_csv(\"train.csv\", header=None)\n",
    "new_cols = ['C' + str(i) for i in range(1, 14 + 1)] + ['X' + str(i) for i in range(1, 19 + 2)]\n",
    "new_cols[-1] = 'Y'\n",
    "df.columns = new_cols\n",
    "\n",
    "train = df.loc[:, df.columns != 'Y']\n",
    "\n",
    "train = train.drop(['C2', 'C3', 'C6', 'C7', 'X19'], axis=1)\n",
    "\n",
    "numerical_features = train.select_dtypes(include=['float64']).columns\n",
    "categorical_features = train.select_dtypes(include=['object']).columns\n",
    "y = df['Y']\n",
    "\n",
    "train"
   ]
  },
  {
   "cell_type": "code",
   "execution_count": 218,
   "metadata": {},
   "outputs": [
    {
     "output_type": "execute_result",
     "data": {
      "text/plain": [
       "    C1  C4  C5  C8  C9 C10 C11 C12 C13 C14  ...     X9    X10    X11    X12  \\\n",
       "0   V2  V1  V2  V1  V1  V4  V1  V3  V2  V1  ...    NaN -0.241 -0.162 -0.536   \n",
       "1   V2  V1  V2  V1  V1  V4  V2  V3  V2  V1  ...    NaN -0.636  0.895 -0.536   \n",
       "2   V2  V1  V2  V1  V4  V6  V5  V2  V1  V2  ... -0.223  0.568  0.752 -0.536   \n",
       "3   V2  V1  V2  V1  V4  V6  V4  V2  V1  V2  ... -0.223 -0.007  0.095 -0.536   \n",
       "4   V2  V2  V2  V1  V1  V4  V1  V3  V2  V2  ...  0.233  1.234 -0.305 -0.536   \n",
       "..  ..  ..  ..  ..  ..  ..  ..  ..  ..  ..  ...    ...    ...    ...    ...   \n",
       "95  V2  V1  V2  V2  V1  V4  V2  V1  V2  V2  ... -0.314  0.658  0.609 -0.536   \n",
       "96  V2  V1  V2  V2  V1  V4  V1  V1  V2  V2  ... -0.314  1.090 -0.076 -0.536   \n",
       "97  V1  V1  V1  V2  V3  V5  V3  V2  V1  V2  ... -0.375 -0.133  0.609 -0.536   \n",
       "98  V1  V1  V1  V1  V4  V6  V5  V2  V1  V2  ... -0.375 -1.517 -1.305 -0.536   \n",
       "99  V2  V2  V2  V1  V4  V6  V6  V2  V1  V2  ... -0.375  0.101  0.209 -0.536   \n",
       "\n",
       "      X13    X14    X15    X16    X17    X18  \n",
       "0  -0.092  0.182  2.751 -0.394  0.401  0.724  \n",
       "1  -0.092  1.098  1.393 -0.394  0.401  0.724  \n",
       "2  -0.092  0.548 -0.782  0.050  0.401  0.018  \n",
       "3  -0.092 -1.651 -1.325  0.050  0.401  0.018  \n",
       "4  -0.092 -0.552  1.936 -0.394  0.401  0.018  \n",
       "..    ...    ...    ...    ...    ...    ...  \n",
       "95 -0.092 -1.651  1.393 -0.616 -2.574 -0.605  \n",
       "96 -0.092  0.182  5.469 -0.394 -2.574  0.033  \n",
       "97 -0.092  0.182  0.034  1.160 -2.574 -0.605  \n",
       "98 -0.092 -0.735 -1.053  1.160 -2.574 -0.605  \n",
       "99 -0.092  0.182  0.034  1.160 -2.574 -1.244  \n",
       "\n",
       "[100 rows x 28 columns]"
      ],
      "text/html": "<div>\n<style scoped>\n    .dataframe tbody tr th:only-of-type {\n        vertical-align: middle;\n    }\n\n    .dataframe tbody tr th {\n        vertical-align: top;\n    }\n\n    .dataframe thead th {\n        text-align: right;\n    }\n</style>\n<table border=\"1\" class=\"dataframe\">\n  <thead>\n    <tr style=\"text-align: right;\">\n      <th></th>\n      <th>C1</th>\n      <th>C4</th>\n      <th>C5</th>\n      <th>C8</th>\n      <th>C9</th>\n      <th>C10</th>\n      <th>C11</th>\n      <th>C12</th>\n      <th>C13</th>\n      <th>C14</th>\n      <th>...</th>\n      <th>X9</th>\n      <th>X10</th>\n      <th>X11</th>\n      <th>X12</th>\n      <th>X13</th>\n      <th>X14</th>\n      <th>X15</th>\n      <th>X16</th>\n      <th>X17</th>\n      <th>X18</th>\n    </tr>\n  </thead>\n  <tbody>\n    <tr>\n      <th>0</th>\n      <td>V2</td>\n      <td>V1</td>\n      <td>V2</td>\n      <td>V1</td>\n      <td>V1</td>\n      <td>V4</td>\n      <td>V1</td>\n      <td>V3</td>\n      <td>V2</td>\n      <td>V1</td>\n      <td>...</td>\n      <td>NaN</td>\n      <td>-0.241</td>\n      <td>-0.162</td>\n      <td>-0.536</td>\n      <td>-0.092</td>\n      <td>0.182</td>\n      <td>2.751</td>\n      <td>-0.394</td>\n      <td>0.401</td>\n      <td>0.724</td>\n    </tr>\n    <tr>\n      <th>1</th>\n      <td>V2</td>\n      <td>V1</td>\n      <td>V2</td>\n      <td>V1</td>\n      <td>V1</td>\n      <td>V4</td>\n      <td>V2</td>\n      <td>V3</td>\n      <td>V2</td>\n      <td>V1</td>\n      <td>...</td>\n      <td>NaN</td>\n      <td>-0.636</td>\n      <td>0.895</td>\n      <td>-0.536</td>\n      <td>-0.092</td>\n      <td>1.098</td>\n      <td>1.393</td>\n      <td>-0.394</td>\n      <td>0.401</td>\n      <td>0.724</td>\n    </tr>\n    <tr>\n      <th>2</th>\n      <td>V2</td>\n      <td>V1</td>\n      <td>V2</td>\n      <td>V1</td>\n      <td>V4</td>\n      <td>V6</td>\n      <td>V5</td>\n      <td>V2</td>\n      <td>V1</td>\n      <td>V2</td>\n      <td>...</td>\n      <td>-0.223</td>\n      <td>0.568</td>\n      <td>0.752</td>\n      <td>-0.536</td>\n      <td>-0.092</td>\n      <td>0.548</td>\n      <td>-0.782</td>\n      <td>0.050</td>\n      <td>0.401</td>\n      <td>0.018</td>\n    </tr>\n    <tr>\n      <th>3</th>\n      <td>V2</td>\n      <td>V1</td>\n      <td>V2</td>\n      <td>V1</td>\n      <td>V4</td>\n      <td>V6</td>\n      <td>V4</td>\n      <td>V2</td>\n      <td>V1</td>\n      <td>V2</td>\n      <td>...</td>\n      <td>-0.223</td>\n      <td>-0.007</td>\n      <td>0.095</td>\n      <td>-0.536</td>\n      <td>-0.092</td>\n      <td>-1.651</td>\n      <td>-1.325</td>\n      <td>0.050</td>\n      <td>0.401</td>\n      <td>0.018</td>\n    </tr>\n    <tr>\n      <th>4</th>\n      <td>V2</td>\n      <td>V2</td>\n      <td>V2</td>\n      <td>V1</td>\n      <td>V1</td>\n      <td>V4</td>\n      <td>V1</td>\n      <td>V3</td>\n      <td>V2</td>\n      <td>V2</td>\n      <td>...</td>\n      <td>0.233</td>\n      <td>1.234</td>\n      <td>-0.305</td>\n      <td>-0.536</td>\n      <td>-0.092</td>\n      <td>-0.552</td>\n      <td>1.936</td>\n      <td>-0.394</td>\n      <td>0.401</td>\n      <td>0.018</td>\n    </tr>\n    <tr>\n      <th>...</th>\n      <td>...</td>\n      <td>...</td>\n      <td>...</td>\n      <td>...</td>\n      <td>...</td>\n      <td>...</td>\n      <td>...</td>\n      <td>...</td>\n      <td>...</td>\n      <td>...</td>\n      <td>...</td>\n      <td>...</td>\n      <td>...</td>\n      <td>...</td>\n      <td>...</td>\n      <td>...</td>\n      <td>...</td>\n      <td>...</td>\n      <td>...</td>\n      <td>...</td>\n      <td>...</td>\n    </tr>\n    <tr>\n      <th>95</th>\n      <td>V2</td>\n      <td>V1</td>\n      <td>V2</td>\n      <td>V2</td>\n      <td>V1</td>\n      <td>V4</td>\n      <td>V2</td>\n      <td>V1</td>\n      <td>V2</td>\n      <td>V2</td>\n      <td>...</td>\n      <td>-0.314</td>\n      <td>0.658</td>\n      <td>0.609</td>\n      <td>-0.536</td>\n      <td>-0.092</td>\n      <td>-1.651</td>\n      <td>1.393</td>\n      <td>-0.616</td>\n      <td>-2.574</td>\n      <td>-0.605</td>\n    </tr>\n    <tr>\n      <th>96</th>\n      <td>V2</td>\n      <td>V1</td>\n      <td>V2</td>\n      <td>V2</td>\n      <td>V1</td>\n      <td>V4</td>\n      <td>V1</td>\n      <td>V1</td>\n      <td>V2</td>\n      <td>V2</td>\n      <td>...</td>\n      <td>-0.314</td>\n      <td>1.090</td>\n      <td>-0.076</td>\n      <td>-0.536</td>\n      <td>-0.092</td>\n      <td>0.182</td>\n      <td>5.469</td>\n      <td>-0.394</td>\n      <td>-2.574</td>\n      <td>0.033</td>\n    </tr>\n    <tr>\n      <th>97</th>\n      <td>V1</td>\n      <td>V1</td>\n      <td>V1</td>\n      <td>V2</td>\n      <td>V3</td>\n      <td>V5</td>\n      <td>V3</td>\n      <td>V2</td>\n      <td>V1</td>\n      <td>V2</td>\n      <td>...</td>\n      <td>-0.375</td>\n      <td>-0.133</td>\n      <td>0.609</td>\n      <td>-0.536</td>\n      <td>-0.092</td>\n      <td>0.182</td>\n      <td>0.034</td>\n      <td>1.160</td>\n      <td>-2.574</td>\n      <td>-0.605</td>\n    </tr>\n    <tr>\n      <th>98</th>\n      <td>V1</td>\n      <td>V1</td>\n      <td>V1</td>\n      <td>V1</td>\n      <td>V4</td>\n      <td>V6</td>\n      <td>V5</td>\n      <td>V2</td>\n      <td>V1</td>\n      <td>V2</td>\n      <td>...</td>\n      <td>-0.375</td>\n      <td>-1.517</td>\n      <td>-1.305</td>\n      <td>-0.536</td>\n      <td>-0.092</td>\n      <td>-0.735</td>\n      <td>-1.053</td>\n      <td>1.160</td>\n      <td>-2.574</td>\n      <td>-0.605</td>\n    </tr>\n    <tr>\n      <th>99</th>\n      <td>V2</td>\n      <td>V2</td>\n      <td>V2</td>\n      <td>V1</td>\n      <td>V4</td>\n      <td>V6</td>\n      <td>V6</td>\n      <td>V2</td>\n      <td>V1</td>\n      <td>V2</td>\n      <td>...</td>\n      <td>-0.375</td>\n      <td>0.101</td>\n      <td>0.209</td>\n      <td>-0.536</td>\n      <td>-0.092</td>\n      <td>0.182</td>\n      <td>0.034</td>\n      <td>1.160</td>\n      <td>-2.574</td>\n      <td>-1.244</td>\n    </tr>\n  </tbody>\n</table>\n<p>100 rows × 28 columns</p>\n</div>"
     },
     "metadata": {},
     "execution_count": 218
    }
   ],
   "source": [
    "test = pd.read_csv(\"test.csv\", header=None)\n",
    "new_cols = ['C' + str(i) for i in range(1, 14 + 1)] + ['X' + str(i) for i in range(1, 19 + 1)]\n",
    "test.columns = new_cols\n",
    "\n",
    "test = test.drop(['C2', 'C3', 'C6', 'C7', 'X19'], axis=1)\n",
    "\n",
    "numerical_features = test.select_dtypes(include=['float64']).columns\n",
    "categorical_features = test.select_dtypes(include=['object']).columns\n",
    "\n",
    "test"
   ]
  },
  {
   "cell_type": "code",
   "execution_count": 219,
   "metadata": {},
   "outputs": [
    {
     "output_type": "execute_result",
     "data": {
      "text/plain": [
       "     C1  C4  C5  C8  C9 C10 C11 C12 C13 C14  ...     X9       X10       X11  \\\n",
       "0    V1  V1  V1  V1  V1  V1  V1  V1  V1  V1  ... -0.375 -0.924000 -0.619000   \n",
       "1    V1  V1  V1  V1  V3  V5  V3  V2  V1  V2  ... -0.527  0.820000  0.352000   \n",
       "2    V1  V1  V1  V1  V2  V2  V1  V2  V1  V1  ... -0.223 -1.823000 -1.933000   \n",
       "3    V1  V1  V1  V1  V2  V2  V2  V2  V1  V2  ... -0.223 -1.284000 -0.762000   \n",
       "4    V1  V1  V1  V1  V1  V1  V1  V1  V1  V1  ... -0.375 -0.546000 -0.505000   \n",
       "..   ..  ..  ..  ..  ..  ..  ..  ..  ..  ..  ...    ...       ...       ...   \n",
       "395  V2  V3  V1  V1  V1  V4  V2  V1  V1  V2  ...  0.172  0.031111  0.204139   \n",
       "396  V2  V3  V2  V1  V3  V2  V5  V1  V1  V2  ...  0.842  0.268684  0.520153   \n",
       "397  V2  V3  V2  V1  V1  V4  V1  V1  V1  V2  ...  0.242  0.664367  0.408371   \n",
       "398  V2  V3  V1  V1  V1  V8  V1  V1  V1  V2  ...  0.242  0.847706  0.645246   \n",
       "399  V2  V3  V1  V1  V3  V2  V5  V1  V1  V2  ...  0.689 -0.070691 -0.039105   \n",
       "\n",
       "          X12       X13    X14    X15       X16    X17    X18  \n",
       "0   -0.536000 -0.092000  0.182  0.034 -0.172000  0.401  0.393  \n",
       "1    0.073000 -0.092000  1.098  0.034  1.160000  0.401  0.037  \n",
       "2   -0.536000 -0.092000  1.098  0.034  0.716000  0.401  0.724  \n",
       "3   -0.536000 -0.092000  1.098  0.034  0.716000  0.401  0.712  \n",
       "4   -0.536000 -0.092000  0.182  0.034  0.716000  0.401  0.393  \n",
       "..        ...       ...    ...    ...       ...    ...    ...  \n",
       "395  0.332693 -0.014215 -2.568  0.034 -0.521930  0.401  1.890  \n",
       "396  0.164137 -0.085657 -4.401 -2.684 -1.110923  0.401  1.391  \n",
       "397  0.331851 -0.001259  0.548  4.926 -0.044944  0.401  0.992  \n",
       "398  0.355555 -0.015672 -1.651  3.567 -0.403745  0.401  0.992  \n",
       "399 -0.055928 -0.038938  0.182  0.034 -0.215041  0.401  1.012  \n",
       "\n",
       "[400 rows x 28 columns]"
      ],
      "text/html": "<div>\n<style scoped>\n    .dataframe tbody tr th:only-of-type {\n        vertical-align: middle;\n    }\n\n    .dataframe tbody tr th {\n        vertical-align: top;\n    }\n\n    .dataframe thead th {\n        text-align: right;\n    }\n</style>\n<table border=\"1\" class=\"dataframe\">\n  <thead>\n    <tr style=\"text-align: right;\">\n      <th></th>\n      <th>C1</th>\n      <th>C4</th>\n      <th>C5</th>\n      <th>C8</th>\n      <th>C9</th>\n      <th>C10</th>\n      <th>C11</th>\n      <th>C12</th>\n      <th>C13</th>\n      <th>C14</th>\n      <th>...</th>\n      <th>X9</th>\n      <th>X10</th>\n      <th>X11</th>\n      <th>X12</th>\n      <th>X13</th>\n      <th>X14</th>\n      <th>X15</th>\n      <th>X16</th>\n      <th>X17</th>\n      <th>X18</th>\n    </tr>\n  </thead>\n  <tbody>\n    <tr>\n      <th>0</th>\n      <td>V1</td>\n      <td>V1</td>\n      <td>V1</td>\n      <td>V1</td>\n      <td>V1</td>\n      <td>V1</td>\n      <td>V1</td>\n      <td>V1</td>\n      <td>V1</td>\n      <td>V1</td>\n      <td>...</td>\n      <td>-0.375</td>\n      <td>-0.924000</td>\n      <td>-0.619000</td>\n      <td>-0.536000</td>\n      <td>-0.092000</td>\n      <td>0.182</td>\n      <td>0.034</td>\n      <td>-0.172000</td>\n      <td>0.401</td>\n      <td>0.393</td>\n    </tr>\n    <tr>\n      <th>1</th>\n      <td>V1</td>\n      <td>V1</td>\n      <td>V1</td>\n      <td>V1</td>\n      <td>V3</td>\n      <td>V5</td>\n      <td>V3</td>\n      <td>V2</td>\n      <td>V1</td>\n      <td>V2</td>\n      <td>...</td>\n      <td>-0.527</td>\n      <td>0.820000</td>\n      <td>0.352000</td>\n      <td>0.073000</td>\n      <td>-0.092000</td>\n      <td>1.098</td>\n      <td>0.034</td>\n      <td>1.160000</td>\n      <td>0.401</td>\n      <td>0.037</td>\n    </tr>\n    <tr>\n      <th>2</th>\n      <td>V1</td>\n      <td>V1</td>\n      <td>V1</td>\n      <td>V1</td>\n      <td>V2</td>\n      <td>V2</td>\n      <td>V1</td>\n      <td>V2</td>\n      <td>V1</td>\n      <td>V1</td>\n      <td>...</td>\n      <td>-0.223</td>\n      <td>-1.823000</td>\n      <td>-1.933000</td>\n      <td>-0.536000</td>\n      <td>-0.092000</td>\n      <td>1.098</td>\n      <td>0.034</td>\n      <td>0.716000</td>\n      <td>0.401</td>\n      <td>0.724</td>\n    </tr>\n    <tr>\n      <th>3</th>\n      <td>V1</td>\n      <td>V1</td>\n      <td>V1</td>\n      <td>V1</td>\n      <td>V2</td>\n      <td>V2</td>\n      <td>V2</td>\n      <td>V2</td>\n      <td>V1</td>\n      <td>V2</td>\n      <td>...</td>\n      <td>-0.223</td>\n      <td>-1.284000</td>\n      <td>-0.762000</td>\n      <td>-0.536000</td>\n      <td>-0.092000</td>\n      <td>1.098</td>\n      <td>0.034</td>\n      <td>0.716000</td>\n      <td>0.401</td>\n      <td>0.712</td>\n    </tr>\n    <tr>\n      <th>4</th>\n      <td>V1</td>\n      <td>V1</td>\n      <td>V1</td>\n      <td>V1</td>\n      <td>V1</td>\n      <td>V1</td>\n      <td>V1</td>\n      <td>V1</td>\n      <td>V1</td>\n      <td>V1</td>\n      <td>...</td>\n      <td>-0.375</td>\n      <td>-0.546000</td>\n      <td>-0.505000</td>\n      <td>-0.536000</td>\n      <td>-0.092000</td>\n      <td>0.182</td>\n      <td>0.034</td>\n      <td>0.716000</td>\n      <td>0.401</td>\n      <td>0.393</td>\n    </tr>\n    <tr>\n      <th>...</th>\n      <td>...</td>\n      <td>...</td>\n      <td>...</td>\n      <td>...</td>\n      <td>...</td>\n      <td>...</td>\n      <td>...</td>\n      <td>...</td>\n      <td>...</td>\n      <td>...</td>\n      <td>...</td>\n      <td>...</td>\n      <td>...</td>\n      <td>...</td>\n      <td>...</td>\n      <td>...</td>\n      <td>...</td>\n      <td>...</td>\n      <td>...</td>\n      <td>...</td>\n      <td>...</td>\n    </tr>\n    <tr>\n      <th>395</th>\n      <td>V2</td>\n      <td>V3</td>\n      <td>V1</td>\n      <td>V1</td>\n      <td>V1</td>\n      <td>V4</td>\n      <td>V2</td>\n      <td>V1</td>\n      <td>V1</td>\n      <td>V2</td>\n      <td>...</td>\n      <td>0.172</td>\n      <td>0.031111</td>\n      <td>0.204139</td>\n      <td>0.332693</td>\n      <td>-0.014215</td>\n      <td>-2.568</td>\n      <td>0.034</td>\n      <td>-0.521930</td>\n      <td>0.401</td>\n      <td>1.890</td>\n    </tr>\n    <tr>\n      <th>396</th>\n      <td>V2</td>\n      <td>V3</td>\n      <td>V2</td>\n      <td>V1</td>\n      <td>V3</td>\n      <td>V2</td>\n      <td>V5</td>\n      <td>V1</td>\n      <td>V1</td>\n      <td>V2</td>\n      <td>...</td>\n      <td>0.842</td>\n      <td>0.268684</td>\n      <td>0.520153</td>\n      <td>0.164137</td>\n      <td>-0.085657</td>\n      <td>-4.401</td>\n      <td>-2.684</td>\n      <td>-1.110923</td>\n      <td>0.401</td>\n      <td>1.391</td>\n    </tr>\n    <tr>\n      <th>397</th>\n      <td>V2</td>\n      <td>V3</td>\n      <td>V2</td>\n      <td>V1</td>\n      <td>V1</td>\n      <td>V4</td>\n      <td>V1</td>\n      <td>V1</td>\n      <td>V1</td>\n      <td>V2</td>\n      <td>...</td>\n      <td>0.242</td>\n      <td>0.664367</td>\n      <td>0.408371</td>\n      <td>0.331851</td>\n      <td>-0.001259</td>\n      <td>0.548</td>\n      <td>4.926</td>\n      <td>-0.044944</td>\n      <td>0.401</td>\n      <td>0.992</td>\n    </tr>\n    <tr>\n      <th>398</th>\n      <td>V2</td>\n      <td>V3</td>\n      <td>V1</td>\n      <td>V1</td>\n      <td>V1</td>\n      <td>V8</td>\n      <td>V1</td>\n      <td>V1</td>\n      <td>V1</td>\n      <td>V2</td>\n      <td>...</td>\n      <td>0.242</td>\n      <td>0.847706</td>\n      <td>0.645246</td>\n      <td>0.355555</td>\n      <td>-0.015672</td>\n      <td>-1.651</td>\n      <td>3.567</td>\n      <td>-0.403745</td>\n      <td>0.401</td>\n      <td>0.992</td>\n    </tr>\n    <tr>\n      <th>399</th>\n      <td>V2</td>\n      <td>V3</td>\n      <td>V1</td>\n      <td>V1</td>\n      <td>V3</td>\n      <td>V2</td>\n      <td>V5</td>\n      <td>V1</td>\n      <td>V1</td>\n      <td>V2</td>\n      <td>...</td>\n      <td>0.689</td>\n      <td>-0.070691</td>\n      <td>-0.039105</td>\n      <td>-0.055928</td>\n      <td>-0.038938</td>\n      <td>0.182</td>\n      <td>0.034</td>\n      <td>-0.215041</td>\n      <td>0.401</td>\n      <td>1.012</td>\n    </tr>\n  </tbody>\n</table>\n<p>400 rows × 28 columns</p>\n</div>"
     },
     "metadata": {},
     "execution_count": 219
    }
   ],
   "source": [
    "from sklearn.impute import SimpleImputer\n",
    "from sklearn.experimental import enable_iterative_imputer\n",
    "from sklearn.impute import IterativeImputer\n",
    "\n",
    "iterative_numerical_imputer = IterativeImputer(max_iter=100)\n",
    "iterative_numerical_imputer.fit(features[numerical_features])\n",
    "train.loc[:, numerical_features] = iterative_numerical_imputer.transform(train.loc[:, numerical_features])\n",
    "test.loc[:, numerical_features] = iterative_numerical_imputer.transform(test.loc[:, numerical_features])\n",
    "\n",
    "categorical_imputer = SimpleImputer(missing_values=np.nan, strategy='most_frequent')\n",
    "categorical_imputer.fit(features[categorical_features])\n",
    "train.loc[:, categorical_features] = categorical_imputer.transform(train.loc[:, categorical_features])\n",
    "test.loc[:, categorical_features] = categorical_imputer.transform(test.loc[:, categorical_features])\n",
    "\n",
    "train"
   ]
  },
  {
   "cell_type": "code",
   "execution_count": 229,
   "metadata": {},
   "outputs": [],
   "source": [
    "train_len = len(train)\n",
    "X = pd.concat([train, test])\n",
    "X = pd.get_dummies(X)\n",
    "train = X[:train_len]\n",
    "test = X[train_len:]"
   ]
  },
  {
   "cell_type": "code",
   "execution_count": 224,
   "metadata": {},
   "outputs": [
    {
     "output_type": "stream",
     "name": "stdout",
     "text": [
      "Fitting 5 folds for each of 36 candidates, totalling 180 fits\n",
      "Elapsed time:  74.97100043296814  seconds, which is:  1.2495166738828023  minutes\n"
     ]
    },
    {
     "output_type": "execute_result",
     "data": {
      "text/plain": [
       "ExtraTreesClassifier(max_depth=60, min_samples_split=3, n_estimators=1250)"
      ]
     },
     "metadata": {},
     "execution_count": 224
    }
   ],
   "source": [
    "from sklearn.model_selection import GridSearchCV\n",
    "import time\n",
    "\n",
    "parameters = {\n",
    "    'bootstrap': [False],\n",
    "    'max_depth': [50, 60, 70],\n",
    "    'max_features': ['auto'],\n",
    "    'min_samples_leaf': [1, 2],\n",
    "    'min_samples_split': [2, 3],\n",
    "    'n_estimators': [1100, 1250, 1500]\n",
    "}\n",
    "\n",
    "grid_search = GridSearchCV(estimator = ExtraTreesClassifier(n_estimators=1000), param_grid = parameters, cv = 5, n_jobs = -1, verbose = 3)\n",
    "\n",
    "start = time.time()\n",
    "grid_search.fit(train, y)\n",
    "end = time.time()\n",
    "print(\"Elapsed time: \", end - start, \" seconds, which is: \", (end - start) / 60, \" minutes\")\n",
    "\n",
    "model = grid_search.best_estimator_\n",
    "model"
   ]
  },
  {
   "cell_type": "code",
   "execution_count": 230,
   "metadata": {},
   "outputs": [
    {
     "output_type": "stream",
     "name": "stdout",
     "text": [
      ">0.830 (0.033)\n"
     ]
    }
   ],
   "source": [
    "from sklearn.ensemble import RandomForestClassifier, VotingClassifier\n",
    "\n",
    "clf1 = RandomForestClassifier(n_estimators=1000)\n",
    "clf2 = BaggingClassifier(n_estimators=1000)\n",
    "clf3 = ExtraTreesClassifier(n_estimators=1000)\n",
    "\n",
    "votingclf = VotingClassifier(estimators=[('rf', clf1),  ('bag', clf2), ('et', clf3), ('tuned', model)], voting='hard', weights=[2,1,2,3], flatten_transform=True)\n",
    "votingclf = votingclf.fit(train, y)\n",
    "\n",
    "y_pred = votingclf.predict(test)\n",
    "\n",
    "cv = RepeatedStratifiedKFold(n_splits=5, n_repeats=3, random_state=1)\n",
    "scores = cross_val_score(votingclf, train, y, scoring='accuracy', cv=cv, n_jobs=-1)\n",
    "print('>%.3f (%.3f)' % (scores.mean(), scores.std()))\n",
    "\n",
    "# TODO Check slides, run with different weights wit cross validation, train on full dataset"
   ]
  },
  {
   "cell_type": "code",
   "execution_count": 231,
   "metadata": {},
   "outputs": [],
   "source": [
    "# Exporting\n",
    "y_pred = pd.DataFrame(y_pred)\n",
    "y_pred.to_csv(\"y_pred.csv\", index=False, header=False)"
   ]
  }
 ]
}