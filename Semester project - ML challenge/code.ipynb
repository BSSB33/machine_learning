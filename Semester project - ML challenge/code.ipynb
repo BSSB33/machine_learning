{
 "metadata": {
  "language_info": {
   "codemirror_mode": {
    "name": "ipython",
    "version": 3
   },
   "file_extension": ".py",
   "mimetype": "text/x-python",
   "name": "python",
   "nbconvert_exporter": "python",
   "pygments_lexer": "ipython3",
   "version": "3.8.8"
  },
  "orig_nbformat": 2,
  "kernelspec": {
   "name": "python388jvsc74a57bd02c829f9b014f45ac51ac6981ee268f80d78860744c6a50c09e5b990310b7d8d4",
   "display_name": "Python 3.8.8 64-bit"
  },
  "metadata": {
   "interpreter": {
    "hash": "2c829f9b014f45ac51ac6981ee268f80d78860744c6a50c09e5b990310b7d8d4"
   }
  }
 },
 "nbformat": 4,
 "nbformat_minor": 2,
 "cells": [
  {
   "cell_type": "code",
   "execution_count": 1,
   "metadata": {},
   "outputs": [],
   "source": [
    "import numpy as np\n",
    "import matplotlib.pyplot as plt\n",
    "import pandas as pd\n",
    "from collections import Counter\n",
    "from numpy import mean\n",
    "from numpy import std\n",
    "from pandas import read_csv\n",
    "from sklearn.preprocessing import LabelEncoder\n",
    "from sklearn.model_selection import cross_val_score\n",
    "from sklearn.model_selection import RepeatedStratifiedKFold\n",
    "from sklearn.svm import SVC\n",
    "from sklearn.neighbors import KNeighborsClassifier\n",
    "from sklearn.ensemble import RandomForestClassifier\n",
    "from sklearn.ensemble import ExtraTreesClassifier\n",
    "from sklearn.ensemble import BaggingClassifier\n",
    "from sklearn.preprocessing import StandardScaler\n",
    "from sklearn.preprocessing import MinMaxScaler\n",
    "from sklearn.feature_selection import SelectKBest,chi2,RFE\n",
    "from sklearn.ensemble import RandomForestClassifier\n",
    "from sklearn.model_selection import train_test_split\n",
    "from sklearn.pipeline import Pipeline\n",
    "from sklearn.preprocessing import StandardScaler, LabelEncoder\n",
    "from sklearn.compose import ColumnTransformer\n",
    "from sklearn.preprocessing import OneHotEncoder\n",
    "from sklearn.impute import SimpleImputer\n",
    "from sklearn.preprocessing import OrdinalEncoder"
   ]
  },
  {
   "cell_type": "code",
   "execution_count": 2,
   "metadata": {},
   "outputs": [
    {
     "output_type": "execute_result",
     "data": {
      "text/plain": [
       "   C1  C2  C3  C4  C5  C6  C7  C8  C9 C10  ...    X11    X12    X13    X14  \\\n",
       "0  V1  V1  V1  V1  V1  V1  V2  V1  V3  V5  ...  0.352  0.073 -0.092  1.098   \n",
       "1  V1  V1  V1  V1  V1  V1  V1  V1  V2  V2  ... -1.933 -0.536 -0.092  1.098   \n",
       "2  V1  V1  V1  V1  V1  V1  V1  V1  V2  V2  ... -0.762 -0.536 -0.092  1.098   \n",
       "3  V1  V1  V1  V1  V1  V1  V1  V1  V1  V1  ... -0.505 -0.536 -0.092  0.182   \n",
       "4  V1  V1  V1  V1  V1  V1  V1  V1  V1  V1  ...  0.409 -0.536 -0.092  0.731   \n",
       "\n",
       "     X15    X16    X17    X18    X19  Y  \n",
       "0  0.034  1.160  0.401  0.037  0.216  1  \n",
       "1  0.034  0.716  0.401  0.724  0.216 -1  \n",
       "2  0.034  0.716  0.401  0.712  0.216 -1  \n",
       "3  0.034  0.716  0.401  0.393  0.216  1  \n",
       "4  0.034  0.716  0.401  0.724  0.216  1  \n",
       "\n",
       "[5 rows x 34 columns]"
      ],
      "text/html": "<div>\n<style scoped>\n    .dataframe tbody tr th:only-of-type {\n        vertical-align: middle;\n    }\n\n    .dataframe tbody tr th {\n        vertical-align: top;\n    }\n\n    .dataframe thead th {\n        text-align: right;\n    }\n</style>\n<table border=\"1\" class=\"dataframe\">\n  <thead>\n    <tr style=\"text-align: right;\">\n      <th></th>\n      <th>C1</th>\n      <th>C2</th>\n      <th>C3</th>\n      <th>C4</th>\n      <th>C5</th>\n      <th>C6</th>\n      <th>C7</th>\n      <th>C8</th>\n      <th>C9</th>\n      <th>C10</th>\n      <th>...</th>\n      <th>X11</th>\n      <th>X12</th>\n      <th>X13</th>\n      <th>X14</th>\n      <th>X15</th>\n      <th>X16</th>\n      <th>X17</th>\n      <th>X18</th>\n      <th>X19</th>\n      <th>Y</th>\n    </tr>\n  </thead>\n  <tbody>\n    <tr>\n      <th>0</th>\n      <td>V1</td>\n      <td>V1</td>\n      <td>V1</td>\n      <td>V1</td>\n      <td>V1</td>\n      <td>V1</td>\n      <td>V2</td>\n      <td>V1</td>\n      <td>V3</td>\n      <td>V5</td>\n      <td>...</td>\n      <td>0.352</td>\n      <td>0.073</td>\n      <td>-0.092</td>\n      <td>1.098</td>\n      <td>0.034</td>\n      <td>1.160</td>\n      <td>0.401</td>\n      <td>0.037</td>\n      <td>0.216</td>\n      <td>1</td>\n    </tr>\n    <tr>\n      <th>1</th>\n      <td>V1</td>\n      <td>V1</td>\n      <td>V1</td>\n      <td>V1</td>\n      <td>V1</td>\n      <td>V1</td>\n      <td>V1</td>\n      <td>V1</td>\n      <td>V2</td>\n      <td>V2</td>\n      <td>...</td>\n      <td>-1.933</td>\n      <td>-0.536</td>\n      <td>-0.092</td>\n      <td>1.098</td>\n      <td>0.034</td>\n      <td>0.716</td>\n      <td>0.401</td>\n      <td>0.724</td>\n      <td>0.216</td>\n      <td>-1</td>\n    </tr>\n    <tr>\n      <th>2</th>\n      <td>V1</td>\n      <td>V1</td>\n      <td>V1</td>\n      <td>V1</td>\n      <td>V1</td>\n      <td>V1</td>\n      <td>V1</td>\n      <td>V1</td>\n      <td>V2</td>\n      <td>V2</td>\n      <td>...</td>\n      <td>-0.762</td>\n      <td>-0.536</td>\n      <td>-0.092</td>\n      <td>1.098</td>\n      <td>0.034</td>\n      <td>0.716</td>\n      <td>0.401</td>\n      <td>0.712</td>\n      <td>0.216</td>\n      <td>-1</td>\n    </tr>\n    <tr>\n      <th>3</th>\n      <td>V1</td>\n      <td>V1</td>\n      <td>V1</td>\n      <td>V1</td>\n      <td>V1</td>\n      <td>V1</td>\n      <td>V1</td>\n      <td>V1</td>\n      <td>V1</td>\n      <td>V1</td>\n      <td>...</td>\n      <td>-0.505</td>\n      <td>-0.536</td>\n      <td>-0.092</td>\n      <td>0.182</td>\n      <td>0.034</td>\n      <td>0.716</td>\n      <td>0.401</td>\n      <td>0.393</td>\n      <td>0.216</td>\n      <td>1</td>\n    </tr>\n    <tr>\n      <th>4</th>\n      <td>V1</td>\n      <td>V1</td>\n      <td>V1</td>\n      <td>V1</td>\n      <td>V1</td>\n      <td>V1</td>\n      <td>V1</td>\n      <td>V1</td>\n      <td>V1</td>\n      <td>V1</td>\n      <td>...</td>\n      <td>0.409</td>\n      <td>-0.536</td>\n      <td>-0.092</td>\n      <td>0.731</td>\n      <td>0.034</td>\n      <td>0.716</td>\n      <td>0.401</td>\n      <td>0.724</td>\n      <td>0.216</td>\n      <td>1</td>\n    </tr>\n  </tbody>\n</table>\n<p>5 rows × 34 columns</p>\n</div>"
     },
     "metadata": {},
     "execution_count": 2
    }
   ],
   "source": [
    "df = pd.read_csv(\"train.csv\")\n",
    "new_cols = ['C' + str(i) for i in range(1, 14 + 1)] + ['X' + str(i) for i in range(1, 19 + 2)]\n",
    "new_cols[-1] = 'Y'\n",
    "df.columns = new_cols\n",
    "\n",
    "df.head(5)"
   ]
  },
  {
   "cell_type": "code",
   "execution_count": 3,
   "metadata": {},
   "outputs": [],
   "source": [
    "features = df.loc[:, df.columns != 'Y']\n",
    "numerical_features = df.select_dtypes(include=['float64']).columns\n",
    "categorical_features = df.select_dtypes(include=['object']).columns\n",
    "target = df['Y']"
   ]
  },
  {
   "cell_type": "code",
   "execution_count": 4,
   "metadata": {},
   "outputs": [
    {
     "output_type": "stream",
     "name": "stderr",
     "text": [
      "C:\\Users\\Gábor\\AppData\\Local\\Programs\\Python\\Python38\\lib\\site-packages\\sklearn\\impute\\_iterative.py:685: ConvergenceWarning: [IterativeImputer] Early stopping criterion not reached.\n  warnings.warn(\"[IterativeImputer] Early stopping criterion not\"\n"
     ]
    },
    {
     "output_type": "execute_result",
     "data": {
      "text/plain": [
       "           X1        X2        X3     X4     X5     X6     X7        X8  \\\n",
       "0    0.549000 -0.738000  1.312000 -2.629 -1.104  0.133  3.189 -0.844000   \n",
       "1    2.207000 -0.986000  0.823000  0.501 -0.458  1.425  0.120  2.472000   \n",
       "2    2.207000 -0.986000 -1.092000  0.501 -1.363  0.133 -0.099  1.420000   \n",
       "3    0.549000 -0.118000  1.312000 -1.064  0.189  0.133  0.997  0.689000   \n",
       "4    0.549000 -0.118000  0.348000 -0.282 -1.104  1.425 -0.099  0.616000   \n",
       "..        ...       ...       ...    ...    ...    ...    ...       ...   \n",
       "394 -0.383681  0.130000 -0.125459  2.066  0.447  1.425 -0.648 -0.087371   \n",
       "395 -0.526892 -0.637898 -1.092000  0.579 -0.328 -1.159  0.339 -0.210310   \n",
       "396 -0.216824 -0.937403  0.348000  0.892 -1.104  1.425  0.339 -0.310218   \n",
       "397 -0.368202 -0.614000 -0.127000  0.814 -0.328  1.425  0.339 -0.441217   \n",
       "398 -0.186382 -0.614000 -1.092000 -0.908 -0.458  0.133 -0.648  0.046127   \n",
       "\n",
       "        X9       X10  ...  C12_V1  C12_V2  C12_V3  C13_V1  C13_V2  C13_V3  \\\n",
       "0   -0.527  0.820000  ...       0       1       0       1       0       0   \n",
       "1   -0.223 -1.823000  ...       0       1       0       1       0       0   \n",
       "2   -0.223 -1.284000  ...       0       1       0       1       0       0   \n",
       "3   -0.375 -0.546000  ...       1       0       0       1       0       0   \n",
       "4   -0.680 -1.014000  ...       1       0       0       1       0       0   \n",
       "..     ...       ...  ...     ...     ...     ...     ...     ...     ...   \n",
       "394  0.172  0.012301  ...       1       0       0       1       0       0   \n",
       "395  0.842  0.106467  ...       1       0       0       1       0       0   \n",
       "396  0.242  0.271979  ...       1       0       0       1       0       0   \n",
       "397  0.242  0.358153  ...       1       0       0       1       0       0   \n",
       "398  0.689 -0.055968  ...       1       0       0       1       0       0   \n",
       "\n",
       "     C13_V4  C13_V5  C14_V1  C14_V2  \n",
       "0         0       0       0       1  \n",
       "1         0       0       1       0  \n",
       "2         0       0       0       1  \n",
       "3         0       0       1       0  \n",
       "4         0       0       1       0  \n",
       "..      ...     ...     ...     ...  \n",
       "394       0       0       0       1  \n",
       "395       0       0       0       1  \n",
       "396       0       0       0       1  \n",
       "397       0       0       0       1  \n",
       "398       0       0       0       1  \n",
       "\n",
       "[399 rows x 68 columns]"
      ],
      "text/html": "<div>\n<style scoped>\n    .dataframe tbody tr th:only-of-type {\n        vertical-align: middle;\n    }\n\n    .dataframe tbody tr th {\n        vertical-align: top;\n    }\n\n    .dataframe thead th {\n        text-align: right;\n    }\n</style>\n<table border=\"1\" class=\"dataframe\">\n  <thead>\n    <tr style=\"text-align: right;\">\n      <th></th>\n      <th>X1</th>\n      <th>X2</th>\n      <th>X3</th>\n      <th>X4</th>\n      <th>X5</th>\n      <th>X6</th>\n      <th>X7</th>\n      <th>X8</th>\n      <th>X9</th>\n      <th>X10</th>\n      <th>...</th>\n      <th>C12_V1</th>\n      <th>C12_V2</th>\n      <th>C12_V3</th>\n      <th>C13_V1</th>\n      <th>C13_V2</th>\n      <th>C13_V3</th>\n      <th>C13_V4</th>\n      <th>C13_V5</th>\n      <th>C14_V1</th>\n      <th>C14_V2</th>\n    </tr>\n  </thead>\n  <tbody>\n    <tr>\n      <th>0</th>\n      <td>0.549000</td>\n      <td>-0.738000</td>\n      <td>1.312000</td>\n      <td>-2.629</td>\n      <td>-1.104</td>\n      <td>0.133</td>\n      <td>3.189</td>\n      <td>-0.844000</td>\n      <td>-0.527</td>\n      <td>0.820000</td>\n      <td>...</td>\n      <td>0</td>\n      <td>1</td>\n      <td>0</td>\n      <td>1</td>\n      <td>0</td>\n      <td>0</td>\n      <td>0</td>\n      <td>0</td>\n      <td>0</td>\n      <td>1</td>\n    </tr>\n    <tr>\n      <th>1</th>\n      <td>2.207000</td>\n      <td>-0.986000</td>\n      <td>0.823000</td>\n      <td>0.501</td>\n      <td>-0.458</td>\n      <td>1.425</td>\n      <td>0.120</td>\n      <td>2.472000</td>\n      <td>-0.223</td>\n      <td>-1.823000</td>\n      <td>...</td>\n      <td>0</td>\n      <td>1</td>\n      <td>0</td>\n      <td>1</td>\n      <td>0</td>\n      <td>0</td>\n      <td>0</td>\n      <td>0</td>\n      <td>1</td>\n      <td>0</td>\n    </tr>\n    <tr>\n      <th>2</th>\n      <td>2.207000</td>\n      <td>-0.986000</td>\n      <td>-1.092000</td>\n      <td>0.501</td>\n      <td>-1.363</td>\n      <td>0.133</td>\n      <td>-0.099</td>\n      <td>1.420000</td>\n      <td>-0.223</td>\n      <td>-1.284000</td>\n      <td>...</td>\n      <td>0</td>\n      <td>1</td>\n      <td>0</td>\n      <td>1</td>\n      <td>0</td>\n      <td>0</td>\n      <td>0</td>\n      <td>0</td>\n      <td>0</td>\n      <td>1</td>\n    </tr>\n    <tr>\n      <th>3</th>\n      <td>0.549000</td>\n      <td>-0.118000</td>\n      <td>1.312000</td>\n      <td>-1.064</td>\n      <td>0.189</td>\n      <td>0.133</td>\n      <td>0.997</td>\n      <td>0.689000</td>\n      <td>-0.375</td>\n      <td>-0.546000</td>\n      <td>...</td>\n      <td>1</td>\n      <td>0</td>\n      <td>0</td>\n      <td>1</td>\n      <td>0</td>\n      <td>0</td>\n      <td>0</td>\n      <td>0</td>\n      <td>1</td>\n      <td>0</td>\n    </tr>\n    <tr>\n      <th>4</th>\n      <td>0.549000</td>\n      <td>-0.118000</td>\n      <td>0.348000</td>\n      <td>-0.282</td>\n      <td>-1.104</td>\n      <td>1.425</td>\n      <td>-0.099</td>\n      <td>0.616000</td>\n      <td>-0.680</td>\n      <td>-1.014000</td>\n      <td>...</td>\n      <td>1</td>\n      <td>0</td>\n      <td>0</td>\n      <td>1</td>\n      <td>0</td>\n      <td>0</td>\n      <td>0</td>\n      <td>0</td>\n      <td>1</td>\n      <td>0</td>\n    </tr>\n    <tr>\n      <th>...</th>\n      <td>...</td>\n      <td>...</td>\n      <td>...</td>\n      <td>...</td>\n      <td>...</td>\n      <td>...</td>\n      <td>...</td>\n      <td>...</td>\n      <td>...</td>\n      <td>...</td>\n      <td>...</td>\n      <td>...</td>\n      <td>...</td>\n      <td>...</td>\n      <td>...</td>\n      <td>...</td>\n      <td>...</td>\n      <td>...</td>\n      <td>...</td>\n      <td>...</td>\n      <td>...</td>\n    </tr>\n    <tr>\n      <th>394</th>\n      <td>-0.383681</td>\n      <td>0.130000</td>\n      <td>-0.125459</td>\n      <td>2.066</td>\n      <td>0.447</td>\n      <td>1.425</td>\n      <td>-0.648</td>\n      <td>-0.087371</td>\n      <td>0.172</td>\n      <td>0.012301</td>\n      <td>...</td>\n      <td>1</td>\n      <td>0</td>\n      <td>0</td>\n      <td>1</td>\n      <td>0</td>\n      <td>0</td>\n      <td>0</td>\n      <td>0</td>\n      <td>0</td>\n      <td>1</td>\n    </tr>\n    <tr>\n      <th>395</th>\n      <td>-0.526892</td>\n      <td>-0.637898</td>\n      <td>-1.092000</td>\n      <td>0.579</td>\n      <td>-0.328</td>\n      <td>-1.159</td>\n      <td>0.339</td>\n      <td>-0.210310</td>\n      <td>0.842</td>\n      <td>0.106467</td>\n      <td>...</td>\n      <td>1</td>\n      <td>0</td>\n      <td>0</td>\n      <td>1</td>\n      <td>0</td>\n      <td>0</td>\n      <td>0</td>\n      <td>0</td>\n      <td>0</td>\n      <td>1</td>\n    </tr>\n    <tr>\n      <th>396</th>\n      <td>-0.216824</td>\n      <td>-0.937403</td>\n      <td>0.348000</td>\n      <td>0.892</td>\n      <td>-1.104</td>\n      <td>1.425</td>\n      <td>0.339</td>\n      <td>-0.310218</td>\n      <td>0.242</td>\n      <td>0.271979</td>\n      <td>...</td>\n      <td>1</td>\n      <td>0</td>\n      <td>0</td>\n      <td>1</td>\n      <td>0</td>\n      <td>0</td>\n      <td>0</td>\n      <td>0</td>\n      <td>0</td>\n      <td>1</td>\n    </tr>\n    <tr>\n      <th>397</th>\n      <td>-0.368202</td>\n      <td>-0.614000</td>\n      <td>-0.127000</td>\n      <td>0.814</td>\n      <td>-0.328</td>\n      <td>1.425</td>\n      <td>0.339</td>\n      <td>-0.441217</td>\n      <td>0.242</td>\n      <td>0.358153</td>\n      <td>...</td>\n      <td>1</td>\n      <td>0</td>\n      <td>0</td>\n      <td>1</td>\n      <td>0</td>\n      <td>0</td>\n      <td>0</td>\n      <td>0</td>\n      <td>0</td>\n      <td>1</td>\n    </tr>\n    <tr>\n      <th>398</th>\n      <td>-0.186382</td>\n      <td>-0.614000</td>\n      <td>-1.092000</td>\n      <td>-0.908</td>\n      <td>-0.458</td>\n      <td>0.133</td>\n      <td>-0.648</td>\n      <td>0.046127</td>\n      <td>0.689</td>\n      <td>-0.055968</td>\n      <td>...</td>\n      <td>1</td>\n      <td>0</td>\n      <td>0</td>\n      <td>1</td>\n      <td>0</td>\n      <td>0</td>\n      <td>0</td>\n      <td>0</td>\n      <td>0</td>\n      <td>1</td>\n    </tr>\n  </tbody>\n</table>\n<p>399 rows × 68 columns</p>\n</div>"
     },
     "metadata": {},
     "execution_count": 4
    }
   ],
   "source": [
    "from sklearn.impute import SimpleImputer\n",
    "from sklearn.experimental import enable_iterative_imputer\n",
    "from sklearn.impute import IterativeImputer\n",
    "\n",
    "iterative_numerical_imputer = IterativeImputer(max_iter=10)\n",
    "iterative_numerical_imputer.fit(df[numerical_features])\n",
    "df[numerical_features] = iterative_numerical_imputer.transform(df[numerical_features])\n",
    "\n",
    "categorical_imputer = SimpleImputer(missing_values=np.nan, strategy='most_frequent')\n",
    "categorical_imputer.fit(df[categorical_features])\n",
    "df[categorical_features] = categorical_imputer.transform(df[categorical_features])\n",
    "\n",
    "encoded_df = pd.get_dummies(df)\n",
    "encoded_features = encoded_df.loc[:, encoded_df.columns != 'Y']\n",
    "encoded_df"
   ]
  },
  {
   "cell_type": "code",
   "execution_count": 5,
   "metadata": {},
   "outputs": [],
   "source": [
    "encoded_df.to_csv(\"export.csv\", index=False)"
   ]
  },
  {
   "cell_type": "code",
   "execution_count": 6,
   "metadata": {},
   "outputs": [],
   "source": [
    "X_train, X_test, y_train, y_test = train_test_split(encoded_features, target, test_size=0.3)"
   ]
  },
  {
   "cell_type": "code",
   "execution_count": 7,
   "metadata": {},
   "outputs": [
    {
     "output_type": "execute_result",
     "data": {
      "text/plain": [
       "'\\nscaler = StandardScaler()\\nX_train = scaler.fit_transform(X_train)\\nX_test = scaler.transform(X_test)\\n'"
      ]
     },
     "metadata": {},
     "execution_count": 7
    }
   ],
   "source": [
    "\"\"\"\n",
    "scaler = StandardScaler()\n",
    "X_train = scaler.fit_transform(X_train)\n",
    "X_test = scaler.transform(X_test)\n",
    "\"\"\""
   ]
  },
  {
   "cell_type": "code",
   "execution_count": 19,
   "metadata": {},
   "outputs": [
    {
     "output_type": "stream",
     "name": "stdout",
     "text": [
      "[[71  1]\n [19 29]]\n              precision    recall  f1-score   support\n\n          -1       0.79      0.99      0.88        72\n           1       0.97      0.60      0.74        48\n\n    accuracy                           0.83       120\n   macro avg       0.88      0.80      0.81       120\nweighted avg       0.86      0.83      0.82       120\n\n"
     ]
    }
   ],
   "source": [
    "from sklearn.metrics import classification_report\n",
    "from sklearn.metrics import confusion_matrix\n",
    "\n",
    "classifier = RandomForestClassifier(n_estimators=1000)\n",
    "#classifier = ExtraTreesClassifier(n_estimators=1000)\n",
    "classifier.fit(X_train, y_train)\n",
    "y_pred = classifier.predict(X_test)\n",
    "\n",
    "cm = confusion_matrix(y_test, y_pred)\n",
    "print(cm)\n",
    "print(classification_report(y_test, y_pred))"
   ]
  },
  {
   "cell_type": "code",
   "execution_count": 9,
   "metadata": {},
   "outputs": [
    {
     "output_type": "stream",
     "name": "stdout",
     "text": [
      ">SVM 0.714 (0.043)\n",
      ">KNN 0.741 (0.039)\n",
      ">BAG 0.768 (0.050)\n",
      "> RF 0.781 (0.042)\n",
      "> ET 0.810 (0.031)\n"
     ]
    }
   ],
   "source": [
    "def evaluate_model(X_train, y_train, X_test, y_test, model):\n",
    "\tcv = RepeatedStratifiedKFold(n_splits=5, n_repeats=3, random_state=1)\n",
    "\t#model.fit(X_train, y_train)\n",
    "\treturn cross_val_score(model, X_train, y_train, scoring='accuracy', cv=cv, n_jobs=-1)\n",
    "\n",
    "models, names = list(), list()\n",
    "# SVM\n",
    "models.append(SVC(gamma='auto'))\n",
    "names.append('SVM')\n",
    "# KNN\n",
    "models.append(KNeighborsClassifier())\n",
    "names.append('KNN')\n",
    "# Bagging\n",
    "models.append(BaggingClassifier(n_estimators=1000))\n",
    "names.append('BAG')\n",
    "# RF\n",
    "models.append(RandomForestClassifier(n_estimators=1000))\n",
    "names.append(' RF')\n",
    "# ET\n",
    "models.append(ExtraTreesClassifier(n_estimators=1000))\n",
    "names.append(' ET')\n",
    "\n",
    "results = list()\n",
    "for i in range(len(models)):\n",
    "\tscores = evaluate_model(X_train, y_train, X_test, y_test, models[i])\n",
    "\tresults.append(scores)\n",
    "\tprint('>%s %.3f (%.3f)' % (names[i], scores.mean(), scores.std()))"
   ]
  },
  {
   "cell_type": "code",
   "execution_count": 10,
   "metadata": {},
   "outputs": [
    {
     "output_type": "execute_result",
     "data": {
      "text/plain": [
       "'\\nclf = RandomForestClassifier()\\nclf.fit(encoded_features, target)\\n\\nplt.figure(figsize=(20,8))\\nplt.bar(encoded_features.columns, clf.feature_importances_)\\nplt.xticks(rotation=45)\\n'"
      ]
     },
     "metadata": {},
     "execution_count": 10
    }
   ],
   "source": [
    "\"\"\"\n",
    "clf = RandomForestClassifier()\n",
    "clf.fit(encoded_features, target)\n",
    "\n",
    "plt.figure(figsize=(20,8))\n",
    "plt.bar(encoded_features.columns, clf.feature_importances_)\n",
    "plt.xticks(rotation=45)\n",
    "\"\"\""
   ]
  },
  {
   "cell_type": "code",
   "execution_count": 11,
   "metadata": {},
   "outputs": [],
   "source": [
    "#GridSearchCV?\n",
    "# TODO https://datascience.stackexchange.com/questions/75345/need-help-understanding-data-leakage"
   ]
  }
 ]
}