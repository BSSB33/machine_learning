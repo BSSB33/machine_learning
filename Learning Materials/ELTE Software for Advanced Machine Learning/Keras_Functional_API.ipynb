{
  "nbformat": 4,
  "nbformat_minor": 0,
  "metadata": {
    "colab": {
      "name": "Keras - Functional API.ipynb",
      "provenance": [],
      "collapsed_sections": [],
      "toc_visible": true
    },
    "kernelspec": {
      "name": "python3",
      "display_name": "Python 3"
    },
    "accelerator": "GPU"
  },
  "cells": [
    {
      "cell_type": "markdown",
      "metadata": {
        "id": "nf6E888AgP3l"
      },
      "source": [
        "# Keras Functional API\n",
        "This notebook shows how to use the  Functional API of Keras by implementing a 20 layer resnet. \n",
        "\n",
        "Up until this point we have only seen examples where layers were following each other sequentially. The input of the current layer was always the output of the previous layer. This setup was the standard until about 2014-15 when the InceptionNet and ResNet architectures appeared. Both have more complicated connections then simple sequential ones.\n",
        "\n",
        "Previous examples used the Sequential model API designed specifically for sequential models. The functional API let's you connect layers arbitrarily, in whatever way you want. It is very useful for more advanced architectures. Addtionally, it enables the network to have multiple inputs and outputs.\n",
        "\n",
        "## Functional API example\n",
        "First we will show how can the two layer network from the second lesson be written using Functional API. The network written in with the Sequential API looks like the following:\n",
        "\n"
      ]
    },
    {
      "cell_type": "code",
      "metadata": {
        "id": "ijfAYgXp8odW",
        "colab": {
          "base_uri": "https://localhost:8080/"
        },
        "outputId": "82c1017d-b5ca-4d93-ed08-0a5c2132d099"
      },
      "source": [
        "from tensorflow.keras.models import Sequential\n",
        "from tensorflow.keras.layers import Dense\n",
        "\n",
        "seq_model = Sequential()\n",
        "seq_model.add(Dense(64, input_shape=(16,)))\n",
        "seq_model.add(Dense(64))\n",
        "seq_model.add(Dense(10))\n",
        "\n",
        "seq_model.summary()"
      ],
      "execution_count": null,
      "outputs": [
        {
          "output_type": "stream",
          "text": [
            "Model: \"sequential\"\n",
            "_________________________________________________________________\n",
            "Layer (type)                 Output Shape              Param #   \n",
            "=================================================================\n",
            "dense (Dense)                (None, 64)                1088      \n",
            "_________________________________________________________________\n",
            "dense_1 (Dense)              (None, 64)                4160      \n",
            "_________________________________________________________________\n",
            "dense_2 (Dense)              (None, 10)                650       \n",
            "=================================================================\n",
            "Total params: 5,898\n",
            "Trainable params: 5,898\n",
            "Non-trainable params: 0\n",
            "_________________________________________________________________\n"
          ],
          "name": "stdout"
        }
      ]
    },
    {
      "cell_type": "markdown",
      "metadata": {
        "id": "2UZhBZKN9av1"
      },
      "source": [
        "The same model with Functional API:"
      ]
    },
    {
      "cell_type": "code",
      "metadata": {
        "id": "eu3NQJW27xGj",
        "colab": {
          "base_uri": "https://localhost:8080/"
        },
        "outputId": "b1f226d3-b190-4f1f-8ccb-2af2669a102b"
      },
      "source": [
        "import tensorflow.keras.backend as K\n",
        "from tensorflow.keras.layers import Input, Dense\n",
        "from tensorflow.keras.models import Model\n",
        "\n",
        "# This returns a tensor\n",
        "input = Input(shape=(16,))\n",
        "\n",
        "# A layer instance is callable on a tensor, and returns a tensor\n",
        "# The parameters are the inputs, and the result of the call is the output tensor.\n",
        "# f(X) = ReLU(W*X+b)\n",
        "# f1(f2(f3(x)))\n",
        "output1 = Dense(64, activation='relu')(input)\n",
        "output2 = Dense(64, activation='relu')(output1)  # Here we connect the output of the first layer to the second layer\n",
        "predictions = Dense(10, activation='softmax')(output2)  # Here we connect the output of the second layer to the last layer\n",
        "\n",
        "\n",
        "# This creates a model that includes\n",
        "# the Input layer and three Dense layers\n",
        "func_model = Model(inputs=input, outputs=predictions)\n",
        "func_model.summary()"
      ],
      "execution_count": null,
      "outputs": [
        {
          "output_type": "stream",
          "text": [
            "Model: \"model\"\n",
            "_________________________________________________________________\n",
            "Layer (type)                 Output Shape              Param #   \n",
            "=================================================================\n",
            "input_1 (InputLayer)         [(None, 16)]              0         \n",
            "_________________________________________________________________\n",
            "dense_3 (Dense)              (None, 64)                1088      \n",
            "_________________________________________________________________\n",
            "dense_4 (Dense)              (None, 64)                4160      \n",
            "_________________________________________________________________\n",
            "dense_5 (Dense)              (None, 10)                650       \n",
            "=================================================================\n",
            "Total params: 5,898\n",
            "Trainable params: 5,898\n",
            "Non-trainable params: 0\n",
            "_________________________________________________________________\n"
          ],
          "name": "stdout"
        }
      ]
    },
    {
      "cell_type": "code",
      "metadata": {
        "colab": {
          "base_uri": "https://localhost:8080/"
        },
        "id": "HRN7GCIEdk4P",
        "outputId": "fb5c2c2b-75c2-4d4e-b906-3e4bf68ffcef"
      },
      "source": [
        "K.sin(output2)+K.cos(output1)"
      ],
      "execution_count": null,
      "outputs": [
        {
          "output_type": "execute_result",
          "data": {
            "text/plain": [
              "<KerasTensor: shape=(None, 64) dtype=float32 (created by layer 'tf.__operators__.add')>"
            ]
          },
          "metadata": {
            "tags": []
          },
          "execution_count": 7
        }
      ]
    },
    {
      "cell_type": "markdown",
      "metadata": {
        "id": "EhhkJa1T7wOa"
      },
      "source": [
        "Basically, in the Functional API you have to declare how the layers are connected by passing the outputs of a layer as an input to another layer. Each layer is a Python callable and it expects as input a placeholder tensor and produces another tensor. The shape of the Input tensor has to be specified, from then on shapes are automatically calculated.\n",
        "\n",
        "Another way to think about it is that each layer is a function and we are composing functions to produce the final Model object. In fact, Model will itself be a function! For example, we can evaluate the freshly created `func_model` like this:"
      ]
    },
    {
      "cell_type": "code",
      "metadata": {
        "colab": {
          "base_uri": "https://localhost:8080/"
        },
        "id": "zEgsH-IU--f6",
        "outputId": "54ce720d-c940-4dea-9c42-5aad59f5dc2f"
      },
      "source": [
        "import numpy as np\n",
        "x = np.arange(16).reshape(1,16)  # x is [[0, 1, 2, ..., 16]], a matrix of shape (1,16)\n",
        "func_model(x)"
      ],
      "execution_count": null,
      "outputs": [
        {
          "output_type": "execute_result",
          "data": {
            "text/plain": [
              "<tf.Tensor: shape=(1, 10), dtype=float32, numpy=\n",
              "array([[1.2160277e-03, 1.6570006e-01, 1.6049659e-03, 9.7336457e-04,\n",
              "        5.3797243e-04, 6.4222920e-01, 1.8787598e-05, 2.0733539e-03,\n",
              "        1.8548240e-01, 1.6383732e-04]], dtype=float32)>"
            ]
          },
          "metadata": {
            "tags": []
          },
          "execution_count": 8
        }
      ]
    },
    {
      "cell_type": "markdown",
      "metadata": {
        "id": "ep6rXoUSgP4a"
      },
      "source": [
        "## The ResNet architecture\n",
        "\n",
        "The next example contains the newer variant of ResNet trained on CIFAR10 dataset. The architecture can be viewed [here](http://vegesm.web.elte.hu/resnet-20-keras.png).\n",
        "\n",
        "\n",
        "### Setup\n",
        "First do some imports needed later:"
      ]
    },
    {
      "cell_type": "code",
      "metadata": {
        "id": "0CpPfeOggP4e"
      },
      "source": [
        "from tensorflow import keras\n",
        "from tensorflow.keras.layers import Dense, Conv2D, BatchNormalization, Activation\n",
        "from tensorflow.keras.layers import AveragePooling2D, Input, Flatten\n",
        "from tensorflow.keras.optimizers import Adam\n",
        "from tensorflow.keras.callbacks import ReduceLROnPlateau\n",
        "from tensorflow.keras.regularizers import l2\n",
        "from tensorflow.keras.models import Model\n",
        "from tensorflow.keras.datasets import cifar10\n",
        "import numpy as np\n",
        "import os\n"
      ],
      "execution_count": null,
      "outputs": []
    },
    {
      "cell_type": "markdown",
      "metadata": {
        "id": "UmwN68sRgP4o"
      },
      "source": [
        "Next, load and normalize the data:"
      ]
    },
    {
      "cell_type": "code",
      "metadata": {
        "scrolled": false,
        "id": "tOPG4DjjgP4p",
        "colab": {
          "base_uri": "https://localhost:8080/"
        },
        "outputId": "2c115c42-c53b-49d8-becb-d8e9e13542df"
      },
      "source": [
        "\n",
        "# Load the CIFAR10 data.\n",
        "(x_train, y_train), (x_test, y_test) = cifar10.load_data()\n",
        "\n",
        "# Input image dimensions.\n",
        "input_shape = x_train.shape[1:]\n",
        "\n",
        "# Normalize data.\n",
        "x_train = x_train.astype('float32') / 255\n",
        "x_test = x_test.astype('float32') / 255\n",
        "\n",
        "# Normalize data by subtracting the mean, slightly improves the results\n",
        "x_train_mean = np.mean(x_train, axis=0)\n",
        "x_train -= x_train_mean\n",
        "x_test -= x_train_mean\n",
        "\n",
        "print('x_train shape:', x_train.shape)\n",
        "print(x_train.shape[0], 'train samples')\n",
        "print(x_test.shape[0], 'test samples')\n",
        "print('y_train shape:', y_train.shape)\n",
        "\n",
        "# Convert class vectors to binary class matrices.\n",
        "y_train = keras.utils.to_categorical(y_train, 10)\n",
        "y_test = keras.utils.to_categorical(y_test, 10)\n"
      ],
      "execution_count": null,
      "outputs": [
        {
          "output_type": "stream",
          "text": [
            "x_train shape: (50000, 32, 32, 3)\n",
            "50000 train samples\n",
            "10000 test samples\n",
            "y_train shape: (50000, 1)\n"
          ],
          "name": "stdout"
        }
      ]
    },
    {
      "cell_type": "markdown",
      "metadata": {
        "id": "XYCQDDHbgP5B"
      },
      "source": [
        "### Creating the nework\n",
        "First we define the `resnet_layer` function. This function creates a 2D Convolution-Batch Normalization-Activation stack of layers that will serve as a basic building block. The return value `x` is a tensor that can be used as input to the next layer. \n",
        "\n",
        "The block looks like this:  \n",
        "<center><img src=\"https://drive.google.com/uc?id=14AOnj3igJGGpnmIfvhuE1U_GffI1LR2Q\" width=\"50%\" /></center>\n",
        "\n"
      ]
    },
    {
      "cell_type": "code",
      "metadata": {
        "id": "gAz4x72EgP5F"
      },
      "source": [
        "def resnet_layer(input,\n",
        "                 num_filters=16,  # parameters for the convolution\n",
        "                 kernel_size=3,\n",
        "                 strides=1,\n",
        "                 activation='relu',  # name of the activation function\n",
        "                 batch_normalization=True):  # should we include a batchnorm layer\n",
        "\n",
        "    x = Conv2D(num_filters,\n",
        "                  kernel_size=kernel_size,\n",
        "                  strides=strides,\n",
        "                  padding='same',\n",
        "                  kernel_initializer='he_normal',\n",
        "                  kernel_regularizer=l2(1e-4))(input)\n",
        "\n",
        "    if batch_normalization:\n",
        "        x = BatchNormalization()(x)\n",
        "    if activation is not None:\n",
        "        x = Activation(activation)(x)\n",
        "\n",
        "    return x"
      ],
      "execution_count": null,
      "outputs": []
    },
    {
      "cell_type": "markdown",
      "metadata": {
        "id": "ldkXB1wlgP5n"
      },
      "source": [
        " One residual block contains a stack of (1 x 1)-(3 x 3)-(1 x 1) convolutions with BatchNormalization and ReLU layers. Here is a diagram of the block:\n",
        "<center><img src=\"https://drive.google.com/uc?id=11c7I0m8Xk_6TX9TT76K0QFJw0OvTnV7U\"  /></center>\n",
        "\n",
        "\n"
      ]
    },
    {
      "cell_type": "code",
      "metadata": {
        "id": "c-lh7gidrcEQ"
      },
      "source": [
        "def resnet_block(x, num_filters_in, num_filters_out, strides, has_remaining_bn_activation,\n",
        "                 conv_on_bottleneck):\n",
        "  \n",
        "    y = x\n",
        "    if has_remaining_bn_activation:\n",
        "        y = BatchNormalization()(y)\n",
        "        y = Activation('relu')(y)\n",
        "\n",
        "    y = resnet_layer(input=y, num_filters=num_filters_in, kernel_size=1,\n",
        "                      strides=strides)\n",
        "    y = resnet_layer(input=y, num_filters=num_filters_in,\n",
        "                      kernel_size=3)\n",
        "    y = resnet_layer(input=y,  num_filters=num_filters_out,\n",
        "                      kernel_size=1, activation=None, batch_normalization=False)\n",
        "    \n",
        "    # In each stage the first block decreases the size of the feature maps \n",
        "    # and increases the number of filters. We can only add tensors of the same dimensions,\n",
        "    # so in the skip-connection we have to resize the input.\n",
        "    # We do that by simply doing a 1x1 convolution\n",
        "    if conv_on_bottleneck:\n",
        "        x = resnet_layer(input=x,\n",
        "                          num_filters=num_filters_out,\n",
        "                          kernel_size=1,\n",
        "                          strides=strides,\n",
        "                          activation=None,\n",
        "                          batch_normalization=False)\n",
        "    x = keras.layers.add([x, y])\n",
        "    return x"
      ],
      "execution_count": null,
      "outputs": []
    },
    {
      "cell_type": "markdown",
      "metadata": {
        "id": "X8oaXjyxrbs9"
      },
      "source": [
        "The ResNet presented here have 3 stages, each stage having two residual blocks. At the beginning of each stage, the feature map size is halved (downsampled) by the end of the first residual block, while the number of filter maps is doubled. After that, within each stage, the resiudal blocks' input and output size does not change.\n",
        "\n",
        "Features maps sizes and number of filters after each stage:\n",
        "- conv1 (pre stage 0): 32x32,  16\n",
        "- stage 0: 32x32,  64\n",
        "- stage 1: 16x16, 128\n",
        "- stage 2:  8x8,  256"
      ]
    },
    {
      "cell_type": "code",
      "metadata": {
        "id": "V3MWM_lygP5q"
      },
      "source": [
        "def resnet_v2(input_shape, num_res_blocks, num_classes=10):\n",
        "    \"\"\"\n",
        "    Creates a ResNetv2 model.\n",
        "    \n",
        "    Parameters:\n",
        "      input_shape: shape of input image tensor\n",
        "      num_res_blocks: number of residual blocks per stages\n",
        "      num_classes: number of output classes (CIFAR10 has 10)\n",
        "    Returns:\n",
        "      The Keras model.\n",
        "    \"\"\"\n",
        "        \n",
        "    # Start model definition.\n",
        "    num_filters = [16, 64, 128, 256]\n",
        "\n",
        "    inputs = Input(shape=input_shape)\n",
        "    \n",
        "    # ResNet first performs a Conv2D with BN-ReLU on input before splitting into 2 paths\n",
        "    x = resnet_layer(input=inputs,\n",
        "                     num_filters=num_filters[0])\n",
        "\n",
        "    # Instantiate the stack of residual units\n",
        "    for stage in range(3):\n",
        "        for res_block in range(num_res_blocks):\n",
        "            very_first_block = (stage == 0 and res_block == 0)\n",
        "\n",
        "            strides = 2 if stage>0 and res_block==0 else 1  # First layer, not first stage has a stride of 2\n",
        "\n",
        "            x = resnet_block(x, num_filters[stage], num_filters[stage+1], strides,\n",
        "                             has_remaining_bn_activation = very_first_block,\n",
        "                             conv_on_bottleneck=(res_block == 0))\n",
        "\n",
        "\n",
        "    # Add classifier on top.\n",
        "    # v2 has BN-ReLU before Pooling\n",
        "    x = BatchNormalization()(x)\n",
        "    x = Activation('relu')(x)\n",
        "    x = AveragePooling2D(pool_size=8)(x)\n",
        "    x = Flatten()(x)\n",
        "    outputs = Dense(num_classes,\n",
        "                    activation='softmax',\n",
        "                    kernel_initializer='he_normal')(x)\n",
        "\n",
        "    # Instantiate model.\n",
        "    model = Model(inputs=inputs, outputs=outputs)\n",
        "    return model"
      ],
      "execution_count": null,
      "outputs": []
    },
    {
      "cell_type": "markdown",
      "metadata": {
        "id": "6POWG5mxgP5y"
      },
      "source": [
        "Next we train our neural network. The only new thing here is the callback property. Callbacks can be used in Keras to add extra steps to training that are performed on every epoch/iteration. Some examples:\n",
        "- `ModelCheckpoint`: saves the model on every epoch. Useful if you have a large model that takes a long time to train and you want to save the model every now and then in case the computer crashes.\n",
        "- `CsvLogger`: saves the train/validation accuracy and loss during training, useful for visualisations.\n",
        "- `ReduceLROnPlateau`: decreases the learning rate if the validation loss has stopped decreasing.\n",
        "\n",
        "We use the `ReduceLROnPlateau` callback that divides the learning rate by $\\sqrt{10}$ if the validation loss did not decrease for five epochs. It is an often useful startegy to decrease the learning rate over time.\n"
      ]
    },
    {
      "cell_type": "code",
      "metadata": {
        "id": "VYnMJwYdgP51"
      },
      "source": [
        "model = resnet_v2(input_shape=input_shape, num_res_blocks=2)\n",
        "model.compile(loss='categorical_crossentropy',\n",
        "              optimizer=Adam(lr=1e-3),\n",
        "              metrics=['accuracy'])\n",
        "\n",
        "\n",
        "# This\n",
        "lr_reducer = ReduceLROnPlateau(factor=np.sqrt(0.1),\n",
        "                               cooldown=0,\n",
        "                               patience=5,\n",
        "                               min_lr=0.5e-6)\n",
        "\n",
        "callbacks = [lr_reducer]\n",
        "\n",
        "# Run training\n",
        "# Training ResNet is slower than previous network, so it is trained only for 10 epochs.\n",
        "# To train it fully, you can run it for 100 or 200 epochs, if you have time!\n",
        "model.fit(x_train, y_train, batch_size=32,\n",
        "          epochs=10,\n",
        "          validation_data=(x_test, y_test),\n",
        "          shuffle=True,\n",
        "          callbacks=callbacks)\n",
        "\n",
        "\n",
        "# Score trained model.\n",
        "scores = model.evaluate(x_test, y_test, verbose=1)\n",
        "print('Test loss:', scores[0])\n",
        "print('Test accuracy:', scores[1])"
      ],
      "execution_count": null,
      "outputs": []
    },
    {
      "cell_type": "markdown",
      "metadata": {
        "id": "x4s5efjAJ81N"
      },
      "source": [
        "We have achieved 74% accuracy on CIFAR-10. With training the network much longer (200 epochs), one can achieve 91-92% accuracy."
      ]
    },
    {
      "cell_type": "markdown",
      "metadata": {
        "id": "GWsX3IvF99wU"
      },
      "source": [
        "## Exercises\n",
        "1. Implement the Inception module from the Lecture slides!"
      ]
    }
  ]
}