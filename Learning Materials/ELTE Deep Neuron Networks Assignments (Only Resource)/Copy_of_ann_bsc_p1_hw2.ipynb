{
  "nbformat": 4,
  "nbformat_minor": 0,
  "metadata": {
    "colab": {
      "name": "Copy of ann_bsc_p1_hw2.ipynb",
      "provenance": [],
      "collapsed_sections": [],
      "toc_visible": true
    },
    "kernelspec": {
      "name": "python3",
      "display_name": "Python 3"
    },
    "accelerator": "GPU"
  },
  "cells": [
    {
      "cell_type": "markdown",
      "metadata": {
        "id": "UPNGQgO6aXtZ",
        "colab_type": "text"
      },
      "source": [
        "# 2. házi feladat\n",
        "\n",
        "A második házi feladat során egy egyszerű Multi-layer Perceptron típusú neuronhálót kell betanítani és kiértékelni egy regressziós és egy klasszifikációs feladaton a Keras könyvtár segítségével. \n",
        "\n",
        "A házi feladat több részfeladatból áll (A - I), melyek egymásra épülnek. Az A, B, C, D és H részfeladatokból több változat, van ezekből mindenkinek egyet-egyet kell megoldania. **Arról, hogy ki melyiket oldja meg, az alábbi linken található lista ad tájékoztatást** Neptun-kód - feladatok listája formában:\n",
        "\n",
        "https://drive.google.com/open?id=11p0kXAiQs9poy_mebzEdGGj9-OkbY1ec\n",
        "\n",
        "A feladat automatikus tesztelőszkripttel rendelkezik. Éppen ezért, **ne változtasd meg a notebook struktúráját**, ne szedd több részre, illetve ne módosítsd a megírt részeket, csak a megoldásaidat írd be a megfelelő helyre, különben nem fogjuk tudni értékelni. A megoldások az `# Implement your solution BELOW` és `# Implement your solution ABOVE` sorok közé írandók. Ha a megoldott részfeladatok futtatásakor az \"Tester: .... OK\" felirat megjelenik, _feltehetően_ jó a megoldás. A beadott házifeladatok másolásellenőrzésen esnek át. Közösen megoldott feladat esetén, csak az egyik hallgató kaphatja meg a jegyet. (A hallgatók dönthetik el egymás között.)\n",
        "\n",
        "**!!! A feladatok megoldását, vagy az arra mutató linkeket bárhol közzétenni tilos !!!**\n",
        "\n",
        "Elakadás esetén Canvas fórumon kérhető és nyújtható segítség, de legfeljebb olyan jellegű válasz adható hallgatói részről, hogy melyik függvényt érdemes megpróbálni, vagy például egy hasonló példához hogyan kellene a tömböt indexelni. **Akár kérdésben, akár válaszban a megoldás jelentős részét tartalmazó kódrészletet közzétenni tilos.**\n",
        "\n",
        "**Megoldás és beküldés menete:**\n",
        "\n",
        "A közzétett, feladatokat tartalmazó Google Colab notebook csak \"view\" jogosultságokkal van megosztva. Mindenkinek le kell másolnia a saját Drive-jára a notebook-ot (Google Colab file menü -> Save a copy to Drive): a másolat már szerkeszthető és futtatható lesz. **A kész megoldást tartalmazó notebook-ot le kell tölteni**  (Google Colab file menü -> Download .ipynb), **majd a Canvas-ban, a kiírt feladatnál feltölteni.** Link nem adható be, csak az .ipynb fájl.\n",
        "\n",
        "**Határidő:** 2020. április 15., szerda, 23:59.\n",
        "\n",
        "**Pontozás:** A házi feladat helyes megoldása feltétele a jegyszerzésnek. Az, aki az első határidőig helyes megoldást küldd be, 2 pontot kap, ami a félév végi vizsga pontszámához adódik, amennyiben az elégséges szintet a vizsga eléri (a vizsgán várhatóan 10-10 pont szükséges a végső érdemjegy eggyel történő javításához). Az első határidő után körülbelül még két hét fog rendelkezésre állni a házi feladat leadására, immár pluszpont nélkül.\n",
        "\n",
        "Törekedj arra, hogy az implementáció vektoros módon, NumPy-ban, ciklusok és egyéb, annak megfelelő Python konstrukciók használata nélkül működjön!\n",
        "\n"
      ]
    },
    {
      "cell_type": "markdown",
      "metadata": {
        "id": "dEKuTE7hGsZr",
        "colab_type": "text"
      },
      "source": [
        "Tesztelő szkript letöltése, importok."
      ]
    },
    {
      "cell_type": "code",
      "metadata": {
        "id": "dc9fa3F-T0u5",
        "colab_type": "code",
        "outputId": "b11cae83-08d0-450a-ad2b-b0e4c0b3066d",
        "colab": {
          "base_uri": "https://localhost:8080/",
          "height": 235
        }
      },
      "source": [
        "# Download tester\n",
        "!rm tester.py\n",
        "!wget http://nipg12.inf.elte.hu:800/vavsaai/annbsc_p1_hw2/tester.py\n",
        "\n",
        "import numpy as np\n",
        "\n",
        "%tensorflow_version 2.x\n",
        "import tensorflow as tf\n",
        "import tensorflow.keras.models\n",
        "import tensorflow.keras.optimizers\n",
        "import tensorflow.keras.layers\n",
        "import tensorflow.keras.activations\n",
        "import tensorflow.keras.callbacks\n",
        "\n",
        "import matplotlib.pyplot as plt\n",
        "\n",
        "# import tester after importing tensorflow, to make sure correct tf version is imported\n",
        "from tester import Tester\n"
      ],
      "execution_count": 1,
      "outputs": [
        {
          "output_type": "stream",
          "text": [
            "rm: cannot remove 'tester.py': No such file or directory\n",
            "--2020-04-14 17:21:45--  http://nipg12.inf.elte.hu:800/vavsaai/annbsc_p1_hw2/tester.py\n",
            "Resolving nipg12.inf.elte.hu (nipg12.inf.elte.hu)... 157.181.160.172\n",
            "Connecting to nipg12.inf.elte.hu (nipg12.inf.elte.hu)|157.181.160.172|:800... connected.\n",
            "HTTP request sent, awaiting response... 200 OK\n",
            "Length: 38173 (37K) [text/x-python]\n",
            "Saving to: ‘tester.py’\n",
            "\n",
            "tester.py           100%[===================>]  37.28K   236KB/s    in 0.2s    \n",
            "\n",
            "2020-04-14 17:21:45 (236 KB/s) - ‘tester.py’ saved [38173/38173]\n",
            "\n"
          ],
          "name": "stdout"
        }
      ]
    },
    {
      "cell_type": "markdown",
      "metadata": {
        "id": "BJ7TTytUaUwW",
        "colab_type": "text"
      },
      "source": [
        "###**A**: Az adatbázis letöltése\n",
        "\n",
        "**A/1 - A/6**: A tesztelőszkript a számodra szükséges adatbázist tölti le és a részedre kiosztott feladatok helyességét fogja tesztelni. Ehhez az alábbi kódblokk tetején, a Tester példányosításakor paraméterként a Neptun-kódodat kell megadni egy sztringként, pl: \n",
        "`tester = Tester('DK7UAQ')`\n",
        "\n",
        "**Információ az adatbázisokról**:\n",
        "Az adatbázisok a UCI Machine Learning Repository-ról származnak.\n",
        "- **A/1**: Fehérborok, borászok által történt szubjektív értékelését (0-10) próbáljuk megbecsülni a bor kémiai tulajdonságai alapján. http://archive.ics.uci.edu/ml/datasets/Wine+Quality \n",
        "- **A/2**: Két portugál középiskolában a tanulók évvégi matematika jegyét (0-20) próbáljuk megbecsülni a tanulók szociális és pénzügyi háttere alapján. http://archive.ics.uci.edu/ml/datasets/Student+Performance \n",
        "- **A/3**: Lásd A/2, matematika helyett portugál nyelv tárgyból.\n",
        "- **A/4**: Lásd A/2. Az A/2. és A/3.-ban használt adatbázisok esetében az input változók közt megtalálhatók a tanulók első- és második harmadévvégi osztályzata az adott tárgyból. Ezekkel nyilvánvalóan erősen korrelál az év végi jegy, így nehezíti a feladatot, ha ezeket az input változókat elhagyjuk. Az A/4 és A/5. adatbázisaiból ezek a változók hiányoznak, így jelentősen gyengébb eredmény várható.\n",
        "- **A/5**: Lásd A/4, matematika helyett portugál nyelv tárgyból.\n",
        "- **A/6**: Betontömbök nyomószilárdságát (~1-100 MPa) próbáljuk megbecsülni a betontömbök összetevőinek mennyiségéből, előállítási körülményeikből és korukból. http://archive.ics.uci.edu/ml/datasets/Concrete+Compressive+Strength\n",
        "\n",
        "A tesztelőszkript letölti a szöveges formában tárolt adatbázist és elhelyezi a `content` sztringben. Alább, kiírjuk a hosszát és az első 500 karaktert is a sztringből.\n",
        "\n",
        "A feladatod, hogy alakítsd át a `content` sztringet az adatbázis input változóit és címkéit tartalmazó tömbbé. A tömbök típusa np.float32 (lebegőpontos) típusú legyen. Az input változók értékeit helyezd el a `features` (n_mintaelem, n_valtozo) alakú tömbben, míg a címkéket a `labels` (n_mintaelem) alakú tömbben!\n",
        "\n"
      ]
    },
    {
      "cell_type": "code",
      "metadata": {
        "colab_type": "code",
        "id": "OdKqP5OvXJpX",
        "outputId": "086b14c1-9b62-44f2-cd53-5a94c72a9144",
        "colab": {
          "base_uri": "https://localhost:8080/",
          "height": 165
        }
      },
      "source": [
        "tester = Tester('AE92AW')\n",
        "content = tester.get_dataset_content()\n",
        "\n",
        "print(len(content))\n",
        "print(content[:500])\n"
      ],
      "execution_count": 2,
      "outputs": [
        {
          "output_type": "stream",
          "text": [
            "41728\n",
            "school;sex;age;address;famsize;Pstatus;Medu;Fedu;Mjob;Fjob;reason;guardian;traveltime;studytime;failures;schoolsup;famsup;paid;activities;nursery;higher;internet;romantic;famrel;freetime;goout;Dalc;Walc;health;absences;G3\n",
            "0;0;18;0;1;1;4;4;4;0;3;0;2;2;0;0;1;1;1;0;0;1;1;4;3;4;1;1;3;4;11\n",
            "0;0;17;0;1;0;1;1;4;2;3;1;1;2;0;1;0;1;1;1;0;0;1;5;3;3;1;1;3;2;11\n",
            "0;0;15;0;0;0;1;1;4;2;2;0;1;2;0;0;1;1;1;0;0;0;1;4;3;2;2;3;3;6;12\n",
            "0;0;15;0;1;0;4;2;1;3;0;0;1;3;0;1;0;1;0;0;0;0;0;3;2;2;1;1;5;0;14\n",
            "0;0;16;0;1;0;3;3;2;2;0\n"
          ],
          "name": "stdout"
        }
      ]
    },
    {
      "cell_type": "code",
      "metadata": {
        "id": "q_kfEC4sEMtw",
        "colab_type": "code",
        "outputId": "901ca08b-d5c5-4568-b11b-ca75061db80c",
        "colab": {
          "base_uri": "https://localhost:8080/",
          "height": 35
        }
      },
      "source": [
        "# implement your solution BELOW\n",
        "\n",
        "data = np.char.split(content, '\\n')\n",
        "tmp = np.char.split(data.flat[0], ';')\n",
        "tmp = tmp[1:]\n",
        "tmp = np.hstack(tmp)\n",
        "labels = tmp[30::31]\n",
        "labels = np.array(labels, dtype=\"float32\")\n",
        "tmp = np.delete(tmp, np.arange(30, tmp.size, 31))\n",
        "tmp = tmp[:-1]\n",
        "tmp = np.array(tmp, dtype=\"float32\")\n",
        "features = tmp.reshape((649, 30))\n",
        "# implement your solution ABOVE\n",
        "\n",
        "tester.test('dataset_shape', features, labels)"
      ],
      "execution_count": 9,
      "outputs": [
        {
          "output_type": "stream",
          "text": [
            "Tester: Dataset preparation OK\n"
          ],
          "name": "stdout"
        }
      ]
    },
    {
      "cell_type": "markdown",
      "metadata": {
        "id": "KrE7NLJTR7Aq",
        "colab_type": "text"
      },
      "source": [
        "## **B**: Tanító-, validációs- és teszthalmaz szétválasztása\n",
        "\n",
        "Keverd meg véletlenszerűen a mintaelemeket a `features` és `labels` tömbökben (természetesen a két tömb permutálása legyen azonos). Ez azért szükséges, mert az adatbázisban az elemek lehet, hogy rendezettek pl. a címkék szerint. Ez azt eredményezné, hogy a szétválasztott halmazokban jelentősen különbözne a címkék eloszlása. \n",
        "\n",
        "Ezt követően válaszd szét a tömböket tanító-, validációs- és teszthalmazra!\n",
        "\n",
        "A szétválasztás történjen az alábbi arányokkal:\n",
        "- **B/1**.: 70% / 15% / 15%\n",
        "- **B/2**: 60% / 20% / 20%\n",
        "- **B/3**: 50% / 25% / 25%\n",
        "\n",
        "A halmazokat tartalmazó három-három input- és címketömb változókat nevezd el `x_unnorm_train`, `x_unnorm_val`, `x_unnorm_test`, `y_train`, `y_val`, `y_test`-nek sorrendben."
      ]
    },
    {
      "cell_type": "code",
      "metadata": {
        "id": "ls4niplvUgQ6",
        "colab_type": "code",
        "outputId": "33dbf702-a296-4bd5-dd4a-01f3f71dfe74",
        "colab": {
          "base_uri": "https://localhost:8080/",
          "height": 35
        }
      },
      "source": [
        "# implement your solution BELOW\n",
        "\n",
        "indices = np.random.permutation(649)\n",
        "labels = labels[indices]\n",
        "features = features[indices]\n",
        "\n",
        "x_unnorm_train = features[0:int(len(features) * 0.7)]\n",
        "x_unnorm_val = features[int(len(features) * 0.7):int(len(features) * 0.7)+int(len(features) * 0.15)]\n",
        "x_unnorm_test = features[int(len(features) * 0.7)+int(len(features) * 0.15):]\n",
        "\n",
        "y_train = labels[0:int(len(labels) * 0.7)]\n",
        "y_val = labels[int(len(labels) * 0.7):int(len(labels) * 0.7)+int(len(labels) * 0.15)]\n",
        "y_test = labels[int(len(labels) * 0.7)+int(len(labels) * 0.15):]\n",
        "\n",
        "# implement your solution ABOVE\n",
        "\n",
        "tester.test('dataset_split', x_unnorm_train, x_unnorm_val, x_unnorm_test,\\\n",
        "                             y_train, y_val, y_test)"
      ],
      "execution_count": 10,
      "outputs": [
        {
          "output_type": "stream",
          "text": [
            "Tester: Dataset split OK\n"
          ],
          "name": "stdout"
        }
      ]
    },
    {
      "cell_type": "markdown",
      "metadata": {
        "id": "zjm2zVN92yGq",
        "colab_type": "text"
      },
      "source": [
        "## **C**: Az input változók azonos nagyságrendre hozása\n",
        "\n",
        "A változók azonos nagyságrendre hozása az alábbi technikával történjen:\n",
        "- **C/1**: sztenderdizáció (0 átlag, 1 szórás)\n",
        "- **C/2**: min-max skálázás (0 minimum, 1 maximum)\n",
        "\n",
        "A változókat egymástól függetlenül kell skálázni. A skálázáshoz szükséges átlagot és szórást / minimumot és maximumot a tanítóhalmazon számold ki, majd alkalmazd őket a validációs és a teszt halmazra. Ez azért szükséges, mert a teszthalmazról azt feltételezzük, hogy ismeretlen a betanítás során, pontosan azért, hogy semmi esetre se tudjuk hozzáigazítani a tanított modellünket.\n",
        "\n",
        "A skálázott halmazokat tartalmazó három inputtömb változót nevezd el `x_train`, `x_val`, `x_test`-nek sorrendben."
      ]
    },
    {
      "cell_type": "code",
      "metadata": {
        "id": "Q9SLPxkO3RZe",
        "colab_type": "code",
        "outputId": "4e95d222-4d7e-4093-bf6e-11af30b8fe10",
        "colab": {
          "base_uri": "https://localhost:8080/",
          "height": 35
        }
      },
      "source": [
        "# implement your solution BELOW\n",
        "\n",
        "def std_normalization(data):\n",
        "    data = np.asarray(data, dtype=np.float32)\n",
        "    epsilon = 0.0000001\n",
        "    x_mean = np.mean(data, axis = 0)\n",
        "    x_std = np.std(data, axis = 0)\n",
        "    x_norm = (data - x_mean) / (x_std + epsilon)\n",
        "    return x_norm, x_mean, x_std\n",
        "\n",
        "def std_normalize_with_given_meanstd(data, x_mean, x_std):\n",
        "    epsilon = 0.0000001\n",
        "    x_norm = (data - x_mean) / (x_std + epsilon)\n",
        "    return x_norm\n",
        "\n",
        "x_train, x_mean, x_std = std_normalization(x_unnorm_train)\n",
        "x_val = std_normalize_with_given_meanstd(x_unnorm_val, x_mean, x_std)\n",
        "x_test = std_normalize_with_given_meanstd(x_unnorm_test, x_mean, x_std)\n",
        "\n",
        "# implement your solution ABOVE\n",
        "\n",
        "tester.test('dataset_rescale', x_train, x_val, x_test)"
      ],
      "execution_count": 11,
      "outputs": [
        {
          "output_type": "stream",
          "text": [
            "Tester: Feature rescale OK\n"
          ],
          "name": "stdout"
        }
      ]
    },
    {
      "cell_type": "markdown",
      "metadata": {
        "id": "dohOMs4NlVXG",
        "colab_type": "text"
      },
      "source": [
        "## **D**: A regressziós neuronháló definiálása Keras-ban \n",
        "\n",
        "Használd a `keras.models.Sequential()` osztályt a háló definiálásához! A háló architektúráját az alábbiak alapján alakítsd ki:\n",
        "- **D/1**: Kétrétegű háló, az első réteg neuronjainak száma 50, aktivációs függvénye ReLU. Az első réteg után alkalmazz dropout-ot neurononként 30%-os valószínűséggel.\n",
        "- **D/2**: Négyrétegű háló, a neuronok száma rendre 20, 20, 10, aktivációs függvényük ReLU. Az egyes rétegek közé tégy dropout rétegeket, melyek 20%-os valószínűséggel nulláznak ki egy-egy elemet.\n",
        "- **D/3**: Háromrétegű háló, a neuronok száma rendre 50, 30. Aktivációs függvényként használj sorban tanh-t, majd ReLU-t.\n",
        "\n",
        "Minden esetben csak teljesen összekötött (dense) rétegeket, valamint dropout rétegeket kell használnod. Az aktivációs függvényeket a segédanyag notebook-okban látható módon, a telejesen összekötött rétegek `activation` paramétereként add meg (azaz most ne használj külön Acitvation rétegeket). A rétegek számába beleértendő a kimenetre képző, utolsó réteg is, melynek méretét a címke mérete határozza meg. Alkalmazd a tanult aktivációs függvényt az utolsó rétegen, függően a feladat típusától.\n",
        "A modellt fordítsd le a `compile()` függvény segítségével: a költségfüggvény legyen a szokásos, regresszióhoz használatos átlagos négyzetes eltérés (MSE), optimizer algoritmusként pedig alkalmazd az SGD algoritmust megfelelő tanulási rátával! \n",
        "A regressziós neuronhálót tartalmazó keras.models.Sequential() típusú változót nevezd el `reg_model`-nek. "
      ]
    },
    {
      "cell_type": "code",
      "metadata": {
        "id": "rAywpNOml4VL",
        "colab_type": "code",
        "outputId": "e7422b7d-9f06-4196-c48b-faebc53fa296",
        "colab": {
          "base_uri": "https://localhost:8080/",
          "height": 290
        }
      },
      "source": [
        "# implement your solution BELOW\n",
        "\n",
        "reg_model = tf.keras.models.Sequential()\n",
        "reg_model.add(tf.keras.layers.Dense(50, activation='relu', input_dim=x_train.shape[1]))\n",
        "reg_model.add(tf.keras.layers.Dropout(rate=0.3))\n",
        "reg_model.add(tf.keras.layers.Dense(1))\n",
        "\n",
        "reg_model.summary()\n",
        "reg_model.compile(optimizer=tf.keras.optimizers.SGD(learning_rate=0.01), loss='mse', metrics=['mae'])\n",
        "# implement your solution ABOVE\n",
        "\n",
        "tester.test('reg_model_architecture', reg_model)"
      ],
      "execution_count": 12,
      "outputs": [
        {
          "output_type": "stream",
          "text": [
            "Model: \"sequential_1\"\n",
            "_________________________________________________________________\n",
            "Layer (type)                 Output Shape              Param #   \n",
            "=================================================================\n",
            "dense_2 (Dense)              (None, 50)                1550      \n",
            "_________________________________________________________________\n",
            "dropout_1 (Dropout)          (None, 50)                0         \n",
            "_________________________________________________________________\n",
            "dense_3 (Dense)              (None, 1)                 51        \n",
            "=================================================================\n",
            "Total params: 1,601\n",
            "Trainable params: 1,601\n",
            "Non-trainable params: 0\n",
            "_________________________________________________________________\n",
            "Tester: Regression model architecture OK\n"
          ],
          "name": "stdout"
        }
      ]
    },
    {
      "cell_type": "markdown",
      "metadata": {
        "id": "Pz4fFtBUhUXV",
        "colab_type": "text"
      },
      "source": [
        "## **E**: A háló betanítása regressziós feladatra\n",
        "\n",
        "Tanítsd be a neuronhálót a tanítóhalmazon! Használj early stopping-ot a validációs halmazzal! A tanulási rátát, epoch-ok maximális számát, a batch méretet, az early stopping `patience` paraméterét szabadon átállíthatod. Próbálgathatsz különböző kombinációkat, hogy jobb eredményt érj el.\n",
        "\n",
        "- Rajzold ki, hogyan alakult a tanulási és validációs költség a betanítás során! Ehhez használhatod a `matplotlib` könyvtárat, példát találsz az MLP segédanyag notebookokban. \n",
        "- A négyzetes (MSE) költség mellett az átlagos abszolút hiba (Mean Absolute Error, MAE) tanító- és validációs halmazon történő alakulását is rajzold ki egy másik grafikonon! A grafikonok y tengelyének megjelenített értékhatárait úgy állítsd be, hogy mindegyik idősor látható legyen és könnyen ki lehessen venni a költségek alakulását a tanítás vége felé is!\n",
        "- Végül, számold ki a betanított modell négyzetes hibáját és az átlagos abszolút hibát a teszthalamzon, majd add értékül ezeket az értékeket a `test_mse` és `test_mae` változóknak!\n",
        "\n"
      ]
    },
    {
      "cell_type": "code",
      "metadata": {
        "id": "vQf90jJPkeUl",
        "colab_type": "code",
        "outputId": "d70e63b3-580a-43fc-d4a4-cb324476cdf6",
        "colab": {
          "base_uri": "https://localhost:8080/",
          "height": 1000
        }
      },
      "source": [
        "# implement your solution BELOW\n",
        "\n",
        "earlystopping_callback = tf.keras.callbacks.EarlyStopping(monitor='val_loss',\\\n",
        "                                                       patience=10,  restore_best_weights=True)\n",
        "history = reg_model.fit(x_train, y_train, validation_data=(x_val, y_val),\\\n",
        "                        batch_size=64, epochs=200, callbacks=[earlystopping_callback])\n",
        "#print(history.history.keys())\n",
        "\n",
        "\n",
        "tr_losses = np.array(history.history['loss'])\n",
        "val_losses = np.array(history.history['val_loss'])\n",
        "\n",
        "tr_accuracy = np.array(history.history['mae'])\n",
        "val_accuracy = np.array(history.history['val_mae'])\n",
        "\n",
        "plt.figure(figsize=(10, 4))\n",
        "plt.subplot(1, 2, 1)\n",
        "plt.plot(tr_losses, label=\"J_train\")\n",
        "plt.plot(val_losses, label=\"J_val\")\n",
        "plt.xlabel(\"Number of epochs\")\n",
        "plt.ylabel(\"Cost (J)\")\n",
        "plt.legend()\n",
        "\n",
        "plt.subplot(1, 2, 2)\n",
        "plt.plot(tr_accuracy, label=\"train_acc\")\n",
        "plt.plot(val_accuracy, label=\"val_acc\")\n",
        "plt.xlabel(\"Number of epochs\")\n",
        "plt.ylabel(\"Accuracy\")\n",
        "plt.legend()\n",
        "\n",
        "test_mse, test_mae = reg_model.evaluate(x_test, y_test, verbose=0)\n",
        "\n",
        "# implement your solution ABOVE\n",
        "\n",
        "tester.test('reg_model_learning', test_mse, test_mae)"
      ],
      "execution_count": 13,
      "outputs": [
        {
          "output_type": "stream",
          "text": [
            "Epoch 1/200\n",
            "8/8 [==============================] - 0s 15ms/step - loss: 74.8850 - mae: 7.9805 - val_loss: 17.6895 - val_mae: 3.1197\n",
            "Epoch 2/200\n",
            "8/8 [==============================] - 0s 8ms/step - loss: 15.5802 - mae: 3.2015 - val_loss: 11.8874 - val_mae: 2.5968\n",
            "Epoch 3/200\n",
            "8/8 [==============================] - 0s 8ms/step - loss: 12.7519 - mae: 2.7910 - val_loss: 8.7775 - val_mae: 2.1213\n",
            "Epoch 4/200\n",
            "8/8 [==============================] - 0s 7ms/step - loss: 10.0618 - mae: 2.4975 - val_loss: 8.4003 - val_mae: 2.0953\n",
            "Epoch 5/200\n",
            "8/8 [==============================] - 0s 7ms/step - loss: 10.5442 - mae: 2.5940 - val_loss: 7.6470 - val_mae: 1.9730\n",
            "Epoch 6/200\n",
            "8/8 [==============================] - 0s 7ms/step - loss: 13.1551 - mae: 2.5236 - val_loss: 7.6082 - val_mae: 2.0725\n",
            "Epoch 7/200\n",
            "8/8 [==============================] - 0s 8ms/step - loss: 10.5883 - mae: 2.5067 - val_loss: 7.5824 - val_mae: 2.0093\n",
            "Epoch 8/200\n",
            "8/8 [==============================] - 0s 8ms/step - loss: 12.6133 - mae: 2.4749 - val_loss: 9.6270 - val_mae: 2.3671\n",
            "Epoch 9/200\n",
            "8/8 [==============================] - 0s 7ms/step - loss: 8.3911 - mae: 2.4248 - val_loss: 7.7555 - val_mae: 2.0547\n",
            "Epoch 10/200\n",
            "8/8 [==============================] - 0s 8ms/step - loss: 11.9411 - mae: 2.3458 - val_loss: 9.0626 - val_mae: 2.2036\n",
            "Epoch 11/200\n",
            "8/8 [==============================] - 0s 9ms/step - loss: 8.9036 - mae: 2.4174 - val_loss: 7.1867 - val_mae: 1.9443\n",
            "Epoch 12/200\n",
            "8/8 [==============================] - 0s 7ms/step - loss: 9.7338 - mae: 2.2753 - val_loss: 7.6262 - val_mae: 2.0005\n",
            "Epoch 13/200\n",
            "8/8 [==============================] - 0s 7ms/step - loss: 10.1490 - mae: 2.3080 - val_loss: 8.0660 - val_mae: 2.1296\n",
            "Epoch 14/200\n",
            "8/8 [==============================] - 0s 7ms/step - loss: 8.4411 - mae: 2.3856 - val_loss: 7.9309 - val_mae: 2.1009\n",
            "Epoch 15/200\n",
            "8/8 [==============================] - 0s 7ms/step - loss: 10.0968 - mae: 2.3516 - val_loss: 7.6276 - val_mae: 2.0556\n",
            "Epoch 16/200\n",
            "8/8 [==============================] - 0s 8ms/step - loss: 9.4307 - mae: 2.2595 - val_loss: 6.6035 - val_mae: 1.8541\n",
            "Epoch 17/200\n",
            "8/8 [==============================] - 0s 9ms/step - loss: 9.2111 - mae: 2.2030 - val_loss: 6.8356 - val_mae: 1.9807\n",
            "Epoch 18/200\n",
            "8/8 [==============================] - 0s 8ms/step - loss: 7.0475 - mae: 2.0722 - val_loss: 7.2717 - val_mae: 1.9706\n",
            "Epoch 19/200\n",
            "8/8 [==============================] - 0s 7ms/step - loss: 7.2060 - mae: 2.1835 - val_loss: 6.7097 - val_mae: 1.8772\n",
            "Epoch 20/200\n",
            "8/8 [==============================] - 0s 8ms/step - loss: 6.7571 - mae: 2.0638 - val_loss: 6.8990 - val_mae: 1.9440\n",
            "Epoch 21/200\n",
            "8/8 [==============================] - 0s 7ms/step - loss: 7.5528 - mae: 2.2170 - val_loss: 7.0291 - val_mae: 1.9561\n",
            "Epoch 22/200\n",
            "8/8 [==============================] - 0s 7ms/step - loss: 8.6184 - mae: 2.0803 - val_loss: 9.2074 - val_mae: 2.2803\n",
            "Epoch 23/200\n",
            "8/8 [==============================] - 0s 7ms/step - loss: 10.8651 - mae: 2.3016 - val_loss: 7.8709 - val_mae: 2.1044\n",
            "Epoch 24/200\n",
            "8/8 [==============================] - 0s 7ms/step - loss: 6.8416 - mae: 2.1056 - val_loss: 7.2533 - val_mae: 1.9895\n",
            "Epoch 25/200\n",
            "8/8 [==============================] - 0s 7ms/step - loss: 6.8984 - mae: 2.0583 - val_loss: 7.1343 - val_mae: 1.9679\n",
            "Epoch 26/200\n",
            "8/8 [==============================] - 0s 9ms/step - loss: 7.2975 - mae: 2.1686 - val_loss: 7.2803 - val_mae: 1.9907\n",
            "Tester: Regression model learning OK\n"
          ],
          "name": "stdout"
        },
        {
          "output_type": "display_data",
          "data": {
            "image/png": "[encoded data removed]",
            "text/plain": [
              "<Figure size 720x288 with 2 Axes>"
            ]
          },
          "metadata": {
            "tags": [],
            "needs_background": "light"
          }
        }
      ]
    },
    {
      "cell_type": "markdown",
      "metadata": {
        "id": "pTBqUmDzPiYI",
        "colab_type": "text"
      },
      "source": [
        "## **F**: A regressziós adatbázis átalakítása klasszifikációs adatbázissá\n",
        "\n",
        "Alakítsd át a regressziós adatbázist, hogy alkalmas legyen klasszifikációs feladathoz! Alakíts ki három kategóriát úgy, hogy a regressziós adatbázis címkéinek intervallumán felveszel két küszöbértéket. Az első kategóriába a kisebb küszöbérték alatti, a másodikba a két küszöbérték közti és a harmadikba a nagyobb küszöbérték feletti címkével rendelkező mintaelemek kerüljenek. \n",
        "\n",
        "Tehát, például ha a regressziós adatbázis címkéi 3 és 8 közt vannak, akkor a két küszöbértéknek választhatjuk az 5.2-t és a 6.1-et. Ekkor az 1. kategóriába az 5.2-nél kisebb címkéjű elemek, a 2. kategóriába az 5.2 és 6.1 közti címkéjű elemek és a 3. kategóriába a 6.1-nél nagyobb címkéjű elemek kerülnek. Azonos címkéjű elemek mindenképpen azonos kategóriába kell, hogy kerüljenek.\n",
        "\n",
        "Válaszd ki a két küszöbértéket úgy, hogy a három kategóriába **megközelítőleg** ugyanannyi elem kerüljön! Hozd létre az új kategóriacímkéket az `y_train`, `y_val`, `y_test` tömbökből. Kerüljenek ezek a `y_cat_train`, `y_cat_val`, `y_cat_test` változókba!\n",
        "\n"
      ]
    },
    {
      "cell_type": "code",
      "metadata": {
        "id": "kCdOectqRsvz",
        "colab_type": "code",
        "outputId": "bb825fc5-41e2-4d7a-d68c-8ae6a4586892",
        "colab": {
          "base_uri": "https://localhost:8080/",
          "height": 35
        }
      },
      "source": [
        "# implement your solution BELOW\n",
        "\n",
        "y_cat_train = np.where(y_train < 10.9, 0, y_train)\n",
        "y_cat_train = np.where(np.logical_and(y_train > 10.9, y_train < 13.9), 1, y_cat_train)\n",
        "y_cat_train = np.where(y_train > 13.9, 2, y_cat_train)\n",
        "\n",
        "y_cat_val = np.where(y_val < 10.9, 0, y_val)\n",
        "y_cat_val = np.where(np.logical_and(y_val > 10.9, y_val < 13.9), 1, y_cat_val)\n",
        "y_cat_val = np.where(y_val > 13.9, 2, y_cat_val)\n",
        "\n",
        "y_cat_test = np.where(y_test < 10.9, 0, y_test)\n",
        "y_cat_test = np.where(np.logical_and(y_test > 10.9, y_test < 13.9), 1, y_cat_test)\n",
        "y_cat_test = np.where(y_test > 13.9, 2, y_cat_test)\n",
        "\n",
        "# implement your solution ABOVE\n",
        "\n",
        "tester.test('cl_dataset', y_cat_train, y_cat_val, y_cat_test)"
      ],
      "execution_count": 14,
      "outputs": [
        {
          "output_type": "stream",
          "text": [
            "Tester: Classification dataset creation OK\n"
          ],
          "name": "stdout"
        }
      ]
    },
    {
      "cell_type": "markdown",
      "metadata": {
        "id": "z_OwgkhPxCuA",
        "colab_type": "text"
      },
      "source": [
        "## **G**: Kategóriacímkék átalakítása one-hot kódolásra\n",
        "\n",
        "Kettőnél több kategóriás (multi-class) klasszifikációnál minden kategóriához egy valószínűséget becslünk, azaz a háló kimenete akkora méretű, ahány kategóriánk van. Így tehát az igazi címkéink ugyanekkora méretű one-hot kódolású vektorok lesznek, ezeket címkevektorokként használva fogjuk betanítani a hálót.\n",
        "\n",
        "Készítsd el a one-hot kódolású címkevektor tömböket a kategóriacímkéket tartalmazó `y_cat_train`, `y_cat_val`, `y_cat_test` tömbökből! Az új tömbök kerüljenek a `y_onehot_train`, `y_onehot_val`, `y_onehot_test` változókba! A tömbök alakja így (n_samples, n_categories), típusuk legyen `np.float32`!\n"
      ]
    },
    {
      "cell_type": "code",
      "metadata": {
        "id": "iLAlR3qyxT13",
        "colab_type": "code",
        "outputId": "da2d557b-a5e4-4b19-ee81-1b580603e5be",
        "colab": {
          "base_uri": "https://localhost:8080/",
          "height": 35
        }
      },
      "source": [
        "# implement your solution BELOW\n",
        "\n",
        "y_cat_train = y_cat_train.astype(int)\n",
        "y_onehot_train = np.zeros((y_cat_train.size, int(np.max(y_cat_train))+1))\n",
        "y_onehot_train[np.arange(y_cat_train.size), y_cat_train] = 1\n",
        "\n",
        "y_cat_val = y_cat_val.astype(int)\n",
        "y_onehot_val = np.zeros((y_cat_val.size, int(np.max(y_cat_val))+1))\n",
        "y_onehot_val[np.arange(y_cat_val.size), y_cat_val] = 1\n",
        "\n",
        "y_cat_test = y_cat_test.astype(int)\n",
        "y_onehot_test = np.zeros((y_cat_test.size, int(np.max(y_cat_test))+1))\n",
        "y_onehot_test[np.arange(y_cat_test.size), y_cat_test] = 1\n",
        "\n",
        "# implement your solution ABOVE\n",
        "\n",
        "tester.test('cl_onehot', y_onehot_train, y_onehot_val, y_onehot_test)"
      ],
      "execution_count": 15,
      "outputs": [
        {
          "output_type": "stream",
          "text": [
            "Tester: One-hot conversion OK\n"
          ],
          "name": "stdout"
        }
      ]
    },
    {
      "cell_type": "markdown",
      "metadata": {
        "id": "9xdtHfyrwexF",
        "colab_type": "text"
      },
      "source": [
        "## **H**: A klasszifikációs neuronháló definiálása Keras-ban \n",
        "\n",
        "Használd a `keras.models.Sequential()` osztályt a háló definiálásához! A háló architektúráját az alábbiak alapján alakítsd ki:\n",
        "- **H/1**: Kétrétegű háló, az első réteg neuronjainak száma 50, aktivációs függvénye ReLU. Az első réteg után alkalmazz dropout-ot neurononként 30%-os valószínűséggel.\n",
        "- **H/2**: Négyrétegű háló, a neuronok száma rendre 20, 20, 10, aktivációs függvényük ReLU. Az egyes rétegek közé tégy dropout rétegeket, melyek 20%-os valószínűséggel nulláznak ki egy-egy elemet.\n",
        "- **H/3**: Háromrétegű háló, a neuronok száma rendre 50, 30. Aktivációs függvényként használj sorban tanh-t, majd ReLU-t.\n",
        "\n",
        "Minden esetben csak teljesen összekötött (dense) rétegeket, valamint dropout rétegeket kell használnod. Az aktivációs függvényeket a segédanyag notebook-okban látható módon, a telejesen összekötött rétegek `activation` paramétereként add meg (azaz most ne használj külön Acitvation rétegeket). A rétegek számába beleértendő a kimenetre képző, utolsó réteg is, melynek méretét a címke mérete határozza meg. Alkalmazd a tanult aktivációs függvényt az utolsó rétegen, függően a feladat típusától.\n",
        "A modellt fordítsd le a `compile()` függvény segítségével: a költségfüggvény legyen a szokásos, multi-class klasszifikációhoz használatos (categorical) crossentropy, optimizer algoritmusként pedig alkalmazd az SGD algoritmust megfelelő tanulási rátával! \n",
        "A klasszifikációs neuronhálót tartalmazó keras.models.Sequential() típusú változót nevezd el `cl_model`-nek. "
      ]
    },
    {
      "cell_type": "code",
      "metadata": {
        "id": "30Iwot3xxVXI",
        "colab_type": "code",
        "outputId": "53c5dd52-a656-4179-d89d-e12df8778312",
        "colab": {
          "base_uri": "https://localhost:8080/",
          "height": 435
        }
      },
      "source": [
        "# implement your solution BELOW\n",
        "\n",
        "cl_model = tf.keras.models.Sequential()\n",
        "cl_model.add(tf.keras.layers.Dense(20, activation='relu', input_dim=x_train.shape[1]))\n",
        "cl_model.add(tf.keras.layers.Dropout(rate=0.2))\n",
        "cl_model.add(tf.keras.layers.Dense(20, activation='relu'))\n",
        "cl_model.add(tf.keras.layers.Dropout(rate=0.2))\n",
        "cl_model.add(tf.keras.layers.Dense(10, activation='relu'))\n",
        "cl_model.add(tf.keras.layers.Dropout(rate=0.2))\n",
        "cl_model.add(tf.keras.layers.Dense(3, activation='softmax'))\n",
        "\n",
        "cl_model.summary()\n",
        "cl_model.compile(optimizer=tf.keras.optimizers.SGD(learning_rate=0.01), loss='categorical_crossentropy', metrics=['accuracy'])\n",
        "\n",
        "# implement your solution ABOVE\n",
        "\n",
        "tester.test('cl_model_architecture', cl_model)"
      ],
      "execution_count": 31,
      "outputs": [
        {
          "output_type": "stream",
          "text": [
            "Model: \"sequential_6\"\n",
            "_________________________________________________________________\n",
            "Layer (type)                 Output Shape              Param #   \n",
            "=================================================================\n",
            "dense_20 (Dense)             (None, 20)                620       \n",
            "_________________________________________________________________\n",
            "dropout_14 (Dropout)         (None, 20)                0         \n",
            "_________________________________________________________________\n",
            "dense_21 (Dense)             (None, 20)                420       \n",
            "_________________________________________________________________\n",
            "dropout_15 (Dropout)         (None, 20)                0         \n",
            "_________________________________________________________________\n",
            "dense_22 (Dense)             (None, 10)                210       \n",
            "_________________________________________________________________\n",
            "dropout_16 (Dropout)         (None, 10)                0         \n",
            "_________________________________________________________________\n",
            "dense_23 (Dense)             (None, 3)                 33        \n",
            "=================================================================\n",
            "Total params: 1,283\n",
            "Trainable params: 1,283\n",
            "Non-trainable params: 0\n",
            "_________________________________________________________________\n",
            "Tester: Classification model architecture OK\n"
          ],
          "name": "stdout"
        }
      ]
    },
    {
      "cell_type": "markdown",
      "metadata": {
        "id": "7uowunGxa2Mq",
        "colab_type": "text"
      },
      "source": [
        "## **I**: A háló betanítása (multi-class) klasszifikációs feladatra\n",
        "\n",
        "Tanítsd be a neuronhálót a tanítóhalmazon! Használj early stopping-ot a validációs halmazzal! A tanulási rátát, epoch-ok maximális számát, a batch méretet, az early stopping `patience` paraméterét szabadon átállíthatod. Próbálgathatsz különböző kombinációkat, hogy jobb eredményt érj el.\n",
        "\n",
        "- Rajzold ki, hogyan alakult a tanulási és validációs költség a betanítás során! Ehhez használhatod a `matplotlib` könyvtárat, példát találsz az MLP segédanyag notebookokban. \n",
        "- A crossentropy költség mellett a helyesen klasszifikált mintaelemek arányának (accuracy) tanító- és validációs halmazon történő alakulását is rajzold ki egy másik grafikonon! A grafikonok y tengelyének megjelenített értékhatárait úgy állítsd be, hogy mindegyik idősor látható legyen és könnyen ki lehessen venni a költségek alakulását a tanítás vége felé is!\n",
        "- Számold ki a betanított modell crossentropy költségét és az accuracy-t a teszthalamzon, majd add értékül ezeket az értékeket a `test_ce` és `test_acc` változóknak!\n",
        "- Az accuracy megtévesztő lehet, hiszen nem tudjuk mennyi elemünk van az egyes kategóriákban. Ha a kategóriák előfordulási gyakorisága nagyon különböző, az accuracy metrika jelentősen torzulhat. Számolj balanced (kiegyensúlyozott) accuracy-t és add értékül a `test_balanced_acc` változónak. A számoláshoz az alábbi képletet használhatod:\n",
        "\n",
        "$$\\textrm{balanced_accuracy} = \\frac{1}{k}\\sum_{i=1}^{k}\\frac{|\\{\\ j\\ |\\ \\hat{y}^{(j)} = y^{(j)} = i\\}|}{|\\{\\ j\\ |\\ y^{(j)} = i\\}|}$$\n",
        "\n",
        "Azaz, a balanced accuracy a $k$ darab kategória felett átlagolja az egyes kategóriákra vonatkozó accuracy-kat (az arányokat, hogy az adott kategóriába tartozó elemeket helyesen klasszifikáltuk-e)."
      ]
    },
    {
      "cell_type": "code",
      "metadata": {
        "id": "LHWZ8AN2oGoP",
        "colab_type": "code",
        "outputId": "9eb68c97-43c9-45fe-8082-cf6d89d4a861",
        "colab": {
          "base_uri": "https://localhost:8080/",
          "height": 1000
        }
      },
      "source": [
        "# implement your solution BELOW\n",
        "\n",
        "earlystopping_callback = tf.keras.callbacks.EarlyStopping(monitor='val_loss',\\\n",
        "                                                       patience=10,  restore_best_weights=True)\n",
        "\n",
        "history = cl_model.fit(x_train, y_onehot_train, validation_data=(x_val, y_onehot_val),\\\n",
        "                        batch_size=64, epochs=200, callbacks=[earlystopping_callback])\n",
        "\n",
        "tr_losses = history.history['loss']\n",
        "val_losses = history.history['val_loss']\n",
        "\n",
        "plt.figure(figsize=(10, 4))\n",
        "plt.subplot(1, 2, 1)\n",
        "plt.plot(tr_losses, label=\"J_train\")\n",
        "plt.plot(val_losses, label=\"J_val\")\n",
        "plt.xlabel(\"Number of epochs\")\n",
        "plt.ylabel(\"Cost (J)\")\n",
        "plt.legend()\n",
        "\n",
        "tr_accuracy = history.history['accuracy']\n",
        "val_accuracy = history.history['val_accuracy']\n",
        "\n",
        "plt.subplot(1, 2, 2)\n",
        "plt.plot(tr_accuracy, label=\"train_acc\")\n",
        "plt.plot(val_accuracy, label=\"val_acc\")\n",
        "plt.xlabel(\"Number of epochs\")\n",
        "plt.ylabel(\"Accuracy\")\n",
        "plt.legend()\n",
        "\n",
        "test_ce, test_acc = cl_model.evaluate(x_test, y_onehot_test, verbose=0)\n",
        "\n",
        "pred = np.round(cl_model.predict(x_test))\n",
        "test_balanced_acc = np.sum((pred - y_onehot_test) == 0 / y_onehot_test) / len(y_onehot_test)\n",
        "print(test_balanced_acc)\n",
        "# implement your solution ABOVE\n",
        "\n",
        "tester.test('cl_model_learning', test_ce, test_acc, test_balanced_acc)\n",
        "tester.print_all_tests_successful()"
      ],
      "execution_count": 32,
      "outputs": [
        {
          "output_type": "stream",
          "text": [
            "Epoch 1/200\n",
            "8/8 [==============================] - 0s 23ms/step - loss: 1.5118 - accuracy: 0.3128 - val_loss: 1.3841 - val_accuracy: 0.2577\n",
            "Epoch 2/200\n",
            "8/8 [==============================] - 0s 8ms/step - loss: 1.3722 - accuracy: 0.2885 - val_loss: 1.2767 - val_accuracy: 0.2577\n",
            "Epoch 3/200\n",
            "8/8 [==============================] - 0s 8ms/step - loss: 1.2668 - accuracy: 0.3172 - val_loss: 1.2256 - val_accuracy: 0.2680\n",
            "Epoch 4/200\n",
            "8/8 [==============================] - 0s 8ms/step - loss: 1.2643 - accuracy: 0.2952 - val_loss: 1.1802 - val_accuracy: 0.3711\n",
            "Epoch 5/200\n",
            "8/8 [==============================] - 0s 9ms/step - loss: 1.1686 - accuracy: 0.3172 - val_loss: 1.1598 - val_accuracy: 0.3711\n",
            "Epoch 6/200\n",
            "8/8 [==============================] - 0s 8ms/step - loss: 1.2288 - accuracy: 0.3172 - val_loss: 1.1372 - val_accuracy: 0.3711\n",
            "Epoch 7/200\n",
            "8/8 [==============================] - 0s 7ms/step - loss: 1.1165 - accuracy: 0.3767 - val_loss: 1.1308 - val_accuracy: 0.3608\n",
            "Epoch 8/200\n",
            "8/8 [==============================] - 0s 8ms/step - loss: 1.1613 - accuracy: 0.3194 - val_loss: 1.1228 - val_accuracy: 0.3505\n",
            "Epoch 9/200\n",
            "8/8 [==============================] - 0s 8ms/step - loss: 1.1752 - accuracy: 0.4009 - val_loss: 1.1166 - val_accuracy: 0.3711\n",
            "Epoch 10/200\n",
            "8/8 [==============================] - 0s 8ms/step - loss: 1.1475 - accuracy: 0.3524 - val_loss: 1.1120 - val_accuracy: 0.3608\n",
            "Epoch 11/200\n",
            "8/8 [==============================] - 0s 9ms/step - loss: 1.1237 - accuracy: 0.3502 - val_loss: 1.1029 - val_accuracy: 0.3711\n",
            "Epoch 12/200\n",
            "8/8 [==============================] - 0s 8ms/step - loss: 1.0935 - accuracy: 0.3656 - val_loss: 1.0971 - val_accuracy: 0.3711\n",
            "Epoch 13/200\n",
            "8/8 [==============================] - 0s 8ms/step - loss: 1.1176 - accuracy: 0.3722 - val_loss: 1.0946 - val_accuracy: 0.4021\n",
            "Epoch 14/200\n",
            "8/8 [==============================] - 0s 8ms/step - loss: 1.1223 - accuracy: 0.3326 - val_loss: 1.0871 - val_accuracy: 0.4124\n",
            "Epoch 15/200\n",
            "8/8 [==============================] - 0s 8ms/step - loss: 1.1285 - accuracy: 0.4097 - val_loss: 1.0828 - val_accuracy: 0.4330\n",
            "Epoch 16/200\n",
            "8/8 [==============================] - 0s 8ms/step - loss: 1.0927 - accuracy: 0.4031 - val_loss: 1.0808 - val_accuracy: 0.4330\n",
            "Epoch 17/200\n",
            "8/8 [==============================] - 0s 9ms/step - loss: 1.1063 - accuracy: 0.3921 - val_loss: 1.0771 - val_accuracy: 0.4433\n",
            "Epoch 18/200\n",
            "8/8 [==============================] - 0s 8ms/step - loss: 1.1096 - accuracy: 0.4229 - val_loss: 1.0765 - val_accuracy: 0.4433\n",
            "Epoch 19/200\n",
            "8/8 [==============================] - 0s 8ms/step - loss: 1.0785 - accuracy: 0.3987 - val_loss: 1.0738 - val_accuracy: 0.4536\n",
            "Epoch 20/200\n",
            "8/8 [==============================] - 0s 8ms/step - loss: 1.1007 - accuracy: 0.3965 - val_loss: 1.0710 - val_accuracy: 0.4536\n",
            "Epoch 21/200\n",
            "8/8 [==============================] - 0s 7ms/step - loss: 1.0901 - accuracy: 0.4383 - val_loss: 1.0720 - val_accuracy: 0.4536\n",
            "Epoch 22/200\n",
            "8/8 [==============================] - 0s 8ms/step - loss: 1.0694 - accuracy: 0.4009 - val_loss: 1.0693 - val_accuracy: 0.4536\n",
            "Epoch 23/200\n",
            "8/8 [==============================] - 0s 8ms/step - loss: 1.0523 - accuracy: 0.4559 - val_loss: 1.0690 - val_accuracy: 0.4536\n",
            "Epoch 24/200\n",
            "8/8 [==============================] - 0s 8ms/step - loss: 1.0783 - accuracy: 0.4163 - val_loss: 1.0683 - val_accuracy: 0.4639\n",
            "Epoch 25/200\n",
            "8/8 [==============================] - 0s 8ms/step - loss: 1.0885 - accuracy: 0.3921 - val_loss: 1.0680 - val_accuracy: 0.4536\n",
            "Epoch 26/200\n",
            "8/8 [==============================] - 0s 9ms/step - loss: 1.0802 - accuracy: 0.4295 - val_loss: 1.0645 - val_accuracy: 0.4742\n",
            "Epoch 27/200\n",
            "8/8 [==============================] - 0s 10ms/step - loss: 1.0696 - accuracy: 0.4229 - val_loss: 1.0645 - val_accuracy: 0.4536\n",
            "Epoch 28/200\n",
            "8/8 [==============================] - 0s 9ms/step - loss: 1.0927 - accuracy: 0.4185 - val_loss: 1.0617 - val_accuracy: 0.4639\n",
            "Epoch 29/200\n",
            "8/8 [==============================] - 0s 8ms/step - loss: 1.0645 - accuracy: 0.4075 - val_loss: 1.0606 - val_accuracy: 0.4536\n",
            "Epoch 30/200\n",
            "8/8 [==============================] - 0s 8ms/step - loss: 1.0515 - accuracy: 0.4251 - val_loss: 1.0586 - val_accuracy: 0.4639\n",
            "Epoch 31/200\n",
            "8/8 [==============================] - 0s 8ms/step - loss: 1.0545 - accuracy: 0.3965 - val_loss: 1.0580 - val_accuracy: 0.4639\n",
            "Epoch 32/200\n",
            "8/8 [==============================] - 0s 9ms/step - loss: 1.0580 - accuracy: 0.4273 - val_loss: 1.0549 - val_accuracy: 0.4433\n",
            "Epoch 33/200\n",
            "8/8 [==============================] - 0s 9ms/step - loss: 1.0857 - accuracy: 0.3965 - val_loss: 1.0533 - val_accuracy: 0.4639\n",
            "Epoch 34/200\n",
            "8/8 [==============================] - 0s 8ms/step - loss: 1.0984 - accuracy: 0.3921 - val_loss: 1.0506 - val_accuracy: 0.4536\n",
            "Epoch 35/200\n",
            "8/8 [==============================] - 0s 7ms/step - loss: 1.0771 - accuracy: 0.4119 - val_loss: 1.0517 - val_accuracy: 0.4639\n",
            "Epoch 36/200\n",
            "8/8 [==============================] - 0s 9ms/step - loss: 1.0562 - accuracy: 0.4229 - val_loss: 1.0483 - val_accuracy: 0.4536\n",
            "Epoch 37/200\n",
            "8/8 [==============================] - 0s 8ms/step - loss: 1.0705 - accuracy: 0.4383 - val_loss: 1.0450 - val_accuracy: 0.4639\n",
            "Epoch 38/200\n",
            "8/8 [==============================] - 0s 8ms/step - loss: 1.0350 - accuracy: 0.4339 - val_loss: 1.0439 - val_accuracy: 0.4639\n",
            "Epoch 39/200\n",
            "8/8 [==============================] - 0s 8ms/step - loss: 1.0920 - accuracy: 0.4229 - val_loss: 1.0441 - val_accuracy: 0.4639\n",
            "Epoch 40/200\n",
            "8/8 [==============================] - 0s 9ms/step - loss: 1.0274 - accuracy: 0.4581 - val_loss: 1.0421 - val_accuracy: 0.4639\n",
            "Epoch 41/200\n",
            "8/8 [==============================] - 0s 8ms/step - loss: 1.0438 - accuracy: 0.4141 - val_loss: 1.0406 - val_accuracy: 0.4742\n",
            "Epoch 42/200\n",
            "8/8 [==============================] - 0s 9ms/step - loss: 1.0584 - accuracy: 0.4736 - val_loss: 1.0385 - val_accuracy: 0.4742\n",
            "Epoch 43/200\n",
            "8/8 [==============================] - 0s 8ms/step - loss: 1.0803 - accuracy: 0.4229 - val_loss: 1.0377 - val_accuracy: 0.4639\n",
            "Epoch 44/200\n",
            "8/8 [==============================] - 0s 8ms/step - loss: 1.0330 - accuracy: 0.4471 - val_loss: 1.0369 - val_accuracy: 0.4639\n",
            "Epoch 45/200\n",
            "8/8 [==============================] - 0s 9ms/step - loss: 1.0364 - accuracy: 0.4537 - val_loss: 1.0350 - val_accuracy: 0.4639\n",
            "Epoch 46/200\n",
            "8/8 [==============================] - 0s 8ms/step - loss: 1.0332 - accuracy: 0.4581 - val_loss: 1.0334 - val_accuracy: 0.4639\n",
            "Epoch 47/200\n",
            "8/8 [==============================] - 0s 10ms/step - loss: 1.0195 - accuracy: 0.4207 - val_loss: 1.0320 - val_accuracy: 0.4639\n",
            "Epoch 48/200\n",
            "8/8 [==============================] - 0s 9ms/step - loss: 1.0649 - accuracy: 0.4493 - val_loss: 1.0300 - val_accuracy: 0.4742\n",
            "Epoch 49/200\n",
            "8/8 [==============================] - 0s 8ms/step - loss: 1.0376 - accuracy: 0.4537 - val_loss: 1.0298 - val_accuracy: 0.4639\n",
            "Epoch 50/200\n",
            "8/8 [==============================] - 0s 8ms/step - loss: 1.0345 - accuracy: 0.4493 - val_loss: 1.0275 - val_accuracy: 0.4742\n",
            "Epoch 51/200\n",
            "8/8 [==============================] - 0s 8ms/step - loss: 1.0189 - accuracy: 0.4780 - val_loss: 1.0264 - val_accuracy: 0.4639\n",
            "Epoch 52/200\n",
            "8/8 [==============================] - 0s 8ms/step - loss: 1.0151 - accuracy: 0.4802 - val_loss: 1.0265 - val_accuracy: 0.4639\n",
            "Epoch 53/200\n",
            "8/8 [==============================] - 0s 8ms/step - loss: 1.0467 - accuracy: 0.4251 - val_loss: 1.0255 - val_accuracy: 0.4639\n",
            "Epoch 54/200\n",
            "8/8 [==============================] - 0s 8ms/step - loss: 1.0138 - accuracy: 0.4493 - val_loss: 1.0238 - val_accuracy: 0.4742\n",
            "Epoch 55/200\n",
            "8/8 [==============================] - 0s 10ms/step - loss: 0.9994 - accuracy: 0.4758 - val_loss: 1.0215 - val_accuracy: 0.4742\n",
            "Epoch 56/200\n",
            "8/8 [==============================] - 0s 7ms/step - loss: 1.0467 - accuracy: 0.4559 - val_loss: 1.0219 - val_accuracy: 0.4742\n",
            "Epoch 57/200\n",
            "8/8 [==============================] - 0s 7ms/step - loss: 1.0184 - accuracy: 0.4604 - val_loss: 1.0226 - val_accuracy: 0.4845\n",
            "Epoch 58/200\n",
            "8/8 [==============================] - 0s 8ms/step - loss: 0.9872 - accuracy: 0.4714 - val_loss: 1.0215 - val_accuracy: 0.4742\n",
            "Epoch 59/200\n",
            "8/8 [==============================] - 0s 7ms/step - loss: 1.0221 - accuracy: 0.4692 - val_loss: 1.0226 - val_accuracy: 0.4845\n",
            "Epoch 60/200\n",
            "8/8 [==============================] - 0s 7ms/step - loss: 1.0319 - accuracy: 0.4736 - val_loss: 1.0215 - val_accuracy: 0.4845\n",
            "Epoch 61/200\n",
            "8/8 [==============================] - 0s 8ms/step - loss: 0.9975 - accuracy: 0.4581 - val_loss: 1.0198 - val_accuracy: 0.4845\n",
            "Epoch 62/200\n",
            "8/8 [==============================] - 0s 8ms/step - loss: 0.9860 - accuracy: 0.4934 - val_loss: 1.0176 - val_accuracy: 0.4742\n",
            "Epoch 63/200\n",
            "8/8 [==============================] - 0s 8ms/step - loss: 1.0398 - accuracy: 0.4493 - val_loss: 1.0187 - val_accuracy: 0.4845\n",
            "Epoch 64/200\n",
            "8/8 [==============================] - 0s 9ms/step - loss: 1.0491 - accuracy: 0.4736 - val_loss: 1.0152 - val_accuracy: 0.4639\n",
            "Epoch 65/200\n",
            "8/8 [==============================] - 0s 7ms/step - loss: 1.0285 - accuracy: 0.4978 - val_loss: 1.0170 - val_accuracy: 0.4742\n",
            "Epoch 66/200\n",
            "8/8 [==============================] - 0s 8ms/step - loss: 1.0310 - accuracy: 0.4648 - val_loss: 1.0162 - val_accuracy: 0.4742\n",
            "Epoch 67/200\n",
            "8/8 [==============================] - 0s 8ms/step - loss: 1.0116 - accuracy: 0.4934 - val_loss: 1.0161 - val_accuracy: 0.4845\n",
            "Epoch 68/200\n",
            "8/8 [==============================] - 0s 8ms/step - loss: 1.0226 - accuracy: 0.4868 - val_loss: 1.0135 - val_accuracy: 0.4742\n",
            "Epoch 69/200\n",
            "8/8 [==============================] - 0s 9ms/step - loss: 0.9935 - accuracy: 0.4604 - val_loss: 1.0115 - val_accuracy: 0.4845\n",
            "Epoch 70/200\n",
            "8/8 [==============================] - 0s 9ms/step - loss: 1.0120 - accuracy: 0.4670 - val_loss: 1.0107 - val_accuracy: 0.4845\n",
            "Epoch 71/200\n",
            "8/8 [==============================] - 0s 8ms/step - loss: 1.0354 - accuracy: 0.4736 - val_loss: 1.0109 - val_accuracy: 0.4845\n",
            "Epoch 72/200\n",
            "8/8 [==============================] - 0s 8ms/step - loss: 0.9724 - accuracy: 0.4802 - val_loss: 1.0077 - val_accuracy: 0.4845\n",
            "Epoch 73/200\n",
            "8/8 [==============================] - 0s 9ms/step - loss: 0.9925 - accuracy: 0.4714 - val_loss: 1.0065 - val_accuracy: 0.4742\n",
            "Epoch 74/200\n",
            "8/8 [==============================] - 0s 10ms/step - loss: 1.0020 - accuracy: 0.4934 - val_loss: 1.0058 - val_accuracy: 0.4845\n",
            "Epoch 75/200\n",
            "8/8 [==============================] - 0s 8ms/step - loss: 1.0114 - accuracy: 0.4604 - val_loss: 1.0052 - val_accuracy: 0.4948\n",
            "Epoch 76/200\n",
            "8/8 [==============================] - 0s 9ms/step - loss: 1.0050 - accuracy: 0.4890 - val_loss: 1.0051 - val_accuracy: 0.4948\n",
            "Epoch 77/200\n",
            "8/8 [==============================] - 0s 8ms/step - loss: 0.9981 - accuracy: 0.4956 - val_loss: 1.0054 - val_accuracy: 0.4948\n",
            "Epoch 78/200\n",
            "8/8 [==============================] - 0s 8ms/step - loss: 0.9789 - accuracy: 0.4868 - val_loss: 1.0034 - val_accuracy: 0.4948\n",
            "Epoch 79/200\n",
            "8/8 [==============================] - 0s 7ms/step - loss: 0.9910 - accuracy: 0.4604 - val_loss: 1.0048 - val_accuracy: 0.4845\n",
            "Epoch 80/200\n",
            "8/8 [==============================] - 0s 8ms/step - loss: 0.9887 - accuracy: 0.4846 - val_loss: 1.0052 - val_accuracy: 0.4948\n",
            "Epoch 81/200\n",
            "8/8 [==============================] - 0s 8ms/step - loss: 0.9994 - accuracy: 0.4912 - val_loss: 1.0050 - val_accuracy: 0.4845\n",
            "Epoch 82/200\n",
            "8/8 [==============================] - 0s 9ms/step - loss: 1.0229 - accuracy: 0.4758 - val_loss: 1.0031 - val_accuracy: 0.4845\n",
            "Epoch 83/200\n",
            "8/8 [==============================] - 0s 8ms/step - loss: 0.9943 - accuracy: 0.5176 - val_loss: 1.0034 - val_accuracy: 0.4845\n",
            "Epoch 84/200\n",
            "8/8 [==============================] - 0s 8ms/step - loss: 0.9975 - accuracy: 0.4978 - val_loss: 1.0020 - val_accuracy: 0.4845\n",
            "Epoch 85/200\n",
            "8/8 [==============================] - 0s 8ms/step - loss: 0.9879 - accuracy: 0.4868 - val_loss: 1.0003 - val_accuracy: 0.4948\n",
            "Epoch 86/200\n",
            "8/8 [==============================] - 0s 8ms/step - loss: 0.9519 - accuracy: 0.5000 - val_loss: 0.9983 - val_accuracy: 0.4948\n",
            "Epoch 87/200\n",
            "8/8 [==============================] - 0s 8ms/step - loss: 0.9777 - accuracy: 0.4934 - val_loss: 0.9982 - val_accuracy: 0.4948\n",
            "Epoch 88/200\n",
            "8/8 [==============================] - 0s 8ms/step - loss: 0.9770 - accuracy: 0.5176 - val_loss: 0.9975 - val_accuracy: 0.4845\n",
            "Epoch 89/200\n",
            "8/8 [==============================] - 0s 8ms/step - loss: 0.9513 - accuracy: 0.4471 - val_loss: 0.9969 - val_accuracy: 0.4845\n",
            "Epoch 90/200\n",
            "8/8 [==============================] - 0s 8ms/step - loss: 0.9963 - accuracy: 0.5198 - val_loss: 0.9953 - val_accuracy: 0.4845\n",
            "Epoch 91/200\n",
            "8/8 [==============================] - 0s 8ms/step - loss: 0.9747 - accuracy: 0.4912 - val_loss: 0.9938 - val_accuracy: 0.4845\n",
            "Epoch 92/200\n",
            "8/8 [==============================] - 0s 8ms/step - loss: 0.9327 - accuracy: 0.5044 - val_loss: 0.9953 - val_accuracy: 0.4845\n",
            "Epoch 93/200\n",
            "8/8 [==============================] - 0s 7ms/step - loss: 1.0152 - accuracy: 0.4912 - val_loss: 0.9940 - val_accuracy: 0.4845\n",
            "Epoch 94/200\n",
            "8/8 [==============================] - 0s 10ms/step - loss: 0.9743 - accuracy: 0.4978 - val_loss: 0.9926 - val_accuracy: 0.4948\n",
            "Epoch 95/200\n",
            "8/8 [==============================] - 0s 9ms/step - loss: 0.9294 - accuracy: 0.4978 - val_loss: 0.9920 - val_accuracy: 0.4742\n",
            "Epoch 96/200\n",
            "8/8 [==============================] - 0s 9ms/step - loss: 0.9056 - accuracy: 0.5154 - val_loss: 0.9904 - val_accuracy: 0.4845\n",
            "Epoch 97/200\n",
            "8/8 [==============================] - 0s 8ms/step - loss: 0.9690 - accuracy: 0.5308 - val_loss: 0.9915 - val_accuracy: 0.4742\n",
            "Epoch 98/200\n",
            "8/8 [==============================] - 0s 7ms/step - loss: 0.9701 - accuracy: 0.5419 - val_loss: 0.9909 - val_accuracy: 0.4639\n",
            "Epoch 99/200\n",
            "8/8 [==============================] - 0s 8ms/step - loss: 0.9727 - accuracy: 0.5264 - val_loss: 0.9903 - val_accuracy: 0.4639\n",
            "Epoch 100/200\n",
            "8/8 [==============================] - 0s 8ms/step - loss: 0.9918 - accuracy: 0.4868 - val_loss: 0.9883 - val_accuracy: 0.4639\n",
            "Epoch 101/200\n",
            "8/8 [==============================] - 0s 8ms/step - loss: 0.9714 - accuracy: 0.5000 - val_loss: 0.9871 - val_accuracy: 0.4639\n",
            "Epoch 102/200\n",
            "8/8 [==============================] - 0s 10ms/step - loss: 0.9620 - accuracy: 0.5022 - val_loss: 0.9856 - val_accuracy: 0.4639\n",
            "Epoch 103/200\n",
            "8/8 [==============================] - 0s 7ms/step - loss: 0.9741 - accuracy: 0.4956 - val_loss: 0.9865 - val_accuracy: 0.4742\n",
            "Epoch 104/200\n",
            "8/8 [==============================] - 0s 8ms/step - loss: 0.9914 - accuracy: 0.5000 - val_loss: 0.9858 - val_accuracy: 0.4742\n",
            "Epoch 105/200\n",
            "8/8 [==============================] - 0s 8ms/step - loss: 0.9966 - accuracy: 0.5374 - val_loss: 0.9836 - val_accuracy: 0.4845\n",
            "Epoch 106/200\n",
            "8/8 [==============================] - 0s 8ms/step - loss: 0.9871 - accuracy: 0.4846 - val_loss: 0.9820 - val_accuracy: 0.4639\n",
            "Epoch 107/200\n",
            "8/8 [==============================] - 0s 8ms/step - loss: 0.9566 - accuracy: 0.5198 - val_loss: 0.9810 - val_accuracy: 0.4639\n",
            "Epoch 108/200\n",
            "8/8 [==============================] - 0s 8ms/step - loss: 0.9671 - accuracy: 0.5088 - val_loss: 0.9804 - val_accuracy: 0.4742\n",
            "Epoch 109/200\n",
            "8/8 [==============================] - 0s 8ms/step - loss: 0.9709 - accuracy: 0.4978 - val_loss: 0.9800 - val_accuracy: 0.4742\n",
            "Epoch 110/200\n",
            "8/8 [==============================] - 0s 9ms/step - loss: 0.9466 - accuracy: 0.5066 - val_loss: 0.9793 - val_accuracy: 0.4845\n",
            "Epoch 111/200\n",
            "8/8 [==============================] - 0s 8ms/step - loss: 0.9746 - accuracy: 0.5242 - val_loss: 0.9794 - val_accuracy: 0.4845\n",
            "Epoch 112/200\n",
            "8/8 [==============================] - 0s 7ms/step - loss: 0.9560 - accuracy: 0.5198 - val_loss: 0.9810 - val_accuracy: 0.5052\n",
            "Epoch 113/200\n",
            "8/8 [==============================] - 0s 8ms/step - loss: 0.9665 - accuracy: 0.5220 - val_loss: 0.9800 - val_accuracy: 0.4948\n",
            "Epoch 114/200\n",
            "8/8 [==============================] - 0s 7ms/step - loss: 0.9518 - accuracy: 0.5308 - val_loss: 0.9795 - val_accuracy: 0.4948\n",
            "Epoch 115/200\n",
            "8/8 [==============================] - 0s 8ms/step - loss: 0.9431 - accuracy: 0.5132 - val_loss: 0.9780 - val_accuracy: 0.4948\n",
            "Epoch 116/200\n",
            "8/8 [==============================] - 0s 9ms/step - loss: 0.9234 - accuracy: 0.4912 - val_loss: 0.9776 - val_accuracy: 0.4948\n",
            "Epoch 117/200\n",
            "8/8 [==============================] - 0s 8ms/step - loss: 0.9557 - accuracy: 0.4890 - val_loss: 0.9778 - val_accuracy: 0.4948\n",
            "Epoch 118/200\n",
            "8/8 [==============================] - 0s 8ms/step - loss: 0.9441 - accuracy: 0.5308 - val_loss: 0.9773 - val_accuracy: 0.4948\n",
            "Epoch 119/200\n",
            "8/8 [==============================] - 0s 8ms/step - loss: 0.9456 - accuracy: 0.5264 - val_loss: 0.9766 - val_accuracy: 0.4948\n",
            "Epoch 120/200\n",
            "8/8 [==============================] - 0s 7ms/step - loss: 0.9556 - accuracy: 0.5264 - val_loss: 0.9775 - val_accuracy: 0.4948\n",
            "Epoch 121/200\n",
            "8/8 [==============================] - 0s 8ms/step - loss: 0.9807 - accuracy: 0.4912 - val_loss: 0.9788 - val_accuracy: 0.5052\n",
            "Epoch 122/200\n",
            "8/8 [==============================] - 0s 8ms/step - loss: 0.9536 - accuracy: 0.5044 - val_loss: 0.9754 - val_accuracy: 0.4948\n",
            "Epoch 123/200\n",
            "8/8 [==============================] - 0s 8ms/step - loss: 0.9374 - accuracy: 0.5242 - val_loss: 0.9742 - val_accuracy: 0.4948\n",
            "Epoch 124/200\n",
            "8/8 [==============================] - 0s 9ms/step - loss: 0.9773 - accuracy: 0.5374 - val_loss: 0.9733 - val_accuracy: 0.5052\n",
            "Epoch 125/200\n",
            "8/8 [==============================] - 0s 7ms/step - loss: 0.9627 - accuracy: 0.5286 - val_loss: 0.9736 - val_accuracy: 0.5052\n",
            "Epoch 126/200\n",
            "8/8 [==============================] - 0s 7ms/step - loss: 0.9570 - accuracy: 0.5330 - val_loss: 0.9743 - val_accuracy: 0.5155\n",
            "Epoch 127/200\n",
            "8/8 [==============================] - 0s 7ms/step - loss: 0.9635 - accuracy: 0.5661 - val_loss: 0.9748 - val_accuracy: 0.5052\n",
            "Epoch 128/200\n",
            "8/8 [==============================] - 0s 8ms/step - loss: 0.9596 - accuracy: 0.5352 - val_loss: 0.9731 - val_accuracy: 0.5052\n",
            "Epoch 129/200\n",
            "8/8 [==============================] - 0s 7ms/step - loss: 0.9779 - accuracy: 0.5242 - val_loss: 0.9721 - val_accuracy: 0.5155\n",
            "Epoch 130/200\n",
            "8/8 [==============================] - 0s 9ms/step - loss: 0.8901 - accuracy: 0.5507 - val_loss: 0.9728 - val_accuracy: 0.5155\n",
            "Epoch 131/200\n",
            "8/8 [==============================] - 0s 28ms/step - loss: 0.9416 - accuracy: 0.5308 - val_loss: 0.9716 - val_accuracy: 0.5155\n",
            "Epoch 132/200\n",
            "8/8 [==============================] - 0s 7ms/step - loss: 0.9625 - accuracy: 0.5308 - val_loss: 0.9716 - val_accuracy: 0.5155\n",
            "Epoch 133/200\n",
            "8/8 [==============================] - 0s 7ms/step - loss: 0.9601 - accuracy: 0.5463 - val_loss: 0.9735 - val_accuracy: 0.5155\n",
            "Epoch 134/200\n",
            "8/8 [==============================] - 0s 8ms/step - loss: 0.9296 - accuracy: 0.5374 - val_loss: 0.9738 - val_accuracy: 0.5155\n",
            "Epoch 135/200\n",
            "8/8 [==============================] - 0s 7ms/step - loss: 0.9482 - accuracy: 0.5110 - val_loss: 0.9724 - val_accuracy: 0.5155\n",
            "Epoch 136/200\n",
            "8/8 [==============================] - 0s 9ms/step - loss: 0.9370 - accuracy: 0.5507 - val_loss: 0.9717 - val_accuracy: 0.5155\n",
            "Epoch 137/200\n",
            "8/8 [==============================] - 0s 8ms/step - loss: 0.9246 - accuracy: 0.5419 - val_loss: 0.9705 - val_accuracy: 0.5155\n",
            "Epoch 138/200\n",
            "8/8 [==============================] - 0s 8ms/step - loss: 0.8965 - accuracy: 0.5374 - val_loss: 0.9697 - val_accuracy: 0.5155\n",
            "Epoch 139/200\n",
            "8/8 [==============================] - 0s 8ms/step - loss: 0.9747 - accuracy: 0.5617 - val_loss: 0.9659 - val_accuracy: 0.5155\n",
            "Epoch 140/200\n",
            "8/8 [==============================] - 0s 9ms/step - loss: 0.9287 - accuracy: 0.5441 - val_loss: 0.9654 - val_accuracy: 0.5155\n",
            "Epoch 141/200\n",
            "8/8 [==============================] - 0s 8ms/step - loss: 0.8991 - accuracy: 0.5242 - val_loss: 0.9645 - val_accuracy: 0.5155\n",
            "Epoch 142/200\n",
            "8/8 [==============================] - 0s 9ms/step - loss: 0.9854 - accuracy: 0.5573 - val_loss: 0.9639 - val_accuracy: 0.5155\n",
            "Epoch 143/200\n",
            "8/8 [==============================] - 0s 8ms/step - loss: 0.9136 - accuracy: 0.5595 - val_loss: 0.9653 - val_accuracy: 0.5155\n",
            "Epoch 144/200\n",
            "8/8 [==============================] - 0s 7ms/step - loss: 0.9325 - accuracy: 0.5198 - val_loss: 0.9639 - val_accuracy: 0.5155\n",
            "Epoch 145/200\n",
            "8/8 [==============================] - 0s 7ms/step - loss: 0.9381 - accuracy: 0.5198 - val_loss: 0.9644 - val_accuracy: 0.5155\n",
            "Epoch 146/200\n",
            "8/8 [==============================] - 0s 8ms/step - loss: 0.9131 - accuracy: 0.6101 - val_loss: 0.9647 - val_accuracy: 0.5155\n",
            "Epoch 147/200\n",
            "8/8 [==============================] - 0s 9ms/step - loss: 0.9059 - accuracy: 0.5396 - val_loss: 0.9624 - val_accuracy: 0.5155\n",
            "Epoch 148/200\n",
            "8/8 [==============================] - 0s 8ms/step - loss: 0.9186 - accuracy: 0.5286 - val_loss: 0.9592 - val_accuracy: 0.5155\n",
            "Epoch 149/200\n",
            "8/8 [==============================] - 0s 9ms/step - loss: 0.9087 - accuracy: 0.5176 - val_loss: 0.9583 - val_accuracy: 0.5155\n",
            "Epoch 150/200\n",
            "8/8 [==============================] - 0s 9ms/step - loss: 0.9252 - accuracy: 0.5419 - val_loss: 0.9589 - val_accuracy: 0.5155\n",
            "Epoch 151/200\n",
            "8/8 [==============================] - 0s 8ms/step - loss: 0.9275 - accuracy: 0.5661 - val_loss: 0.9570 - val_accuracy: 0.5155\n",
            "Epoch 152/200\n",
            "8/8 [==============================] - 0s 8ms/step - loss: 0.9468 - accuracy: 0.5198 - val_loss: 0.9560 - val_accuracy: 0.5155\n",
            "Epoch 153/200\n",
            "8/8 [==============================] - 0s 8ms/step - loss: 0.9260 - accuracy: 0.5264 - val_loss: 0.9562 - val_accuracy: 0.5155\n",
            "Epoch 154/200\n",
            "8/8 [==============================] - 0s 7ms/step - loss: 0.8934 - accuracy: 0.5330 - val_loss: 0.9564 - val_accuracy: 0.5155\n",
            "Epoch 155/200\n",
            "8/8 [==============================] - 0s 8ms/step - loss: 0.9819 - accuracy: 0.5330 - val_loss: 0.9536 - val_accuracy: 0.5258\n",
            "Epoch 156/200\n",
            "8/8 [==============================] - 0s 9ms/step - loss: 0.9354 - accuracy: 0.5551 - val_loss: 0.9525 - val_accuracy: 0.5258\n",
            "Epoch 157/200\n",
            "8/8 [==============================] - 0s 8ms/step - loss: 0.9189 - accuracy: 0.5551 - val_loss: 0.9520 - val_accuracy: 0.5258\n",
            "Epoch 158/200\n",
            "8/8 [==============================] - 0s 8ms/step - loss: 0.8978 - accuracy: 0.5441 - val_loss: 0.9507 - val_accuracy: 0.5258\n",
            "Epoch 159/200\n",
            "8/8 [==============================] - 0s 9ms/step - loss: 0.9644 - accuracy: 0.5132 - val_loss: 0.9508 - val_accuracy: 0.5052\n",
            "Epoch 160/200\n",
            "8/8 [==============================] - 0s 8ms/step - loss: 0.9136 - accuracy: 0.5793 - val_loss: 0.9520 - val_accuracy: 0.4948\n",
            "Epoch 161/200\n",
            "8/8 [==============================] - 0s 9ms/step - loss: 0.9127 - accuracy: 0.5198 - val_loss: 0.9503 - val_accuracy: 0.5052\n",
            "Epoch 162/200\n",
            "8/8 [==============================] - 0s 9ms/step - loss: 0.9378 - accuracy: 0.5396 - val_loss: 0.9478 - val_accuracy: 0.5155\n",
            "Epoch 163/200\n",
            "8/8 [==============================] - 0s 10ms/step - loss: 0.8924 - accuracy: 0.5573 - val_loss: 0.9469 - val_accuracy: 0.5258\n",
            "Epoch 164/200\n",
            "8/8 [==============================] - 0s 8ms/step - loss: 0.9144 - accuracy: 0.5441 - val_loss: 0.9477 - val_accuracy: 0.5052\n",
            "Epoch 165/200\n",
            "8/8 [==============================] - 0s 10ms/step - loss: 0.9020 - accuracy: 0.5793 - val_loss: 0.9474 - val_accuracy: 0.5052\n",
            "Epoch 166/200\n",
            "8/8 [==============================] - 0s 9ms/step - loss: 0.9162 - accuracy: 0.5529 - val_loss: 0.9456 - val_accuracy: 0.5052\n",
            "Epoch 167/200\n",
            "8/8 [==============================] - 0s 8ms/step - loss: 0.9174 - accuracy: 0.5551 - val_loss: 0.9457 - val_accuracy: 0.5052\n",
            "Epoch 168/200\n",
            "8/8 [==============================] - 0s 9ms/step - loss: 0.8923 - accuracy: 0.5551 - val_loss: 0.9446 - val_accuracy: 0.4948\n",
            "Epoch 169/200\n",
            "8/8 [==============================] - 0s 9ms/step - loss: 0.9440 - accuracy: 0.5374 - val_loss: 0.9417 - val_accuracy: 0.5052\n",
            "Epoch 170/200\n",
            "8/8 [==============================] - 0s 9ms/step - loss: 0.9424 - accuracy: 0.4890 - val_loss: 0.9405 - val_accuracy: 0.5155\n",
            "Epoch 171/200\n",
            "8/8 [==============================] - 0s 8ms/step - loss: 0.8759 - accuracy: 0.5683 - val_loss: 0.9390 - val_accuracy: 0.5052\n",
            "Epoch 172/200\n",
            "8/8 [==============================] - 0s 9ms/step - loss: 0.9507 - accuracy: 0.5441 - val_loss: 0.9366 - val_accuracy: 0.4948\n",
            "Epoch 173/200\n",
            "8/8 [==============================] - 0s 8ms/step - loss: 0.9342 - accuracy: 0.5441 - val_loss: 0.9380 - val_accuracy: 0.5052\n",
            "Epoch 174/200\n",
            "8/8 [==============================] - 0s 8ms/step - loss: 0.9299 - accuracy: 0.5110 - val_loss: 0.9366 - val_accuracy: 0.5155\n",
            "Epoch 175/200\n",
            "8/8 [==============================] - 0s 9ms/step - loss: 0.8810 - accuracy: 0.5595 - val_loss: 0.9381 - val_accuracy: 0.5052\n",
            "Epoch 176/200\n",
            "8/8 [==============================] - 0s 9ms/step - loss: 0.8847 - accuracy: 0.5705 - val_loss: 0.9396 - val_accuracy: 0.4948\n",
            "Epoch 177/200\n",
            "8/8 [==============================] - 0s 9ms/step - loss: 0.9016 - accuracy: 0.5441 - val_loss: 0.9379 - val_accuracy: 0.4948\n",
            "Epoch 178/200\n",
            "8/8 [==============================] - 0s 8ms/step - loss: 0.8889 - accuracy: 0.5969 - val_loss: 0.9385 - val_accuracy: 0.5155\n",
            "Epoch 179/200\n",
            "8/8 [==============================] - 0s 8ms/step - loss: 0.9309 - accuracy: 0.5330 - val_loss: 0.9374 - val_accuracy: 0.5052\n",
            "Epoch 180/200\n",
            "8/8 [==============================] - 0s 8ms/step - loss: 0.8686 - accuracy: 0.5881 - val_loss: 0.9371 - val_accuracy: 0.5155\n",
            "Epoch 181/200\n",
            "8/8 [==============================] - 0s 9ms/step - loss: 0.8881 - accuracy: 0.5441 - val_loss: 0.9362 - val_accuracy: 0.5155\n",
            "Epoch 182/200\n",
            "8/8 [==============================] - 0s 9ms/step - loss: 0.8739 - accuracy: 0.5683 - val_loss: 0.9354 - val_accuracy: 0.5155\n",
            "Epoch 183/200\n",
            "8/8 [==============================] - 0s 9ms/step - loss: 0.9088 - accuracy: 0.5683 - val_loss: 0.9337 - val_accuracy: 0.5052\n",
            "Epoch 184/200\n",
            "8/8 [==============================] - 0s 9ms/step - loss: 0.8977 - accuracy: 0.5617 - val_loss: 0.9331 - val_accuracy: 0.5052\n",
            "Epoch 185/200\n",
            "8/8 [==============================] - 0s 8ms/step - loss: 0.9262 - accuracy: 0.5595 - val_loss: 0.9324 - val_accuracy: 0.5155\n",
            "Epoch 186/200\n",
            "8/8 [==============================] - 0s 8ms/step - loss: 0.9098 - accuracy: 0.5330 - val_loss: 0.9310 - val_accuracy: 0.5052\n",
            "Epoch 187/200\n",
            "8/8 [==============================] - 0s 9ms/step - loss: 0.9983 - accuracy: 0.5661 - val_loss: 0.9317 - val_accuracy: 0.5155\n",
            "Epoch 188/200\n",
            "8/8 [==============================] - 0s 9ms/step - loss: 0.9283 - accuracy: 0.5507 - val_loss: 0.9315 - val_accuracy: 0.5052\n",
            "Epoch 189/200\n",
            "8/8 [==============================] - 0s 9ms/step - loss: 0.8524 - accuracy: 0.5507 - val_loss: 0.9294 - val_accuracy: 0.5052\n",
            "Epoch 190/200\n",
            "8/8 [==============================] - 0s 9ms/step - loss: 0.8779 - accuracy: 0.5947 - val_loss: 0.9291 - val_accuracy: 0.5052\n",
            "Epoch 191/200\n",
            "8/8 [==============================] - 0s 8ms/step - loss: 0.9143 - accuracy: 0.5507 - val_loss: 0.9293 - val_accuracy: 0.5052\n",
            "Epoch 192/200\n",
            "8/8 [==============================] - 0s 9ms/step - loss: 0.8865 - accuracy: 0.5793 - val_loss: 0.9287 - val_accuracy: 0.5052\n",
            "Epoch 193/200\n",
            "8/8 [==============================] - 0s 8ms/step - loss: 0.9135 - accuracy: 0.5507 - val_loss: 0.9291 - val_accuracy: 0.5052\n",
            "Epoch 194/200\n",
            "8/8 [==============================] - 0s 8ms/step - loss: 0.9215 - accuracy: 0.5374 - val_loss: 0.9297 - val_accuracy: 0.5052\n",
            "Epoch 195/200\n",
            "8/8 [==============================] - 0s 9ms/step - loss: 0.9029 - accuracy: 0.5330 - val_loss: 0.9278 - val_accuracy: 0.5052\n",
            "Epoch 196/200\n",
            "8/8 [==============================] - 0s 10ms/step - loss: 0.9257 - accuracy: 0.5529 - val_loss: 0.9296 - val_accuracy: 0.5052\n",
            "Epoch 197/200\n",
            "8/8 [==============================] - 0s 8ms/step - loss: 0.8790 - accuracy: 0.5485 - val_loss: 0.9291 - val_accuracy: 0.5155\n",
            "Epoch 198/200\n",
            "8/8 [==============================] - 0s 9ms/step - loss: 0.9119 - accuracy: 0.5595 - val_loss: 0.9300 - val_accuracy: 0.5052\n",
            "Epoch 199/200\n",
            "8/8 [==============================] - 0s 8ms/step - loss: 0.9428 - accuracy: 0.5374 - val_loss: 0.9311 - val_accuracy: 0.5052\n",
            "Epoch 200/200\n",
            "8/8 [==============================] - 0s 9ms/step - loss: 0.9237 - accuracy: 0.5551 - val_loss: 0.9302 - val_accuracy: 0.5155\n",
            "0.23469387755102042\n",
            "Tester: Classification model learning OK\n",
            "Tester: All tests were successful.\n"
          ],
          "name": "stdout"
        },
        {
          "output_type": "stream",
          "text": [
            "/usr/local/lib/python3.6/dist-packages/ipykernel_launcher.py:30: RuntimeWarning: invalid value encountered in true_divide\n"
          ],
          "name": "stderr"
        },
        {
          "output_type": "display_data",
          "data": {
            "image/png": "[encoded data removed]",
            "text/plain": [
              "<Figure size 720x288 with 2 Axes>"
            ]
          },
          "metadata": {
            "tags": [],
            "needs_background": "light"
          }
        }
      ]
    },
    {
      "cell_type": "code",
      "metadata": {
        "id": "sq1-LQ7fh1xS",
        "colab_type": "code",
        "colab": {}
      },
      "source": [
        ""
      ],
      "execution_count": 0,
      "outputs": []
    }
  ]
}